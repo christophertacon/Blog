{
 "cells": [
  {
   "cell_type": "markdown",
   "metadata": {
    "nbpresent": {
     "id": "notebook_title"
    }
   },
   "source": [
    "## Jupyter Notebook - nbval"
   ]
  },
  {
   "cell_type": "markdown",
   "metadata": {
    "nbpresent": {
     "id": "b121b1d6-a29d-4e9c-bddd-76e20ed5dad2"
    }
   },
   "source": [
    "- Basic cell execution\n",
    "- *Skipping cells*\n",
    "- Exceptions"
   ]
  },
  {
   "cell_type": "markdown",
   "metadata": {
    "nbpresent": {
     "id": "element_hrule"
    }
   },
   "source": [
    "##### -----------------------------------------------------------------------------------------------------------------------------"
   ]
  },
  {
   "cell_type": "markdown",
   "metadata": {
    "nbpresent": {
     "id": "element_hrule2"
    }
   },
   "source": [
    "##### -----------------------------------------------------------------------------------------------------------------------------"
   ]
  },
  {
   "cell_type": "markdown",
   "metadata": {
    "nbpresent": {
     "id": "element_hrule3"
    }
   },
   "source": [
    "##### -----------------------------------------------------------------------------------------------------------------------------"
   ]
  },
  {
   "cell_type": "markdown",
   "metadata": {
    "nbpresent": {
     "id": "cell_title_skippingcells"
    }
   },
   "source": [
    "## Skipping Cells"
   ]
  },
  {
   "cell_type": "markdown",
   "metadata": {
    "nbpresent": {
     "id": "label_marker"
    }
   },
   "source": [
    "#### Marker"
   ]
  },
  {
   "cell_type": "markdown",
   "metadata": {
    "nbpresent": {
     "id": "cell_marker_skippingcells"
    }
   },
   "source": [
    "`# NBVAL_SKIP`"
   ]
  },
  {
   "cell_type": "markdown",
   "metadata": {
    "nbpresent": {
     "id": "label_input"
    }
   },
   "source": [
    "#### Input"
   ]
  },
  {
   "cell_type": "markdown",
   "metadata": {
    "nbpresent": {
     "id": "label_output"
    }
   },
   "source": [
    "#### Output"
   ]
  },
  {
   "cell_type": "markdown",
   "metadata": {
    "nbpresent": {
     "id": "label_test"
    }
   },
   "source": [
    "#### Test"
   ]
  },
  {
   "cell_type": "markdown",
   "metadata": {
    "nbpresent": {
     "id": "label_testoutput"
    }
   },
   "source": [
    "#### Test Output:"
   ]
  },
  {
   "cell_type": "code",
   "execution_count": 7,
   "metadata": {
    "collapsed": false,
    "nbpresent": {
     "id": "cell_content_skippingcells"
    }
   },
   "outputs": [
    {
     "data": {
      "text/plain": [
       "0.9600828132887814"
      ]
     },
     "execution_count": 7,
     "metadata": {},
     "output_type": "execute_result"
    }
   ],
   "source": [
    "# NBVAL_SKIP\n",
    "import random\n",
    "random.random()"
   ]
  },
  {
   "cell_type": "markdown",
   "metadata": {
    "collapsed": true,
    "nbpresent": {
     "id": "footer_authors"
    }
   },
   "source": [
    "<h6 align=right> James Bailey  & Marian Daogaru </h6>"
   ]
  },
  {
   "cell_type": "markdown",
   "metadata": {
    "collapsed": true,
    "nbpresent": {
     "id": "footer_title"
    }
   },
   "source": [
    "###### Jupyter Notebooks - nbval"
   ]
  },
  {
   "cell_type": "code",
   "execution_count": 15,
   "metadata": {
    "collapsed": false,
    "nbpresent": {
     "id": "cell_test_skippingcells"
    }
   },
   "outputs": [
    {
     "name": "stdout",
     "output_type": "stream",
     "text": [
      "\u001b[1m============================= test session starts ==============================\u001b[0m\n",
      "platform darwin -- Python 3.5.2, pytest-3.0.6, py-1.4.32, pluggy-0.4.0 -- /Users/jamesbailey/anaconda/envs/py35/bin/python\n",
      "cachedir: .cache\n",
      "rootdir: /Users/jamesbailey/Documents/FEEG6003_blog/tools/JupyterNotebooks/Teaching_Material/Example_Notebooks, inifile: \n",
      "plugins: nbval-0.5\n",
      "collected 1 items \u001b[0m\u001b[1m\n",
      "\u001b[0m\n",
      "nbval_example_31.ipynb::Cell 0 \u001b[31mFAILED\u001b[0m\n",
      "\n",
      "=================================== FAILURES ===================================\n",
      "\u001b[1m\u001b[31m____________________________________ cell 0 ____________________________________\u001b[0m\n",
      "\u001b[91mNotebook cell execution failed\u001b[0m\n",
      "\u001b[94mCell 0: Cell outputs differ\n",
      "\n",
      "Input:\n",
      "\u001b[0m\n",
      "import random\n",
      "start = random.random()\n",
      "print(start)\n",
      "\n",
      "\u001b[94mTraceback:\u001b[94m mismatch 'text'\n",
      "\u001b[91m<<<<<<<<<<<< Reference output from ipynb file:\u001b[0m\n",
      "0.9994475113382012\n",
      "\n",
      "\u001b[91m============ disagrees with newly computed (test) output:  \u001b[0m\n",
      "0.635123494940308\n",
      "\n",
      "\u001b[91m>>>>>>>>>>>>\u001b[0m\u001b[0m\n",
      "\u001b[1m\u001b[31m=========================== 1 failed in 2.05 seconds ===========================\u001b[0m\n"
     ]
    }
   ],
   "source": [
    "!py.test --nbval -v nbval_example_31.ipynb"
   ]
  },
  {
   "cell_type": "code",
   "execution_count": null,
   "metadata": {
    "collapsed": true
   },
   "outputs": [],
   "source": []
  },
  {
   "cell_type": "markdown",
   "metadata": {
    "nbpresent": {
     "id": "uni_logo"
    }
   },
   "source": [
    "![unisoton](Teaching_material/img/unisoton.png)"
   ]
  },
  {
   "cell_type": "code",
   "execution_count": null,
   "metadata": {
    "collapsed": true
   },
   "outputs": [],
   "source": []
  }
 ],
 "metadata": {
  "anaconda-cloud": {},
  "celltoolbar": "Edit Metadata",
  "kernelspec": {
   "display_name": "Python [Root]",
   "language": "python",
   "name": "Python [Root]"
  },
  "language_info": {
   "codemirror_mode": {
    "name": "ipython",
    "version": 3
   },
   "file_extension": ".py",
   "mimetype": "text/x-python",
   "name": "python",
   "nbconvert_exporter": "python",
   "pygments_lexer": "ipython3",
   "version": "3.5.2"
  },
  "nbpresent": {
   "slides": {
    "slide_nbvalcontents": {
     "id": "slide_nbvalcontents",
     "prev": "slide_notebookcontent_2",
     "regions": {
      "51852887-dc6f-4dbb-a7ca-8b2fe05a4852": {
       "attrs": {
        "height": 0.09999999999999999,
        "width": 0.1500000000000003,
        "x": 0.8000000000000002,
        "y": 0.05
       },
       "content": {
        "cell": "uni_logo",
        "part": "source"
       },
       "id": "51852887-dc6f-4dbb-a7ca-8b2fe05a4852",
       "width": 0.2
      },
      "slide_content": {
       "attrs": {
        "height": 0.8,
        "width": 0.8,
        "x": 0.1,
        "y": 0.25
       },
       "content": {
        "cell": "b121b1d6-a29d-4e9c-bddd-76e20ed5dad2",
        "part": "whole"
       },
       "id": "slide_content"
      },
      "slide_element_hrule_1": {
       "attrs": {
        "height": 0.1,
        "width": 0.8,
        "x": 0.1,
        "y": 0.18544726301735648
       },
       "content": {
        "cell": "element_hrule",
        "part": "whole"
       },
       "id": "slide_element_hrule_1"
      },
      "slide_element_title": {
       "attrs": {
        "height": 0.11428571428571424,
        "width": 0.8,
        "x": 0.1,
        "y": 0.05
       },
       "content": {
        "cell": "notebook_title",
        "part": "whole"
       },
       "id": "slide_element_title"
      },
      "slide_footer_authors": {
       "attrs": {
        "height": 0.05,
        "width": 0.4,
        "x": 0.5,
        "y": 0.9
       },
       "content": {
        "cell": "footer_authors",
        "part": "whole"
       },
       "id": "slide_footer_authors"
      },
      "slide_footer_title": {
       "attrs": {
        "height": 0.05,
        "width": 0.4,
        "x": 0.1,
        "y": 0.9
       },
       "content": {
        "cell": "footer_title",
        "part": "whole"
       },
       "id": "slide_footer_title"
      }
     }
    },
    "slide_notebook_content_copy": {
     "id": "slide_notebook_content_copy",
     "prev": "slide_notebookcontent",
     "regions": {
      "slide_element_hrule_1": {
       "attrs": {
        "height": 0.1,
        "width": 0.8,
        "x": 0.1,
        "y": 0.34699599465954606
       },
       "content": {
        "cell": "element_hrule",
        "part": "whole"
       },
       "id": "slide_element_hrule_1"
      },
      "slide_element_hrule_2": {
       "attrs": {
        "height": 0.1,
        "width": 0.8,
        "x": 0.1,
        "y": 0.18544726301735648
       },
       "content": {
        "cell": "element_hrule2",
        "part": "whole"
       },
       "id": "slide_element_hrule_2"
      },
      "slide_element_hrule_3": {
       "attrs": {
        "height": 0.1,
        "width": 0.8,
        "x": 0.1,
        "y": 0.85
       },
       "content": {
        "cell": "element_hrule3",
        "part": "whole"
       },
       "id": "slide_element_hrule_2"
      },
      "slide_element_title": {
       "attrs": {
        "height": 0.11428571428571424,
        "width": 0.8,
        "x": 0.1,
        "y": 0.05
       },
       "content": {
        "cell": "cell_title_skippingcells",
        "part": "whole"
       },
       "id": "slide_element_title"
      },
      "slide_footer_authors": {
       "attrs": {
        "height": 0.05,
        "width": 0.4,
        "x": 0.5,
        "y": 0.9
       },
       "content": {
        "cell": "footer_authors",
        "part": "whole"
       },
       "id": "slide_footer_authors"
      },
      "slide_footer_title": {
       "attrs": {
        "height": 0.05,
        "width": 0.4,
        "x": 0.1,
        "y": 0.9
       },
       "content": {
        "cell": "footer_title",
        "part": "whole"
       },
       "id": "slide_footer_title"
      },
      "slide_label_input": {
       "attrs": {
        "height": 0.06568758344459286,
        "width": 0.2,
        "x": 0.1,
        "y": 0.4
       },
       "content": {
        "cell": "label_input",
        "part": "whole"
       },
       "id": "slide_region_input"
      },
      "slide_label_marker": {
       "attrs": {
        "height": 0.1,
        "width": 0.2,
        "x": 0.1,
        "y": 0.25
       },
       "content": {
        "cell": "label_marker",
        "part": "whole"
       },
       "id": "slide_label_marker"
      },
      "slide_label_output": {
       "attrs": {
        "height": 0.2,
        "width": 0.2,
        "x": 0.1,
        "y": 0.65
       },
       "content": {
        "cell": "label_output",
        "part": "whole"
       },
       "id": "slide_region_output"
      },
      "slide_region_input": {
       "attrs": {
        "height": 0.2,
        "width": 0.6,
        "x": 0.3,
        "y": 0.4
       },
       "content": {
        "cell": "cell_content_skippingcells",
        "part": "source"
       },
       "id": "slide_region_input"
      },
      "slide_region_marker": {
       "attrs": {
        "height": 0.1,
        "width": 0.6,
        "x": 0.3,
        "y": 0.25
       },
       "content": {
        "cell": "cell_marker_skippingcells",
        "part": "whole"
       },
       "id": "slide_region_marker"
      },
      "slide_region_output": {
       "attrs": {
        "height": 0.2,
        "width": 0.6,
        "x": 0.3,
        "y": 0.65
       },
       "content": {
        "cell": "cell_content_skippingcells",
        "part": "outputs"
       },
       "id": "slide_region_output"
      }
     },
     "theme": "7587ece6-934f-46a7-b133-fffeb817d66a"
    },
    "slide_notebookcontent": {
     "id": "slide_notebookcontent",
     "prev": null,
     "regions": {
      "bf4dcc2a-9aaa-4964-a1e6-414a67915de0": {
       "attrs": {
        "height": 0.1,
        "width": 0.1499999999999998,
        "x": 0.8000000000000003,
        "y": 0.05
       },
       "content": {
        "cell": "uni_logo",
        "part": "source"
       },
       "id": "bf4dcc2a-9aaa-4964-a1e6-414a67915de0"
      },
      "slide_element_hrule_1": {
       "attrs": {
        "height": 0.1,
        "width": 0.8,
        "x": 0.1,
        "y": 0.34699599465954606
       },
       "content": {
        "cell": "element_hrule",
        "part": "whole"
       },
       "id": "slide_element_hrule_1"
      },
      "slide_element_hrule_2": {
       "attrs": {
        "height": 0.1,
        "width": 0.8,
        "x": 0.1,
        "y": 0.18544726301735648
       },
       "content": {
        "cell": "element_hrule2",
        "part": "whole"
       },
       "id": "slide_element_hrule_2"
      },
      "slide_element_hrule_3": {
       "attrs": {
        "height": 0.1,
        "width": 0.8,
        "x": 0.1,
        "y": 0.85
       },
       "content": {
        "cell": "element_hrule3",
        "part": "whole"
       },
       "id": "slide_element_hrule_2"
      },
      "slide_element_title": {
       "attrs": {
        "height": 0.11428571428571424,
        "width": 0.8,
        "x": 0.1,
        "y": 0.05
       },
       "content": {
        "cell": "cell_title_skippingcells",
        "part": "whole"
       },
       "id": "slide_element_title"
      },
      "slide_footer_authors": {
       "attrs": {
        "height": 0.05,
        "width": 0.4,
        "x": 0.5,
        "y": 0.9
       },
       "content": {
        "cell": "footer_authors",
        "part": "whole"
       },
       "id": "slide_footer_authors"
      },
      "slide_footer_title": {
       "attrs": {
        "height": 0.05,
        "width": 0.4,
        "x": 0.1,
        "y": 0.9
       },
       "content": {
        "cell": "footer_title",
        "part": "whole"
       },
       "id": "slide_footer_title"
      },
      "slide_label_input": {
       "attrs": {
        "height": 0.06568758344459286,
        "width": 0.2,
        "x": 0.1,
        "y": 0.4
       },
       "content": {
        "cell": "label_input",
        "part": "whole"
       },
       "id": "slide_region_input"
      },
      "slide_label_marker": {
       "attrs": {
        "height": 0.1,
        "width": 0.2,
        "x": 0.1,
        "y": 0.25
       },
       "content": {
        "cell": "label_marker",
        "part": "whole"
       },
       "id": "slide_label_marker"
      },
      "slide_label_output": {
       "attrs": {
        "height": 0.2,
        "width": 0.2,
        "x": 0.1,
        "y": 0.65
       },
       "content": {
        "cell": "label_output",
        "part": "whole"
       },
       "id": "slide_region_output"
      },
      "slide_region_input": {
       "attrs": {
        "height": 0.2,
        "width": 0.6,
        "x": 0.3,
        "y": 0.4
       },
       "content": {
        "cell": "cell_content_skippingcells",
        "part": "source"
       },
       "id": "slide_region_input"
      },
      "slide_region_marker": {
       "attrs": {
        "height": 0.1,
        "width": 0.6,
        "x": 0.3,
        "y": 0.25
       },
       "content": {
        "cell": "cell_marker_skippingcells",
        "part": "whole"
       },
       "id": "slide_region_marker"
      },
      "slide_region_output": {
       "attrs": {
        "height": 0.2,
        "width": 0.6,
        "x": 0.3,
        "y": 0.65
       },
       "content": {
        "cell": "cell_content_skippingcells",
        "part": "outputs"
       },
       "id": "slide_region_output"
      }
     }
    },
    "slide_notebookcontent_2": {
     "id": "slide_notebookcontent_2",
     "prev": "slide_notebook_content_copy",
     "regions": {
      "25bef3fa-2120-4dff-b250-d4a3b724da1a": {
       "attrs": {
        "height": 0.09999999999999991,
        "width": 0.14999999999999997,
        "x": 0.8,
        "y": 0.05
       },
       "content": {
        "cell": "uni_logo",
        "part": "source"
       },
       "id": "25bef3fa-2120-4dff-b250-d4a3b724da1a"
      },
      "slide_element_hrule_1": {
       "attrs": {
        "height": 0.1,
        "width": 0.8,
        "x": 0.1,
        "y": 0.18544726301735648
       },
       "content": {
        "cell": "element_hrule",
        "part": "whole"
       },
       "id": "slide_element_hrule_1"
      },
      "slide_element_hrule_3": {
       "attrs": {
        "height": 0.1,
        "width": 0.8,
        "x": 0.1,
        "y": 0.85
       },
       "content": {
        "cell": "element_hrule3",
        "part": "whole"
       },
       "id": "slide_element_hrule_2"
      },
      "slide_element_title": {
       "attrs": {
        "height": 0.11428571428571424,
        "width": 0.8,
        "x": 0.1,
        "y": 0.05
       },
       "content": {
        "cell": "cell_title_skippingcells",
        "part": "whole"
       },
       "id": "slide_element_title"
      },
      "slide_footer_authors": {
       "attrs": {
        "height": 0.05,
        "width": 0.4,
        "x": 0.5,
        "y": 0.9
       },
       "content": {
        "cell": "footer_authors",
        "part": "whole"
       },
       "id": "slide_footer_authors"
      },
      "slide_footer_title": {
       "attrs": {
        "height": 0.05,
        "width": 0.4,
        "x": 0.1,
        "y": 0.9
       },
       "content": {
        "cell": "footer_title",
        "part": "whole"
       },
       "id": "slide_footer_title"
      },
      "slide_label_test": {
       "attrs": {
        "height": 0.1,
        "width": 0.2,
        "x": 0.1,
        "y": 0.25
       },
       "content": {
        "cell": "label_test",
        "part": "whole"
       },
       "id": "slide_label_test"
      },
      "slide_label_testoutput": {
       "attrs": {
        "height": 0.06568758344459286,
        "width": 0.4,
        "x": 0.1,
        "y": 0.32
       },
       "content": {
        "cell": "label_testoutput",
        "part": "whole"
       },
       "id": "slide_label_testoutput"
      },
      "slide_region_test": {
       "attrs": {
        "height": 0.1,
        "width": 0.6,
        "x": 0.3,
        "y": 0.25
       },
       "content": {
        "cell": "cell_test_skippingcells",
        "part": "source"
       },
       "id": "slide_region_test"
      },
      "slide_region_testoutput": {
       "attrs": {
        "height": 0.45,
        "width": 0.96,
        "x": 0.02,
        "y": 0.4
       },
       "content": {
        "cell": "cell_test_skippingcells",
        "part": "outputs"
       },
       "id": "slide_region_testoutput"
      }
     }
    }
   },
   "themes": {
    "default": "my-theme",
    "theme": {
     "7587ece6-934f-46a7-b133-fffeb817d66a": {
      "backgrounds": {
       "dc7afa04-bf90-40b1-82a5-726e3cff5267": {
        "background-color": "31af15d2-7e15-44c5-ab5e-e04b16a89eff",
        "id": "dc7afa04-bf90-40b1-82a5-726e3cff5267"
       }
      },
      "id": "7587ece6-934f-46a7-b133-fffeb817d66a",
      "palette": {
       "19cc588f-0593-49c9-9f4b-e4d7cc113b1c": {
        "id": "19cc588f-0593-49c9-9f4b-e4d7cc113b1c",
        "rgb": [
         252,
         252,
         252
        ]
       },
       "31af15d2-7e15-44c5-ab5e-e04b16a89eff": {
        "id": "31af15d2-7e15-44c5-ab5e-e04b16a89eff",
        "rgb": [
         68,
         68,
         68
        ]
       },
       "50f92c45-a630-455b-aec3-788680ec7410": {
        "id": "50f92c45-a630-455b-aec3-788680ec7410",
        "rgb": [
         197,
         226,
         245
        ]
       },
       "c5cc3653-2ee1-402a-aba2-7caae1da4f6c": {
        "id": "c5cc3653-2ee1-402a-aba2-7caae1da4f6c",
        "rgb": [
         43,
         126,
         184
        ]
       },
       "efa7f048-9acb-414c-8b04-a26811511a21": {
        "id": "efa7f048-9acb-414c-8b04-a26811511a21",
        "rgb": [
         25.118061674008803,
         73.60176211453744,
         107.4819383259912
        ]
       }
      },
      "rules": {
       "a": {
        "color": "19cc588f-0593-49c9-9f4b-e4d7cc113b1c"
       },
       "blockquote": {
        "color": "50f92c45-a630-455b-aec3-788680ec7410",
        "font-size": 3
       },
       "code": {
        "font-family": "Anonymous Pro"
       },
       "h1": {
        "color": "19cc588f-0593-49c9-9f4b-e4d7cc113b1c",
        "font-family": "Merriweather",
        "font-size": 8
       },
       "h2": {
        "color": "19cc588f-0593-49c9-9f4b-e4d7cc113b1c",
        "font-family": "Merriweather",
        "font-size": 6
       },
       "h3": {
        "color": "50f92c45-a630-455b-aec3-788680ec7410",
        "font-family": "Lato",
        "font-size": 5.5
       },
       "h4": {
        "color": "c5cc3653-2ee1-402a-aba2-7caae1da4f6c",
        "font-family": "Lato",
        "font-size": 5
       },
       "h5": {
        "font-family": "Lato"
       },
       "h6": {
        "font-family": "Lato"
       },
       "h7": {
        "font-family": "Lato"
       },
       "li": {
        "color": "50f92c45-a630-455b-aec3-788680ec7410",
        "font-size": 3.25
       },
       "pre": {
        "font-family": "Anonymous Pro",
        "font-size": 4
       }
      },
      "text-base": {
       "color": "19cc588f-0593-49c9-9f4b-e4d7cc113b1c",
       "font-family": "Lato",
       "font-size": 4
      }
     },
     "my-theme": {
      "backgrounds": {
       "my-background": {
        "background-color": "my-white"
       }
      },
      "id": "my-theme",
      "palette": {
       "my-black": {
        "id": "my-black",
        "rgb": [
         0,
         0,
         0
        ]
       },
       "my-blue": {
        "id": "my-blue",
        "rgb": [
         0,
         80,
         0
        ]
       },
       "my-testcolor": {
        "id": "my-testcolor",
        "rgb": [
         255,
         0,
         0
        ]
       },
       "my-white": {
        "id": "my-white",
        "rgb": [
         255,
         255,
         255
        ]
       }
      },
      "rules": {
       "h1": {
        "color": "my-black",
        "font-size": 10
       },
       "h2": {
        "color": "my-black",
        "font-size": 6
       },
       "h4": {
        "color": "my-black",
        "font-size": 4
       },
       "h5": {
        "color": "my-blue"
       },
       "li": {
        "color": "my-black",
        "font-size": 4
       },
       "p": {
        "color": "my-blue",
        "font-size": 5
       },
       "pre": {
        "color": "my-black",
        "font-size": 2.4
       }
      },
      "text-base": {
       "font-family": "Helvetica Neue",
       "font-size": 2
      }
     }
    }
   }
  }
 },
 "nbformat": 4,
 "nbformat_minor": 2
}
