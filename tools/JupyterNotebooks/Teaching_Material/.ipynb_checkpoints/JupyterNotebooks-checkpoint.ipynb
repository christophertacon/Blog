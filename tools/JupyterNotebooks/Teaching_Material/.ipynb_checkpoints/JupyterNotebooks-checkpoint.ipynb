{
 "cells": [
  {
   "cell_type": "markdown",
   "metadata": {},
   "source": [
    "# Jupyter Notebooks"
   ]
  },
  {
   "cell_type": "markdown",
   "metadata": {},
   "source": [
    "In this session we will cover:\n",
    "- Introduction to Jupyter Notebooks\n",
    "- nbconvert\n",
    "- nbdime\n",
    "- nbval"
   ]
  },
  {
   "cell_type": "markdown",
   "metadata": {},
   "source": [
    "---"
   ]
  },
  {
   "cell_type": "markdown",
   "metadata": {},
   "source": [
    "## 1. Preparation"
   ]
  },
  {
   "cell_type": "markdown",
   "metadata": {},
   "source": [
    "### 1.1 Pre-requisites\n",
    "- Jupyter Notebook\n",
    "- nbconvert\n",
    "- nbdime\n",
    "- nbval"
   ]
  },
  {
   "cell_type": "markdown",
   "metadata": {},
   "source": [
    "### 1.2 Installation Instructions\n",
    "If you already have the required packages installed or are using the pre-installed virtual machine you can skip these steps.\n",
    "\n",
    "#### Jupyter Notebook\n",
    "- **Anaconda** - Jupyter Notebook comes as part of the Anaconda distribution\n",
    "- **pip** - there is a metapackage called Jupyter which will install all of the necessary Jupyter packages\n",
    " - At the command line:\n",
    "  - `pip install jupyter`\n",
    "  \n",
    "#### nbval\n",
    "- **pip** - nbval can be installed through pip (`pip install nbval`), however we are showing some of the features which are not available in this release. We therefore ask you to clone the repository and install from the repository:\n",
    " - `git clone https://github.com/computationalmodelling/nbval`\n",
    " - `pip install .`"
   ]
  },
  {
   "cell_type": "markdown",
   "metadata": {},
   "source": [
    "### 1.3 Checking you're ready\n",
    "The following steps allow you to check that you have Jupyter Notebook installed correctly and have the additional packages we are going to show you.\n",
    "\n",
    "#### Opening Jupyter Notebook\n",
    "In a terminal window:\n",
    "\n",
    "`jupyter notebook`\n",
    " \n",
    "This should open an instance of Jupyter Notebook which usually open automatically in your browser. The Jupyter Notebook instance has the default address `http://localhost:8888/` so by typing this into your browser you should also be able to access a running Jupyter Notebook.\n",
    "\n",
    "#### nbval\n",
    "**Installation from repository** - from the top level of the cloned repository you can type \n",
    "\n",
    "`make test` \n",
    "\n",
    "to execute the tests for the package. You should get mostly passes with three skipped tests (we will learn more about this later). \n"
   ]
  },
  {
   "cell_type": "markdown",
   "metadata": {},
   "source": [
    "---"
   ]
  },
  {
   "cell_type": "markdown",
   "metadata": {},
   "source": [
    "## 2. Introduction to Jupyter Notebook"
   ]
  },
  {
   "cell_type": "markdown",
   "metadata": {},
   "source": [
    "The following sections are designed as an introduction to Jupyter Notebooks. If you are already familiar with Jupyter Notebook then you can skip this section.\n",
    "\n",
    "- opening Jupyter Notebook\n",
    "- creating a new notebook\n",
    "- renaming a notebook\n",
    "- executing code\n",
    "- executing Markdown"
   ]
  },
  {
   "cell_type": "markdown",
   "metadata": {},
   "source": [
    "### 2.1 Opening Jupyter Notebook"
   ]
  },
  {
   "cell_type": "markdown",
   "metadata": {
    "collapsed": true
   },
   "source": [
    "To start Jupyter Notebook, in a terminal window type:\n",
    "\n",
    " `jupyter notebook`\n",
    " \n",
    "This will open a menu containing the files currently in that directory. "
   ]
  },
  {
   "cell_type": "markdown",
   "metadata": {},
   "source": [
    "### 2.2 Creating a new Notebook\n",
    "To create a new Notebook go to the top right and press new, selecting *Python* from the drop down list. This will open a new Notebook. "
   ]
  },
  {
   "cell_type": "markdown",
   "metadata": {
    "collapsed": true
   },
   "source": [
    "### 2.3 Renaming a Notebook\n",
    "\n",
    "You can rename the Notebook by clicking where it currently says *Untitled* and entering your name for the file."
   ]
  },
  {
   "cell_type": "markdown",
   "metadata": {},
   "source": [
    "### 2.4 Executing Code"
   ]
  },
  {
   "cell_type": "markdown",
   "metadata": {},
   "source": [
    "From the toolbar click the plus to add a new cell. By default this a code cell and we can write code in this cell to be executed. Try typing:\n",
    "\n",
    "`print(\"Hello World\")`\n",
    "\n",
    "and click `Ctrl+Enter`. The cell below is setup for you to try this out."
   ]
  },
  {
   "cell_type": "code",
   "execution_count": 1,
   "metadata": {
    "collapsed": true
   },
   "outputs": [],
   "source": [
    "# Use this cell to print \"Hello World\""
   ]
  },
  {
   "cell_type": "markdown",
   "metadata": {},
   "source": [
    "#### Executing Markdown\n",
    "\n",
    "The type of content in a cell can be changed using the toolbar at the top. In a code cell click `code` in the toolbar and select `Markdown`. This makes the cell a Markdown cell and we can enter text which when executed is displayed to the screen. The cell below is setup for you to try writing some text and executing."
   ]
  },
  {
   "cell_type": "markdown",
   "metadata": {},
   "source": [
    "Try writing some text in here. "
   ]
  },
  {
   "cell_type": "markdown",
   "metadata": {},
   "source": [
    "Hopefully now you complete basic tasks in Jupyter Notebook like writing and executing code. The next sections present some of the additional tools available for Jupyer Notebook."
   ]
  },
  {
   "cell_type": "markdown",
   "metadata": {},
   "source": [
    "---"
   ]
  },
  {
   "cell_type": "markdown",
   "metadata": {},
   "source": [
    "## 3. nbconvert"
   ]
  },
  {
   "cell_type": "markdown",
   "metadata": {},
   "source": [
    "---"
   ]
  },
  {
   "cell_type": "markdown",
   "metadata": {},
   "source": [
    "## 4. nbdime"
   ]
  },
  {
   "cell_type": "markdown",
   "metadata": {},
   "source": [
    "---"
   ]
  },
  {
   "cell_type": "markdown",
   "metadata": {},
   "source": [
    "## 5. nbval"
   ]
  },
  {
   "cell_type": "markdown",
   "metadata": {},
   "source": []
  }
 ],
 "metadata": {
  "anaconda-cloud": {},
  "kernelspec": {
   "display_name": "Python [default]",
   "language": "python",
   "name": "python3"
  },
  "language_info": {
   "codemirror_mode": {
    "name": "ipython",
    "version": 3
   },
   "file_extension": ".py",
   "mimetype": "text/x-python",
   "name": "python",
   "nbconvert_exporter": "python",
   "pygments_lexer": "ipython3",
   "version": "3.5.2"
  }
 },
 "nbformat": 4,
 "nbformat_minor": 2
}
