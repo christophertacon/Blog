{
 "cells": [
  {
   "cell_type": "markdown",
   "metadata": {
    "nbpresent": {
     "id": "c9ef94df-9856-459c-8da6-7fe98badd14a"
    },
    "slideshow": {
     "slide_type": "-"
    }
   },
   "source": [
    "# nbval Examples\n",
    "\n",
    "This is a notebook which can be used to execute the tests for each of the example notebooks."
   ]
  },
  {
   "cell_type": "markdown",
   "metadata": {
    "nbpresent": {
     "id": "d0d9c764-a9b2-44bb-991e-104f05d367c6"
    }
   },
   "source": [
    "## Jupyter Notebook - nbval"
   ]
  },
  {
   "cell_type": "code",
   "execution_count": null,
   "metadata": {
    "collapsed": false,
    "nbpresent": {
     "id": "4464af66-ea99-4946-8a1c-d2a353904a1c"
    }
   },
   "outputs": [],
   "source": [
    "%%javascript\n",
    "nbpresent.mode.tree.set(\n",
    "    [\"app\", \"theme-manager\", \"themes\", \"my-theme\"], \n",
    "    {\n",
    "    palette: {\n",
    "        \"my-white\": {\n",
    "            id: \"my-white\",\n",
    "            rgb: [256, 256, 256]\n",
    "        },\n",
    "        \"my-black\": {\n",
    "            id: \"my-black\",\n",
    "            rgb: [255, 0, 0]\n",
    "        }\n",
    "    },\n",
    "    backgrounds: {\n",
    "        \"my-background\": {\n",
    "            \"background-color\": \"my-white\"\n",
    "        }\n",
    "    },\n",
    "    \"text-base\": {\n",
    "        \"font-family\": \"Anonymous Pro\",\n",
    "        \"font-size\": 8\n",
    "    },\n",
    "    rules: {\n",
    "        pre: {\n",
    "            \"font-size\": 10,\n",
    "            color: \"my-black\"\n",
    "        },\n",
    "        h1: {\n",
    "            \"font-size\": 10,\n",
    "            color: \"my-black\"\n",
    "        }\n",
    "    }\n",
    "});"
   ]
  },
  {
   "cell_type": "markdown",
   "metadata": {
    "nbpresent": {
     "id": "14fdccbe-f967-4594-9bb3-282d79efdf03"
    },
    "slideshow": {
     "slide_type": "subslide"
    }
   },
   "source": [
    "## Example 1 - Basic Cell Execution"
   ]
  },
  {
   "cell_type": "code",
   "execution_count": null,
   "metadata": {
    "collapsed": false,
    "nbpresent": {
     "id": "bf9b67cd-698b-412d-bc09-9b6f25cbc2af"
    }
   },
   "outputs": [],
   "source": [
    "!jupyter notebook Example_Notebooks/nbval_example_11.ipynb 1> /dev/null 2> /dev/null"
   ]
  },
  {
   "cell_type": "code",
   "execution_count": null,
   "metadata": {
    "collapsed": false,
    "nbpresent": {
     "id": "72ea1bf6-b45f-4998-8202-64217b45aadb"
    },
    "scrolled": true,
    "slideshow": {
     "slide_type": "subslide"
    }
   },
   "outputs": [],
   "source": [
    "!py.test --nbval -v Example_Notebooks/nbval_example_11.ipynb --tb=short"
   ]
  },
  {
   "cell_type": "code",
   "execution_count": null,
   "metadata": {
    "collapsed": false,
    "nbpresent": {
     "id": "8b3754a5-534d-4a32-a502-d9569eae29ea"
    }
   },
   "outputs": [],
   "source": [
    "!jupyter notebook Example_Notebooks/nbval_example_12.ipynb 1> /dev/null 2> /dev/null"
   ]
  },
  {
   "cell_type": "code",
   "execution_count": null,
   "metadata": {
    "collapsed": false,
    "nbpresent": {
     "id": "1bbd19a8-c408-41d5-ba3f-f08652541681"
    },
    "scrolled": true
   },
   "outputs": [],
   "source": [
    "!py.test --nbval Example_Notebooks/nbval_example_12.ipynb -v"
   ]
  },
  {
   "cell_type": "code",
   "execution_count": null,
   "metadata": {
    "collapsed": false
   },
   "outputs": [],
   "source": [
    "print(\"\\n\".join(test_output.get_list()[0:10]))"
   ]
  },
  {
   "cell_type": "code",
   "execution_count": null,
   "metadata": {
    "collapsed": false
   },
   "outputs": [],
   "source": [
    "print(\"\\n\".join(test_output.get_list()[11:]))"
   ]
  },
  {
   "cell_type": "markdown",
   "metadata": {
    "collapsed": true,
    "nbpresent": {
     "id": "c6d6ace9-b97f-4aff-87ed-a44c22b8fbdb"
    }
   },
   "source": [
    "## Example 2 - Skipping Cells"
   ]
  },
  {
   "cell_type": "code",
   "execution_count": 55,
   "metadata": {
    "collapsed": false,
    "nbpresent": {
     "id": "6884077e-242d-499b-91d5-7f4289de4765"
    }
   },
   "outputs": [
    {
     "name": "stdout",
     "output_type": "stream",
     "text": [
      "^C\r\n"
     ]
    }
   ],
   "source": [
    "!jupyter notebook Example_Notebooks/nbval_example_21.ipynb 1> /dev/null 2> /dev/null"
   ]
  },
  {
   "cell_type": "code",
   "execution_count": 58,
   "metadata": {
    "collapsed": false,
    "nbpresent": {
     "id": "3aee451e-c7a6-4c8c-ae12-147e4b38fb41"
    }
   },
   "outputs": [
    {
     "name": "stdout",
     "output_type": "stream",
     "text": [
      "\u001b[1m============================= test session starts ==============================\u001b[0m\n",
      "platform darwin -- Python 3.5.2, pytest-3.0.6, py-1.4.32, pluggy-0.4.0 -- /Users/jamesbailey/anaconda/envs/py35/bin/python\n",
      "cachedir: .cache\n",
      "rootdir: /Users/jamesbailey/Documents/FEEG6003_blog/tools/JupyterNotebooks/Teaching_Material, inifile: \n",
      "plugins: nbval-0.5\n",
      "collected 1 items \u001b[0m\u001b[1m\n",
      "\u001b[0m\n",
      "Example_Notebooks/nbval_example_21.ipynb::Cell 0 \u001b[33mSKIPPED\u001b[0m\n",
      "\n",
      "\u001b[1m\u001b[33m========================== 1 skipped in 2.08 seconds ===========================\u001b[0m\n"
     ]
    }
   ],
   "source": [
    "!py.test --nbval -v Example_Notebooks/nbval_example_21.ipynb"
   ]
  },
  {
   "cell_type": "markdown",
   "metadata": {
    "nbpresent": {
     "id": "2d8419c7-dd1c-4378-b173-6bbc779bdd10"
    }
   },
   "source": [
    "## Example 3 - Ignoring Output"
   ]
  },
  {
   "cell_type": "code",
   "execution_count": null,
   "metadata": {
    "collapsed": true,
    "nbpresent": {
     "id": "915963de-48af-40f9-b5f7-c5257b342192"
    }
   },
   "outputs": [],
   "source": [
    "!jupyter notebook Example_Notebooks/nbval_example_31.ipynb 1> /dev/null 2> /dev/null"
   ]
  },
  {
   "cell_type": "code",
   "execution_count": null,
   "metadata": {
    "collapsed": false,
    "nbpresent": {
     "id": "b0882058-ed9b-4da8-8440-86f7a8371d40"
    }
   },
   "outputs": [],
   "source": [
    "!py.test --nbval -v Example_Notebooks/nbval_example_31.ipynb"
   ]
  },
  {
   "cell_type": "markdown",
   "metadata": {
    "nbpresent": {
     "id": "05773443-e7c1-420a-9314-91303c67ca47"
    }
   },
   "source": [
    "## Example 4 - Handling Exceptions"
   ]
  },
  {
   "cell_type": "code",
   "execution_count": null,
   "metadata": {
    "collapsed": false,
    "nbpresent": {
     "id": "0696a4b7-db62-49d6-837c-1b14b1e5b903"
    }
   },
   "outputs": [],
   "source": [
    "!jupyter notebook Example_Notebooks/nbval_example_41.ipynb 1> /dev/null 2> /dev/null"
   ]
  },
  {
   "cell_type": "code",
   "execution_count": null,
   "metadata": {
    "collapsed": false,
    "nbpresent": {
     "id": "9d571f3e-9f3c-40e0-8359-8c912c4d10fe"
    }
   },
   "outputs": [],
   "source": [
    "!py.test --nbval -v Example_Notebooks/nbval_example_41.ipynb"
   ]
  },
  {
   "cell_type": "code",
   "execution_count": null,
   "metadata": {
    "collapsed": false,
    "nbpresent": {
     "id": "aa06d25b-f247-43c1-bb08-0a5d48e45194"
    }
   },
   "outputs": [],
   "source": [
    "!jupyter notebook Example_Notebooks/nbval_example_42.ipynb 1> /dev/null 2> /dev/null"
   ]
  },
  {
   "cell_type": "code",
   "execution_count": null,
   "metadata": {
    "collapsed": false,
    "nbpresent": {
     "id": "70339035-a462-4d35-8248-bdb4edada3c8"
    }
   },
   "outputs": [],
   "source": [
    "!py.test --nbval -v Example_Notebooks/nbval_example_42.ipynb"
   ]
  },
  {
   "cell_type": "code",
   "execution_count": null,
   "metadata": {
    "collapsed": false,
    "nbpresent": {
     "id": "9726eee6-25a3-4bd6-9163-c0a9374cccb0"
    }
   },
   "outputs": [],
   "source": [
    "!jupyter notebook Example_Notebooks/nbval_example_43.ipynb 1> /dev/null 2> /dev/null"
   ]
  },
  {
   "cell_type": "code",
   "execution_count": null,
   "metadata": {
    "collapsed": false,
    "nbpresent": {
     "id": "ef4b8059-3266-4d4f-81a0-d55e427898ae"
    }
   },
   "outputs": [],
   "source": [
    "!py.test --nbval -v Example_Notebooks/nbval_example_43.ipynb"
   ]
  },
  {
   "cell_type": "markdown",
   "metadata": {
    "collapsed": true,
    "nbpresent": {
     "id": "f17b993b-1526-4138-b434-6c7cdab496d7"
    }
   },
   "source": [
    "## Example 5 - nbval-lax"
   ]
  },
  {
   "cell_type": "code",
   "execution_count": null,
   "metadata": {
    "collapsed": false,
    "nbpresent": {
     "id": "7cf8fcaa-caa3-4bbf-bf86-571d37d8b771"
    }
   },
   "outputs": [],
   "source": [
    "!py.test --nbval-lax -v Example_Notebooks/nbval_example_51.ipynb"
   ]
  },
  {
   "cell_type": "code",
   "execution_count": null,
   "metadata": {
    "collapsed": true,
    "nbpresent": {
     "id": "bb650011-af56-4b95-a4e4-80b23041ee04"
    }
   },
   "outputs": [],
   "source": []
  }
 ],
 "metadata": {
  "anaconda-cloud": {},
  "kernelspec": {
   "display_name": "Python [default]",
   "language": "python",
   "name": "python3"
  },
  "language_info": {
   "codemirror_mode": {
    "name": "ipython",
    "version": 3
   },
   "file_extension": ".py",
   "mimetype": "text/x-python",
   "name": "python",
   "nbconvert_exporter": "python",
   "pygments_lexer": "ipython3",
   "version": "3.5.2"
  },
  "nbpresent": {
   "slides": {
    "ffca56de-3f18-449f-8fb5-b9832ce90658": {
     "id": "ffca56de-3f18-449f-8fb5-b9832ce90658",
     "prev": null,
     "regions": {
      "034073dd-6528-452b-9383-bb5a28cd965a": {
       "attrs": {
        "height": 0.11063011790999992,
        "width": 0.8779341416085145,
        "x": 0.060947930574098814,
        "y": 0.033244325767690264
       },
       "content": {
        "cell": "14fdccbe-f967-4594-9bb3-282d79efdf03",
        "part": "whole"
       },
       "id": "034073dd-6528-452b-9383-bb5a28cd965a"
      },
      "2ac1380f-953a-429f-8ab8-d3d4e3a1367c": {
       "attrs": {
        "height": 0.6099205198073868,
        "width": 0.8744078474403117,
        "x": 0.06237369574187095,
        "y": 0.2717540516359996
       },
       "content": {
        "cell": "3aee451e-c7a6-4c8c-ae12-147e4b38fb41",
        "part": "outputs"
       },
       "id": "2ac1380f-953a-429f-8ab8-d3d4e3a1367c"
      },
      "6f4f3b49-a9ba-4277-b389-9474eff0a466": {
       "attrs": {
        "height": 0.06702269692923901,
        "width": 0.8766021361815755,
        "x": 0.061698931909212294,
        "y": 0.18945260347129506
       },
       "content": {
        "cell": "3aee451e-c7a6-4c8c-ae12-147e4b38fb41",
        "part": "source"
       },
       "id": "6f4f3b49-a9ba-4277-b389-9474eff0a466"
      },
      "916ea687-5822-4140-bee0-15a785238296": {
       "attrs": {
        "height": 0.04966622162883851,
        "width": 0.871345126835781,
        "x": 0.061698931909212294,
        "y": 0.8983978638184246
       },
       "content": {
        "cell": "d0d9c764-a9b2-44bb-991e-104f05d367c6",
        "part": "whole"
       },
       "id": "916ea687-5822-4140-bee0-15a785238296"
      }
     },
     "theme": "ed3b2649-b711-4efa-85b1-710eb56e17ad"
    }
   },
   "themes": {
    "default": "ed3b2649-b711-4efa-85b1-710eb56e17ad",
    "theme": {
     "ed3b2649-b711-4efa-85b1-710eb56e17ad": {
      "backgrounds": {
       "my-background": {
        "background-color": "my-white"
       }
      },
      "id": "ed3b2649-b711-4efa-85b1-710eb56e17ad",
      "palette": {
       "my-black": {
        "id": "my-black",
        "rgb": [
         0,
         0,
         0
        ]
       },
       "my-white": {
        "id": "my-white",
        "rgb": [
         255,
         255,
         255
        ]
       }
      },
      "rules": {
       "h1": {
        "color": "my-black",
        "font-size": 10
       },
       "h2": {
        "color": "my-black",
        "font-size": 8
       },
       "pre": {
        "color": "my-black",
        "font-size": 3
       }
      },
      "text-base": {
       "font-family": "Helvetica Neue",
       "font-size": 2
      }
     }
    }
   }
  }
 },
 "nbformat": 4,
 "nbformat_minor": 2
}
