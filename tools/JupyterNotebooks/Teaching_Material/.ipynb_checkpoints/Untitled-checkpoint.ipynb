{
 "cells": [
  {
   "cell_type": "code",
   "execution_count": 1,
   "metadata": {
    "collapsed": false,
    "nbpresent": {
     "id": "1a5414f4-e6b3-4f1b-8c3e-aced4515b47b"
    }
   },
   "outputs": [
    {
     "data": {
      "application/javascript": [
       "nbpresent.mode.tree.set(\n",
       "    [\"app\", \"theme-manager\", \"themes\", \"my-theme\"], \n",
       "    {\n",
       "    palette: {\n",
       "        \"my-blue\": {\n",
       "            id: \"my-blue\",\n",
       "            rgb: [0, 0, 255]\n",
       "        },\n",
       "        \"my-black\": {\n",
       "            id: \"my-black\",\n",
       "            rgb: [0, 0, 0]\n",
       "        }\n",
       "    },\n",
       "    backgrounds: {\n",
       "        \"my-background\": {\n",
       "            \"background-color\": \"my-black\"\n",
       "        }\n",
       "    },\n",
       "    \"text-base\": {\n",
       "        \"font-family\": \"Anonymous Pro\",\n",
       "        \"font-size\": 5\n",
       "    },\n",
       "    rules: {\n",
       "        h1: {\n",
       "            \"font-size\": 7,\n",
       "            color: \"my-blue\"\n",
       "        }\n",
       "    }\n",
       "});"
      ],
      "text/plain": [
       "<IPython.core.display.Javascript object>"
      ]
     },
     "metadata": {},
     "output_type": "display_data"
    }
   ],
   "source": [
    "%%javascript\n",
    "nbpresent.mode.tree.set(\n",
    "    [\"app\", \"theme-manager\", \"themes\", \"my-theme\"], \n",
    "    {\n",
    "    palette: {\n",
    "        \"my-blue\": {\n",
    "            id: \"my-blue\",\n",
    "            rgb: [0, 0, 255]\n",
    "        },\n",
    "        \"my-black\": {\n",
    "            id: \"my-black\",\n",
    "            rgb: [255, 0, 0]\n",
    "        }\n",
    "    },\n",
    "    backgrounds: {\n",
    "        \"my-background\": {\n",
    "            \"background-color\": \"my-black\"\n",
    "        }\n",
    "    },\n",
    "    \"text-base\": {\n",
    "        \"font-family\": \"Anonymous Pro\",\n",
    "        \"font-size\": 5\n",
    "    },\n",
    "    rules: {\n",
    "        h1: {\n",
    "            \"font-size\": 7,\n",
    "            color: \"my-blue\"\n",
    "        }\n",
    "    }\n",
    "});"
   ]
  },
  {
   "cell_type": "markdown",
   "metadata": {
    "nbpresent": {
     "id": "72d8ecac-0a10-45d8-b4d6-f58cb7d943a6"
    }
   },
   "source": [
    "# Title Slide"
   ]
  },
  {
   "cell_type": "code",
   "execution_count": null,
   "metadata": {
    "collapsed": true,
    "nbpresent": {
     "id": "eeeba24a-93df-4ee3-b370-98e5aa81a825"
    }
   },
   "outputs": [],
   "source": []
  }
 ],
 "metadata": {
  "kernelspec": {
   "display_name": "Python [conda env:py35]",
   "language": "python",
   "name": "conda-env-py35-py"
  },
  "language_info": {
   "codemirror_mode": {
    "name": "ipython",
    "version": 3
   },
   "file_extension": ".py",
   "mimetype": "text/x-python",
   "name": "python",
   "nbconvert_exporter": "python",
   "pygments_lexer": "ipython3",
   "version": "3.5.2"
  },
  "nbpresent": {
   "slides": {
    "df1884c4-4337-4262-bb14-cfbe488b33a1": {
     "id": "df1884c4-4337-4262-bb14-cfbe488b33a1",
     "prev": null,
     "regions": {
      "302cde0d-7806-4311-96b8-70cf1b67a48d": {
       "attrs": {
        "height": 1,
        "width": 1,
        "x": 0,
        "y": 0
       },
       "content": {
        "cell": "72d8ecac-0a10-45d8-b4d6-f58cb7d943a6",
        "part": "whole"
       },
       "id": "302cde0d-7806-4311-96b8-70cf1b67a48d"
      }
     }
    }
   },
   "themes": {}
  }
 },
 "nbformat": 4,
 "nbformat_minor": 2
}
