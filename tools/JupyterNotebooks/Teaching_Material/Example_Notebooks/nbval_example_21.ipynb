{
 "cells": [
  {
   "cell_type": "markdown",
   "metadata": {
    "nbpresent": {
     "id": "notebook_title"
    }
   },
   "source": [
    "## Jupyter Notebook - nbval"
   ]
  },
  {
   "cell_type": "markdown",
   "metadata": {
    "nbpresent": {
     "id": "b121b1d6-a29d-4e9c-bddd-76e20ed5dad2"
    }
   },
   "source": [
    "- Basic cell execution\n",
    "- *Skipping cells*\n",
    "- Exceptions"
   ]
  },
  {
   "cell_type": "markdown",
   "metadata": {
    "nbpresent": {
     "id": "6d9778c9-df87-4e32-a419-b57836785d26"
    }
   },
   "source": [
    "---"
   ]
  },
  {
   "cell_type": "markdown",
   "metadata": {
    "nbpresent": {
     "id": "364a4eb8-2a9a-4dc7-8da7-7ee4a091b7e1"
    }
   },
   "source": [
    "# Skipping Cells"
   ]
  },
  {
   "cell_type": "markdown",
   "metadata": {
    "nbpresent": {
     "id": "b95a7959-5e0e-42c0-b7ae-764aba48cc5f"
    }
   },
   "source": [
    "#### Marker"
   ]
  },
  {
   "cell_type": "markdown",
   "metadata": {
    "nbpresent": {
     "id": "e0f5f21a-5f65-4e53-b91b-bbf44fcbeab7"
    }
   },
   "source": [
    "    # NBVAL_SKIP"
   ]
  },
  {
   "cell_type": "markdown",
   "metadata": {
    "nbpresent": {
     "id": "90a77a8a-6ac7-4fa7-98c1-c27fcdb62961"
    }
   },
   "source": [
    "#### Input"
   ]
  },
  {
   "cell_type": "markdown",
   "metadata": {},
   "source": [
    "#### Output"
   ]
  },
  {
   "cell_type": "code",
   "execution_count": 10,
   "metadata": {
    "collapsed": false,
    "nbpresent": {
     "id": "4d9c2c88-e79d-4ef3-ad02-33a380d74c6b"
    }
   },
   "outputs": [
    {
     "data": {
      "text/plain": [
       "0.18837174881269259"
      ]
     },
     "execution_count": 10,
     "metadata": {},
     "output_type": "execute_result"
    }
   ],
   "source": [
    "# NBVAL_SKIP\n",
    "import random\n",
    "random.random()"
   ]
  },
  {
   "cell_type": "code",
   "execution_count": null,
   "metadata": {
    "collapsed": true
   },
   "outputs": [],
   "source": []
  }
 ],
 "metadata": {
  "anaconda-cloud": {},
  "kernelspec": {
   "display_name": "Python [default]",
   "language": "python",
   "name": "python3"
  },
  "language_info": {
   "codemirror_mode": {
    "name": "ipython",
    "version": 3
   },
   "file_extension": ".py",
   "mimetype": "text/x-python",
   "name": "python",
   "nbconvert_exporter": "python",
   "pygments_lexer": "ipython3",
   "version": "3.5.2"
  },
  "nbpresent": {
   "slides": {
    "5f7b83c2-bf67-4074-aeeb-81ee623b8abb": {
     "id": "5f7b83c2-bf67-4074-aeeb-81ee623b8abb",
     "prev": null,
     "regions": {
      "14a821c0-3350-459d-8d98-1cffcffb15f0": {
       "attrs": {
        "height": 0.03631508678237656,
        "width": 0.8285380507343124,
        "x": 0.1052570093457944,
        "y": 0.9130841121495327
       },
       "content": {
        "cell": "6d9778c9-df87-4e32-a419-b57836785d26",
        "part": "whole"
       },
       "id": "14a821c0-3350-459d-8d98-1cffcffb15f0"
      },
      "20368b94-f172-4c0e-bba9-025c3130f48d": {
       "attrs": {
        "height": 0.10974632843791729,
        "width": 0.8112650200267022,
        "x": 0.12327279839786381,
        "y": 0.20416999732977298
       },
       "content": {
        "cell": "e0f5f21a-5f65-4e53-b91b-bbf44fcbeab7",
        "part": "whole"
       },
       "id": "20368b94-f172-4c0e-bba9-025c3130f48d"
      },
      "2dab2b3d-30d0-471e-a56c-f16ba5b3ab8d": {
       "attrs": {
        "height": 0.06568758344459286,
        "width": 0.10607476635514011,
        "x": 0.013634846461949254,
        "y": 0.4337783711615487
       },
       "content": {
        "cell": "90a77a8a-6ac7-4fa7-98c1-c27fcdb62961",
        "part": "whole"
       },
       "id": "2dab2b3d-30d0-471e-a56c-f16ba5b3ab8d"
      },
      "2e2f43c2-3fa1-4cda-a8b6-d2245ed77a6a": {
       "attrs": {
        "height": 0.06568758344459281,
        "width": 0.09931575433911874,
        "x": 0.015136849132176222,
        "y": 0.22283044058744994
       },
       "content": {
        "cell": "b95a7959-5e0e-42c0-b7ae-764aba48cc5f",
        "part": "whole"
       },
       "id": "2e2f43c2-3fa1-4cda-a8b6-d2245ed77a6a"
      },
      "557ddb11-6911-47f7-8919-748a63ba6052": {
       "attrs": {
        "height": 0.28251001335113496,
        "width": 0.8130507343124167,
        "x": 0.1214953271028037,
        "y": 0.616154873164219
       },
       "content": {
        "cell": "4d9c2c88-e79d-4ef3-ad02-33a380d74c6b",
        "part": "outputs"
       },
       "id": "557ddb11-6911-47f7-8919-748a63ba6052"
      },
      "c8ec49f2-ba0b-40d0-a420-6d07f9927e6f": {
       "attrs": {
        "height": 0.11428571428571424,
        "width": 0.8340787716955942,
        "x": 0.10225300400534047,
        "y": 0.05460614152202938
       },
       "content": {
        "cell": "364a4eb8-2a9a-4dc7-8da7-7ee4a091b7e1",
        "part": "whole"
       },
       "id": "c8ec49f2-ba0b-40d0-a420-6d07f9927e6f"
      },
      "ee06d250-38fa-4180-b880-86248dcd07e9": {
       "attrs": {
        "height": 0.21842456608811747,
        "width": 0.8122997329773032,
        "x": 0.12553404539385848,
        "y": 0.36248331108144194
       },
       "content": {
        "cell": "4d9c2c88-e79d-4ef3-ad02-33a380d74c6b",
        "part": "source"
       },
       "id": "ee06d250-38fa-4180-b880-86248dcd07e9"
      }
     }
    },
    "ceeda0f9-f613-4936-9dba-d5a4a40c55fe": {
     "id": "ceeda0f9-f613-4936-9dba-d5a4a40c55fe",
     "prev": "5f7b83c2-bf67-4074-aeeb-81ee623b8abb",
     "regions": {
      "16967db8-b9ec-4e33-a51a-4503de108b9e": {
       "attrs": {
        "height": 0.6611481975967958,
        "width": 0.6460113484646195,
        "x": 0.0943090787716956,
        "y": 0.23751668891855804
       },
       "content": {
        "cell": "b121b1d6-a29d-4e9c-bddd-76e20ed5dad2",
        "part": "whole"
       },
       "id": "16967db8-b9ec-4e33-a51a-4503de108b9e"
      },
      "68bc5227-6d43-407d-8f0e-d0e75ee5b149": {
       "attrs": {
        "height": 0.11108144192256345,
        "width": 0.6415387182910547,
        "x": 0.09624499332443258,
        "y": 0.1
       },
       "content": {
        "cell": "notebook_title",
        "part": "whole"
       },
       "id": "68bc5227-6d43-407d-8f0e-d0e75ee5b149"
      }
     }
    }
   },
   "themes": {
    "default": "my-theme",
    "theme": {
     "my-theme": {
      "backgrounds": {
       "my-background": {
        "background-color": "my-white"
       }
      },
      "id": "my-theme",
      "palette": {
       "my-black": {
        "id": "my-black",
        "rgb": [
         0,
         0,
         0
        ]
       },
       "my-blue": {
        "id": "my-blue",
        "rgb": [
         0,
         0,
         40
        ]
       },
       "my-white": {
        "id": "my-white",
        "rgb": [
         255,
         255,
         255
        ]
       }
      },
      "rules": {
       "h1": {
        "color": "my-black",
        "font-size": 10
       },
       "h2": {
        "color": "my-black",
        "font-size": 8
       },
       "li": {
        "color": "my-blue",
        "font-size": 7
       },
       "p": {
        "color": "my-blue",
        "font-size": 8
       },
       "pre": {
        "color": "my-black",
        "font-size": 3
       }
      },
      "text-base": {
       "font-family": "Helvetica Neue",
       "font-size": 2
      }
     }
    }
   }
  }
 },
 "nbformat": 4,
 "nbformat_minor": 2
}
