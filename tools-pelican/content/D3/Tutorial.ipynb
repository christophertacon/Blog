{
 "cells": [
  {
   "cell_type": "code",
   "execution_count": null,
   "metadata": {
    "collapsed": false
   },
   "outputs": [],
   "source": [
    "import numpy as np\n",
    "\n",
    "from bokeh.client import push_session\n",
    "from bokeh.io import output_notebook, output_file, output_server, reset_output, show\n",
    "from bokeh.models import BoxSelectTool, LassoSelectTool, HoverTool, CrosshairTool, ResetTool\n",
    "from bokeh.plotting import figure, hplot, vplot, curdoc"
   ]
  },
  {
   "cell_type": "code",
   "execution_count": null,
   "metadata": {
    "collapsed": true
   },
   "outputs": [],
   "source": [
    "# create three normal population samples with different parameters\n",
    "x1 = np.random.normal(loc=5.0, size=400) * 100\n",
    "y1 = np.random.normal(loc=10.0, size=400) * 10\n",
    "\n",
    "x2 = np.random.normal(loc=5.0, size=800) * 50\n",
    "y2 = np.random.normal(loc=5.0, size=800) * 10\n",
    "\n",
    "x3 = np.random.normal(loc=55.0, size=200) * 10\n",
    "y3 = np.random.normal(loc=4.0, size=200) * 10\n",
    "\n",
    "x = np.concatenate((x1, x2, x3))\n",
    "y = np.concatenate((y1, y2, y3))"
   ]
  },
  {
   "cell_type": "code",
   "execution_count": null,
   "metadata": {
    "collapsed": true
   },
   "outputs": [],
   "source": [
    "#Setting tools --> http://bokeh.pydata.org/en/0.10.0/docs/reference/models/tools.html\n",
    "TOOLS=\" \""
   ]
  },
  {
   "cell_type": "code",
   "execution_count": null,
   "metadata": {
    "collapsed": false
   },
   "outputs": [],
   "source": [
    "#Setting output\n",
    "\n",
    "# output just in jupyter\n",
    "output_notebook() \n",
    "# server output --> http://localhost:5006/?bokeh-session-id=test\n",
    "\n",
    "# local output--> file:///home/acm2/Desktop/PYTHON/example_one.html\n"
   ]
  },
  {
   "cell_type": "code",
   "execution_count": null,
   "metadata": {
    "collapsed": false
   },
   "outputs": [],
   "source": [
    "# create the scatter plot --> http://bokeh.pydata.org/en/0.10.0/docs/reference/plotting.html\n",
    "p = figure(tools=TOOLS, plot_width=600, plot_height=600, title=None, min_border=10, min_border_left=50)\n",
    "r = p.scatter(x, y, size=3, color=\"#3A5785\", alpha=0.6)\n",
    "\n",
    "p.min_border_right = 10\n",
    "\n",
    "show(p)"
   ]
  },
  {
   "cell_type": "code",
   "execution_count": null,
   "metadata": {
    "collapsed": false
   },
   "outputs": [],
   "source": [
    "# create the vertical histogram\n",
    "vhist, vedges = np.histogram(y, bins=20)\n",
    "vmax = max(vhist)*1.1\n",
    "th=42 # adjusting for toolbar height for our final plot (not needed for the horizontal histogram)\n",
    "\n",
    "pv = figure(toolbar_location=None, plot_width=200, plot_height=p.plot_height+th-10, x_range=(-vmax, vmax),\n",
    "            y_range=p.y_range, title=None, min_border=10, min_border_top=th)\n",
    "pv.xaxis.major_label_orientation = -3.14/2\n",
    "\n",
    "pv.quad(left=0, bottom=vedges[:-1], top=vedges[1:], right=vhist, color=\"white\", line_color=\"#3A5785\")\n",
    "\n",
    "pv.min_border_top = 80\n",
    "pv.min_border_left = 0\n",
    "\n",
    "show(pv)"
   ]
  },
  {
   "cell_type": "code",
   "execution_count": null,
   "metadata": {
    "collapsed": false,
    "scrolled": true
   },
   "outputs": [],
   "source": [
    "# create the horizontal histogram\n",
    "\n",
    "#--> It is your turn"
   ]
  },
  {
   "cell_type": "code",
   "execution_count": null,
   "metadata": {
    "collapsed": true
   },
   "outputs": [],
   "source": [
    "#Merging all plots \n",
    "layout = vplot(hplot(p, pv), width=800, height=800)"
   ]
  },
  {
   "cell_type": "code",
   "execution_count": null,
   "metadata": {
    "collapsed": true
   },
   "outputs": [],
   "source": [
    "#Creating call-back function --> http://bokeh.pydata.org/en/0.10.0/docs/user_guide/interaction.html\n",
    "\n",
    "#def update_fun(attr, old, new):\n",
    "#    inds = np.array(new['1d']['indices'])\n",
    "#    if len(inds) == 0 or len(inds) == len(x):\n",
    "#        hhist1, hhist2 = hzeros, hzeros\n",
    "#        vhist1, vhist2 = vzeros, vzeros\n",
    "#    else:\n",
    "#        neg_inds = np.ones_like(x, dtype=np.bool)\n",
    "#        neg_inds[inds] = False\n",
    "#        hhist1, _ = np.histogram(x[inds], bins=hedges)\n",
    "#        vhist1, _ = np.histogram(y[inds], bins=vedges)\n",
    "#        hhist2, _ = np.histogram(x[neg_inds], bins=hedges)\n",
    "#        vhist2, _ = np.histogram(y[neg_inds], bins=vedges)\n",
    "#    hh1.data_source.data[\"top\"]   =  hhist1\n",
    "#    hh2.data_source.data[\"top\"]   = -hhist2\n",
    "#    vh1.data_source.data[\"right\"] =  vhist1\n",
    "#    vh2.data_source.data[\"right\"] = -vhist2\n",
    "\n",
    "#r.data_source.on_change('selected', update_fun) #CallbackManager: on_change --> http://bokeh.pydata.org/en/0.11.1/docs/reference/util.html\n",
    "                                                 #data_source makes and uploads a server data source to the server. --> http://bokeh.pydata.org/en/0.10.0/docs/reference/plot_objects.html"
   ]
  },
  {
   "cell_type": "code",
   "execution_count": null,
   "metadata": {
    "collapsed": false,
    "scrolled": false
   },
   "outputs": [],
   "source": [
    "show(layout)"
   ]
  },
  {
   "cell_type": "code",
   "execution_count": null,
   "metadata": {
    "collapsed": true
   },
   "outputs": [],
   "source": [
    "#Setting output server --> http://bokeh.pydata.org/en/0.11.0/docs/user_guide/server.html\n"
   ]
  },
  {
   "cell_type": "code",
   "execution_count": null,
   "metadata": {
    "collapsed": true
   },
   "outputs": [],
   "source": [
    "reset_output()"
   ]
  }
 ],
 "metadata": {
  "kernelspec": {
   "display_name": "Python 2",
   "language": "python",
   "name": "python2"
  },
  "language_info": {
   "codemirror_mode": {
    "name": "ipython",
    "version": 2
   },
   "file_extension": ".py",
   "mimetype": "text/x-python",
   "name": "python",
   "nbconvert_exporter": "python",
   "pygments_lexer": "ipython2",
   "version": "2.7.10"
  }
 },
 "nbformat": 4,
 "nbformat_minor": 0
}
