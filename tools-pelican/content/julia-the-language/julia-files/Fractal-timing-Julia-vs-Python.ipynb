{
 "cells": [
  {
   "cell_type": "markdown",
   "metadata": {},
   "source": [
    "# Julia Sets Mini-Benchmark"
   ]
  },
  {
   "cell_type": "markdown",
   "metadata": {},
   "source": [
    "We can see how a julia function compares to a Python function by calling Python from julia.\n",
    "\n",
    "First we import the Python function we have written using the PyCall module"
   ]
  },
  {
   "cell_type": "code",
   "execution_count": 2,
   "metadata": {
    "collapsed": false
   },
   "outputs": [
    {
     "name": "stderr",
     "output_type": "stream",
     "text": [
      "--2015-05-04 15:42:44--  http://southampton.ac.uk/~jdg1g14/dat.txt\n",
      "Resolving southampton.ac.uk... 152.78.118.52\n",
      "Connecting to southampton.ac.uk|152.78.118.52|:80... connected.\n",
      "HTTP request sent, awaiting response... 301 Moved Permanently\n",
      "Location: http://www.southampton.ac.uk/~jdg1g14/dat.txt [following]\n",
      "--2015-05-04 15:42:44--  http://www.southampton.ac.uk/~jdg1g14/dat.txt\n",
      "Resolving www.southampton.ac.uk... 152.78.118.52\n",
      "Reusing existing connection to southampton.ac.uk:80.\n",
      "HTTP request sent, awaiting response... 302 Found\n",
      "Location: http://www.southampton.ac.uk/inf/tools/error/403.html [following]\n",
      "--2015-05-04 15:42:44--  http://www.southampton.ac.uk/inf/tools/error/403.html\n",
      "Reusing existing connection to southampton.ac.uk:80.\n",
      "HTTP request sent, awaiting response... 200 OK\n",
      "Length: 6119 (6.0K) [text/html]\n",
      "Saving to: 'dat.txt.2'\n",
      "\n",
      "     0K .....                                                 100% 2.99M=0.002s\n",
      "\n",
      "2015-05-04 15:42:44 (2.99 MB/s) - 'dat.txt.2' saved [6119/6119]\n",
      "\n",
      "--2015-05-04 15:42:44--  http://southampton.ac.uk/~jdg1g14/julia.c\n",
      "Resolving southampton.ac.uk... 152.78.118.52\n",
      "Connecting to southampton.ac.uk|152.78.118.52|:80... connected.\n",
      "HTTP request sent, awaiting response... 301 Moved Permanently\n",
      "Location: http://www.southampton.ac.uk/~jdg1g14/julia.c [following]\n",
      "--2015-05-04 15:42:44--  http://www.southampton.ac.uk/~jdg1g14/julia.c\n",
      "Resolving www.southampton.ac.uk... 152.78.118.52\n",
      "Reusing existing connection to southampton.ac.uk:80.\n",
      "HTTP request sent, awaiting response... 302 Found\n",
      "Location: http://www.southampton.ac.uk/inf/tools/error/403.html [following]\n",
      "--2015-05-04 15:42:44--  http://www.southampton.ac.uk/inf/tools/error/403.html\n",
      "Reusing existing connection to southampton.ac.uk:80.\n",
      "HTTP request sent, awaiting response... 200 OK\n",
      "Length: 6119 (6.0K) [text/html]\n",
      "Saving to: 'julia.c'\n",
      "\n",
      "     0K .....                                                 100%  112M=0s\n",
      "\n",
      "2015-05-04 15:42:44 (112 MB/s) - 'julia.c' saved [6119/6119]\n",
      "\n",
      "--2015-05-04 15:42:44--  http://southampton.ac.uk/~jdg1g14/juliaset.py\n",
      "Resolving southampton.ac.uk... 152.78.118.52\n",
      "Connecting to southampton.ac.uk|152.78.118.52|:80... connected.\n",
      "HTTP request sent, awaiting response... 301 Moved Permanently\n",
      "Location: http://www.southampton.ac.uk/~jdg1g14/juliaset.py [following]\n",
      "--2015-05-04 15:42:44--  http://www.southampton.ac.uk/~jdg1g14/juliaset.py\n",
      "Resolving www.southampton.ac.uk... 152.78.118.52\n",
      "Reusing existing connection to southampton.ac.uk:80.\n",
      "HTTP request sent, awaiting response... 302 Found\n",
      "Location: http://www.southampton.ac.uk/inf/tools/error/403.html [following]\n",
      "--2015-05-04 15:42:44--  http://www.southampton.ac.uk/inf/tools/error/403.html\n",
      "Reusing existing connection to southampton.ac.uk:80.\n",
      "HTTP request sent, awaiting response... 200 OK\n",
      "Length: 6119 (6.0K) [text/html]\n",
      "Saving to: 'juliaset.py.1'\n",
      "\n",
      "     0K .....                                                 100%  233M=0s\n",
      "\n",
      "2015-05-04 15:42:44 (233 MB/s) - 'juliaset.py.1' saved [6119/6119]\n",
      "\n"
     ]
    }
   ],
   "source": [
    "run(`wget https://raw.githubusercontent.com/josh-gree/juliafiles/f9eb5d5a321712c186b8b5f711651328760b9c3a/dat.txt`)\n",
    "run(`wget https://raw.githubusercontent.com/josh-gree/juliafiles/f9eb5d5a321712c186b8b5f711651328760b9c3a/julia.c`)\n",
    "run(`wget https://raw.githubusercontent.com/josh-gree/juliafiles/f9eb5d5a321712c186b8b5f711651328760b9c3a/juliaset.py`)"
   ]
  },
  {
   "cell_type": "code",
   "execution_count": 12,
   "metadata": {
    "collapsed": false
   },
   "outputs": [],
   "source": [
    "using PyCall\n",
    "unshift!(PyVector(pyimport(\"sys\")[\"path\"]),\"\"); # append current directory to system path in order to import local python module\n",
    "\n",
    "@pyimport juliaset as juliaset # import module -> must give it a name!"
   ]
  },
  {
   "cell_type": "markdown",
   "metadata": {},
   "source": [
    "Here is the contents of the .py we have imported"
   ]
  },
  {
   "cell_type": "code",
   "execution_count": 13,
   "metadata": {
    "collapsed": false
   },
   "outputs": [
    {
     "name": "stdout",
     "output_type": "stream",
     "text": [
      "def julia_set(z, c, maxit=2000):\n",
      "    for n in range(1,maxit+1):\n",
      "        if abs(z) > 4:\n",
      "            return n-1\n",
      "        z = z*z+c\n",
      "    return maxit\n"
     ]
    }
   ],
   "source": [
    "run(`cat juliaset.py`) # contents of juliaset.py"
   ]
  },
  {
   "cell_type": "markdown",
   "metadata": {},
   "source": [
    "We can wrap a C function"
   ]
  },
  {
   "cell_type": "code",
   "execution_count": 14,
   "metadata": {
    "collapsed": false
   },
   "outputs": [
    {
     "name": "stdout",
     "output_type": "stream",
     "text": [
      "#include<stdlib.h>\n",
      "#include<stdio.h>\n",
      "\n",
      " int julia(double Zre, double Zim, double Cre, double Cim,int maxit)\n",
      " {\n",
      " \tdouble new_Zre;\n",
      " \tdouble new_Zim;\n",
      "\n",
      " \tfor (int i = 0; i < maxit; ++i)\n",
      " \t{\n",
      " \t\tnew_Zre = Zre;\n",
      " \t\tnew_Zim = Zim;\n",
      "\n",
      " \t\tZre = new_Zre*new_Zre - new_Zim*new_Zim + Cre;\n",
      " \t\tZim = 2*new_Zim*new_Zre + Cim;\n",
      "\n",
      " \t\tif ((Zre*Zre + Zim*Zim)>4)\t\n",
      " \t\t{\n",
      " \t\t\treturn i;\n",
      " \t\t}\n",
      "\n",
      " \t}\n",
      " \treturn maxit;\n",
      " }"
     ]
    }
   ],
   "source": [
    "run(`cat julia.c`)"
   ]
  },
  {
   "cell_type": "markdown",
   "metadata": {},
   "source": [
    "Compile from the notebook"
   ]
  },
  {
   "cell_type": "code",
   "execution_count": 15,
   "metadata": {
    "collapsed": false
   },
   "outputs": [],
   "source": [
    "run(`gcc julia.c -O3 -shared -o julia`)"
   ]
  },
  {
   "cell_type": "markdown",
   "metadata": {},
   "source": [
    "Create julia function that calls the compiled C code"
   ]
  },
  {
   "cell_type": "code",
   "execution_count": 16,
   "metadata": {
    "collapsed": false
   },
   "outputs": [
    {
     "data": {
      "text/plain": [
       "julia_C (generic function with 1 method)"
      ]
     },
     "execution_count": 16,
     "metadata": {},
     "output_type": "execute_result"
    }
   ],
   "source": [
    "julia_C(z,c) = ccall((:julia, \"./julia\"),Cint,(Cdouble,Cdouble,Cdouble,Cdouble,Cint),z.re,z.im,c.re,c.im,2000)"
   ]
  },
  {
   "cell_type": "markdown",
   "metadata": {},
   "source": [
    "Now we define a similar julia function"
   ]
  },
  {
   "cell_type": "code",
   "execution_count": 17,
   "metadata": {
    "collapsed": false
   },
   "outputs": [
    {
     "data": {
      "text/plain": [
       "julia (generic function with 1 method)"
      ]
     },
     "execution_count": 17,
     "metadata": {},
     "output_type": "execute_result"
    }
   ],
   "source": [
    "# define julia function for julia set\n",
    "function julia(z,c;maxit = 2000)\n",
    "    for n = 1:maxit + 1\n",
    "        if abs(z) > 4\n",
    "            return n-1\n",
    "        end\n",
    "        z = z*z + c\n",
    "    end\n",
    "end"
   ]
  },
  {
   "cell_type": "markdown",
   "metadata": {},
   "source": [
    "Using the @time macro we can now compare the performance of the two functions in a large list comprehension"
   ]
  },
  {
   "cell_type": "code",
   "execution_count": 18,
   "metadata": {
    "collapsed": false
   },
   "outputs": [
    {
     "name": "stdout",
     "output_type": "stream",
     "text": [
      "elapsed time: 35.411919031 seconds (617348776 bytes allocated, 9.51% gc time)\n"
     ]
    }
   ],
   "source": [
    "@time image_python = [juliaset.julia_set(c+d*im,-0.4+0.6*im) for c = linspace(-1,1,1001), d = linspace(-1.5,1.5,1001)];"
   ]
  },
  {
   "cell_type": "code",
   "execution_count": 19,
   "metadata": {
    "collapsed": false
   },
   "outputs": [
    {
     "name": "stdout",
     "output_type": "stream",
     "text": [
      "elapsed time: 0.12463375 seconds (4024224 bytes allocated)\n"
     ]
    }
   ],
   "source": [
    "@time image_C = [julia_C(c+d*im,-0.4+0.6*im) for c = linspace(-1,1,1001), d = linspace(-1.5,1.5,1001)];"
   ]
  },
  {
   "cell_type": "code",
   "execution_count": 20,
   "metadata": {
    "collapsed": false
   },
   "outputs": [
    {
     "name": "stdout",
     "output_type": "stream",
     "text": [
      "elapsed time: 0.503684011 seconds (24056736 bytes allocated)\n"
     ]
    }
   ],
   "source": [
    "@time image_julia = [julia(c+d*im,-0.4+0.6*im) for c = linspace(-1,1,1001), d = linspace(-1.5,1.5,1001)];"
   ]
  },
  {
   "cell_type": "markdown",
   "metadata": {},
   "source": [
    "Now we plot using the PyPlot module"
   ]
  },
  {
   "cell_type": "code",
   "execution_count": 21,
   "metadata": {
    "collapsed": false
   },
   "outputs": [],
   "source": [
    "using PyPlot"
   ]
  },
  {
   "cell_type": "code",
   "execution_count": 22,
   "metadata": {
    "collapsed": false
   },
   "outputs": [
    {
     "data": {
      "image/png": "[encoded data removed]",
      "text/plain": [
       "Figure(PyObject <matplotlib.figure.Figure object at 0x115148850>)"
      ]
     },
     "metadata": {},
     "output_type": "display_data"
    },
    {
     "data": {
      "text/plain": [
       "PyObject <matplotlib.image.AxesImage object at 0x11e692690>"
      ]
     },
     "execution_count": 22,
     "metadata": {},
     "output_type": "execute_result"
    }
   ],
   "source": [
    "subplot(1,3,1)\n",
    "imshow(image_python)\n",
    "subplot(1,3,2)\n",
    "imshow(image_C)\n",
    "subplot(1,3,3)\n",
    "imshow(image_julia)"
   ]
  },
  {
   "cell_type": "code",
   "execution_count": null,
   "metadata": {
    "collapsed": false
   },
   "outputs": [],
   "source": []
  }
 ],
 "metadata": {
  "kernelspec": {
   "display_name": "Julia 0.3.7",
   "language": "julia",
   "name": "julia 0.3"
  },
  "language_info": {
   "name": "julia",
   "version": "0.3.7"
  }
 },
 "nbformat": 4,
 "nbformat_minor": 0
}
