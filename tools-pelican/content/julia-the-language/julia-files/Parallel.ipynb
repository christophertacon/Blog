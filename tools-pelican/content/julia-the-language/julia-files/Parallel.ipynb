{
 "cells": [
  {
   "cell_type": "code",
   "execution_count": 1,
   "metadata": {
    "collapsed": false
   },
   "outputs": [
    {
     "data": {
      "text/plain": [
       "4"
      ]
     },
     "execution_count": 1,
     "metadata": {},
     "output_type": "execute_result"
    }
   ],
   "source": [
    "CPU_CORES # -> system var that contains the numbr of available cores"
   ]
  },
  {
   "cell_type": "code",
   "execution_count": 2,
   "metadata": {
    "collapsed": false
   },
   "outputs": [
    {
     "data": {
      "text/plain": [
       "1"
      ]
     },
     "execution_count": 2,
     "metadata": {},
     "output_type": "execute_result"
    }
   ],
   "source": [
    "nprocs() # -> the currently available, to julia, number of cores"
   ]
  },
  {
   "cell_type": "code",
   "execution_count": 3,
   "metadata": {
    "collapsed": false
   },
   "outputs": [
    {
     "data": {
      "text/plain": [
       "3-element Array{Any,1}:\n",
       " 2\n",
       " 3\n",
       " 4"
      ]
     },
     "execution_count": 3,
     "metadata": {},
     "output_type": "execute_result"
    }
   ],
   "source": [
    "addprocs(CPU_CORES - 1) # -> Make all cores available to Julia"
   ]
  },
  {
   "cell_type": "code",
   "execution_count": 4,
   "metadata": {
    "collapsed": false
   },
   "outputs": [
    {
     "data": {
      "text/plain": [
       "RemoteRef(2,1,9)"
      ]
     },
     "execution_count": 4,
     "metadata": {},
     "output_type": "execute_result"
    }
   ],
   "source": [
    "r = remotecall(2, rand, 2, 2) # -> we can make a call, on processor 2, to the function rand with arguments 2 and 2."
   ]
  },
  {
   "cell_type": "code",
   "execution_count": 5,
   "metadata": {
    "collapsed": false
   },
   "outputs": [
    {
     "data": {
      "text/plain": [
       "2x2 Array{Float64,2}:\n",
       " 0.195311  0.699111\n",
       " 0.763146  0.517326"
      ]
     },
     "execution_count": 5,
     "metadata": {},
     "output_type": "execute_result"
    }
   ],
   "source": [
    "fetch(r) # -> this function allows us to fetch the data that was created on another processor and \n",
    "#bring it into the scope of the master processor"
   ]
  },
  {
   "cell_type": "code",
   "execution_count": 11,
   "metadata": {
    "collapsed": true
   },
   "outputs": [],
   "source": [
    "# can you create and fetch a matrix of zeros of size 14 by 14 on processor 3?\n",
    "\n",
    "\n",
    "\n",
    "\n"
   ]
  },
  {
   "cell_type": "code",
   "execution_count": 12,
   "metadata": {
    "collapsed": false
   },
   "outputs": [
    {
     "data": {
      "text/plain": [
       "2x2 Array{Float64,2}:\n",
       " 0.984253  0.618944\n",
       " 0.481985  0.472362"
      ]
     },
     "execution_count": 12,
     "metadata": {},
     "output_type": "execute_result"
    }
   ],
   "source": [
    "s = @spawnat 2 rand(2,2) # -> a much nicer syntax that makes use of a julia macro\n",
    "fetch(s)"
   ]
  },
  {
   "cell_type": "code",
   "execution_count": 13,
   "metadata": {
    "collapsed": false
   },
   "outputs": [
    {
     "data": {
      "text/plain": [
       "2x2 Array{Float64,2}:\n",
       " 0.0885738  0.373951\n",
       " 0.147095   0.279836"
      ]
     },
     "execution_count": 13,
     "metadata": {},
     "output_type": "execute_result"
    }
   ],
   "source": [
    "k = @fetchfrom 2 rand(2,2)# -> spawn on processor 2 and then fetch on completion\n",
    "k"
   ]
  },
  {
   "cell_type": "code",
   "execution_count": 14,
   "metadata": {
    "collapsed": false
   },
   "outputs": [
    {
     "data": {
      "text/plain": [
       "1"
      ]
     },
     "execution_count": 14,
     "metadata": {},
     "output_type": "execute_result"
    }
   ],
   "source": [
    "myid() # -> function for determining the process ID"
   ]
  },
  {
   "cell_type": "code",
   "execution_count": 15,
   "metadata": {
    "collapsed": false
   },
   "outputs": [
    {
     "data": {
      "text/plain": [
       "3"
      ]
     },
     "execution_count": 15,
     "metadata": {},
     "output_type": "execute_result"
    }
   ],
   "source": [
    "@fetchfrom 3 myid() # -> this makes the macro behaviour easier to see. The function was called on \n",
    "#processor 3 and so returned ID 3"
   ]
  },
  {
   "cell_type": "code",
   "execution_count": 16,
   "metadata": {
    "collapsed": false
   },
   "outputs": [
    {
     "data": {
      "text/plain": [
       "2"
      ]
     },
     "execution_count": 16,
     "metadata": {},
     "output_type": "execute_result"
    }
   ],
   "source": [
    "r = @spawn myid() # -> @spawn chooses an available processor to run the function on this will change on each run\n",
    "fetch(r)"
   ]
  },
  {
   "cell_type": "markdown",
   "metadata": {},
   "source": [
    "In order to see the parrallel abilities of Julia we shall look at an embarrassingly parrallel problem - the calculation of $\\pi$ via Monte Carlo sampling. We will randomly draw x and y samples in the range [-1,1] and calculate the distance from the origin. If the distance is less than one then the sample lies within the circle if not then it lies outside. By calculating the ratio of interior to exterior points we can estimate $\\pi$ - the more samples we take the better our approximation. The fact that each sample is independent of all others makes this an excellent candidate for parallelism.   "
   ]
  },
  {
   "cell_type": "code",
   "execution_count": 6,
   "metadata": {
    "collapsed": false
   },
   "outputs": [
    {
     "data": {
      "text/plain": [
       "compute_pi (generic function with 1 method)"
      ]
     },
     "execution_count": 6,
     "metadata": {},
     "output_type": "execute_result"
    }
   ],
   "source": [
    "function compute_pi(N::Int)\n",
    "    \"\"\"\n",
    "    Compute pi with a Monte Carlo simulation of N darts thrown in [-1,1]^2\n",
    "    Returns estimate of pi\n",
    "    \"\"\"\n",
    "    n_landed_in_circle = 0  # counts number of points that have radial coordinate < 1, i.e. in circle\n",
    "    for i = 1:N\n",
    "        x = rand() * 2 - 1  # uniformly distributed number on x-axis\n",
    "        y = rand() * 2 - 1  # uniformly distributed number on y-axis\n",
    " \n",
    "        r2 = x*x + y*y  # radius squared, in radial coordinates\n",
    "        if r2 < 1.0\n",
    "            n_landed_in_circle += 1\n",
    "        end\n",
    "    end\n",
    " \n",
    "    return n_landed_in_circle / N * 4.0    \n",
    "end"
   ]
  },
  {
   "cell_type": "code",
   "execution_count": 12,
   "metadata": {
    "collapsed": false
   },
   "outputs": [
    {
     "data": {
      "text/plain": [
       "3.14151268"
      ]
     },
     "execution_count": 12,
     "metadata": {},
     "output_type": "execute_result"
    }
   ],
   "source": [
    "pi = compute_pi(int(10e7)) # -> we can compute an approximation for pi for N = 10e7"
   ]
  },
  {
   "cell_type": "code",
   "execution_count": 15,
   "metadata": {
    "collapsed": false
   },
   "outputs": [
    {
     "data": {
      "text/plain": [
       "100-element Array{Float64,1}:\n",
       " 3.6    \n",
       " 2.90909\n",
       " 2.46154\n",
       " 2.93333\n",
       " 3.05882\n",
       " 3.4    \n",
       " 2.78261\n",
       " 2.37037\n",
       " 2.96774\n",
       " 2.74286\n",
       " 3.6    \n",
       " 3.13043\n",
       " 3.09434\n",
       " ⋮      \n",
       " 3.14048\n",
       " 3.14229\n",
       " 3.14186\n",
       " 3.14015\n",
       " 3.14086\n",
       " 3.14058\n",
       " 3.14252\n",
       " 3.14159\n",
       " 3.14152\n",
       " 3.14218\n",
       " 3.14159\n",
       " 3.14254"
      ]
     },
     "execution_count": 15,
     "metadata": {},
     "output_type": "execute_result"
    }
   ],
   "source": [
    "pis = map(compute_pi,int(logspace(1,7,100))) # -> we can use the map function to calculate a range of approximations for\n",
    "# different values of N"
   ]
  },
  {
   "cell_type": "code",
   "execution_count": 18,
   "metadata": {
    "collapsed": false
   },
   "outputs": [
    {
     "data": {
      "image/png": "[encoded data removed]",
      "text/plain": [
       "Figure(PyObject <matplotlib.figure.Figure object at 0x10f3f5590>)"
      ]
     },
     "metadata": {},
     "output_type": "display_data"
    },
    {
     "data": {
      "text/plain": [
       "1-element Array{Any,1}:\n",
       " PyObject <matplotlib.lines.Line2D object at 0x10f428a90>"
      ]
     },
     "execution_count": 18,
     "metadata": {},
     "output_type": "execute_result"
    }
   ],
   "source": [
    "using PyPlot # -> import library which allows us to use matplotlibs plotting functions\n",
    "semilogx(int(logspace(1,7,100)),pis) # -> logplot of pi approximations"
   ]
  },
  {
   "cell_type": "code",
   "execution_count": 19,
   "metadata": {
    "collapsed": false
   },
   "outputs": [
    {
     "name": "stderr",
     "output_type": "stream",
     "text": [
      "exception on 4: exception on exception on 2: 3: ERROR: function compute_pi not defined on process 4\n",
      " in error at error.jl:21\n",
      " in anonymous at serialize.jl:397\n",
      " in anonymous at multi.jl:855\n",
      " in run_work_thunk at multi.jl:621\n",
      " in anonymous at task.jl:855\n",
      "ERROR: function compute_pi not defined on process 2\n",
      " in error at error.jl:21\n",
      " in anonymous at serialize.jl:397\n",
      " in anonymous at multi.jl:855\n",
      " in run_work_thunk at multi.jl:621\n",
      " in anonymous at task.jl:855\n",
      "ERROR: function compute_pi not defined on process 3\n",
      " in error at error.jl:21\n",
      " in anonymous at serialize.jl:397\n",
      " in anonymous at multi.jl:855\n",
      " in run_work_thunk at multi.jl:621\n",
      " in anonymous at task.jl:855\n"
     ]
    },
    {
     "data": {
      "text/plain": [
       "3-element Array{Any,1}:\n",
       " ErrorException(\"function compute_pi not defined on process 2\")\n",
       " ErrorException(\"function compute_pi not defined on process 3\")\n",
       " ErrorException(\"function compute_pi not defined on process 4\")"
      ]
     },
     "execution_count": 19,
     "metadata": {},
     "output_type": "execute_result"
    }
   ],
   "source": [
    "pis = pmap(compute_pi,int(logspace(1,8,100))) # -> pmap function applies the function to each of the arguments making\n",
    "# use of processors as they come available"
   ]
  },
  {
   "cell_type": "markdown",
   "metadata": {},
   "source": [
    "Only the master process knows about this function definition and so when pmap asks other proceeses to use this function they have no idea what to do! We must use the julia @everywhere macro to let all processes know about a function. "
   ]
  },
  {
   "cell_type": "code",
   "execution_count": 20,
   "metadata": {
    "collapsed": true
   },
   "outputs": [],
   "source": [
    "@everywhere function compute_pi(N::Int)\n",
    "    \"\"\"\n",
    "    Compute pi with a Monte Carlo simulation of N darts thrown in [-1,1]^2\n",
    "    Returns estimate of pi\n",
    "    \"\"\"\n",
    "    n_landed_in_circle = 0  # counts number of points that have radial coordinate < 1, i.e. in circle\n",
    "    for i = 1:N\n",
    "        x = rand() * 2 - 1  # uniformly distributed number on x-axis\n",
    "        y = rand() * 2 - 1  # uniformly distributed number on y-axis\n",
    " \n",
    "        r2 = x*x + y*y  # radius squared, in radial coordinates\n",
    "        if r2 < 1.0\n",
    "            n_landed_in_circle += 1\n",
    "        end\n",
    "    end\n",
    " \n",
    "    return n_landed_in_circle / N * 4.0    \n",
    "end"
   ]
  },
  {
   "cell_type": "code",
   "execution_count": 21,
   "metadata": {
    "collapsed": false
   },
   "outputs": [
    {
     "data": {
      "text/plain": [
       "100-element Array{Any,1}:\n",
       " 4.0    \n",
       " 2.66667\n",
       " 3.14286\n",
       " 3.25   \n",
       " 2.73684\n",
       " 2.6087 \n",
       " 2.51852\n",
       " 3.22581\n",
       " 2.91892\n",
       " 2.51163\n",
       " 2.98039\n",
       " 2.93333\n",
       " 3.49296\n",
       " ⋮      \n",
       " 3.14252\n",
       " 3.14111\n",
       " 3.14164\n",
       " 3.14141\n",
       " 3.14135\n",
       " 3.14147\n",
       " 3.14203\n",
       " 3.14137\n",
       " 3.14153\n",
       " 3.14173\n",
       " 3.14159\n",
       " 3.14147"
      ]
     },
     "execution_count": 21,
     "metadata": {},
     "output_type": "execute_result"
    }
   ],
   "source": [
    "pis = pmap(compute_pi,int(logspace(1,8,100)))"
   ]
  },
  {
   "cell_type": "code",
   "execution_count": null,
   "metadata": {
    "collapsed": true
   },
   "outputs": [],
   "source": [
    "# Can you write some code that will allow you to time the average execution of the normal map function and the \n",
    "# pmap function? \n",
    "#\n",
    "# HINT: tic() and tock()\n",
    "\n",
    "\n",
    "\n",
    "\n",
    "\n",
    "\n",
    "\n",
    "\n",
    "\n",
    "\n",
    "\n",
    "\n",
    "\n"
   ]
  },
  {
   "cell_type": "code",
   "execution_count": 1,
   "metadata": {
    "collapsed": false,
    "scrolled": true
   },
   "outputs": [
    {
     "data": {
      "text/plain": [
       "-0.11710952409816672"
      ]
     },
     "execution_count": 1,
     "metadata": {},
     "output_type": "execute_result"
    }
   ],
   "source": [
    "# we can perform reduction loops in parrallel using @parallel\n",
    "sum = @parallel (+) for i = 1:1000000\n",
    "    sin(i)\n",
    "end"
   ]
  },
  {
   "cell_type": "code",
   "execution_count": 26,
   "metadata": {
    "collapsed": false
   },
   "outputs": [],
   "source": [
    "@everywhere function par_compute_pi(N,ncores)\n",
    "    each  = int(floor(N/ncores))\n",
    "    left = N%ncores\n",
    "\n",
    "    sum_of_pis = @parallel (+) for i=1:ncores\n",
    "        if i <= left\n",
    "            compute_pi(each+1)\n",
    "        else\n",
    "            compute_pi(each)\n",
    "        end\n",
    "    end\n",
    "\n",
    "    return sum_of_pis / ncores\n",
    "end"
   ]
  },
  {
   "cell_type": "code",
   "execution_count": 45,
   "metadata": {
    "collapsed": false
   },
   "outputs": [
    {
     "name": "stdout",
     "output_type": "stream",
     "text": [
      "elapsed time: 0.135106279 seconds\n",
      "elapsed time: 0.122012 seconds\n",
      "elapsed time: 0.122494676 seconds\n",
      "elapsed time: 0.124619668 seconds\n",
      "elapsed time: 0.121832826 seconds\n",
      "elapsed time: 0.124469028 seconds\n",
      "elapsed time: 0.130674546 seconds\n",
      "elapsed time: 0.12665145 seconds\n",
      "elapsed time: 0.129598744 seconds\n",
      "elapsed time: 0.120853728 seconds\n",
      "avg time = 0.1258312945\n"
     ]
    }
   ],
   "source": [
    "time = 0 \n",
    "for i = 1:10\n",
    "    tic() \n",
    "    pi = par_compute_pi(int(10e7),1)\n",
    "    time+=toc()\n",
    "end\n",
    "\n",
    "println(\"avg time = \",time/10)"
   ]
  }
 ],
 "metadata": {
  "kernelspec": {
   "display_name": "Julia 0.3.7",
   "language": "julia",
   "name": "julia 0.3"
  },
  "language_info": {
   "name": "julia",
   "version": "0.3.7"
  }
 },
 "nbformat": 4,
 "nbformat_minor": 0
}
