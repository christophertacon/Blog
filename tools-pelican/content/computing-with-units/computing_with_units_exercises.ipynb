{
 "cells": [
  {
   "cell_type": "markdown",
   "metadata": {},
   "source": [
    "# Computing with units exercise notebook"
   ]
  },
  {
   "cell_type": "markdown",
   "metadata": {},
   "source": [
    "### Task 1\n",
    "\n",
    "Import `UnitRegistry` from the pint package and import the `numpy` library as well.<br />\n",
    "Then create an instance of `UnitRegistry` as explained in the presentation (check the _LiveCoding.ipynb_ notebook on the desktop)."
   ]
  },
  {
   "cell_type": "code",
   "execution_count": null,
   "metadata": {
    "collapsed": true
   },
   "outputs": [],
   "source": []
  },
  {
   "cell_type": "markdown",
   "metadata": {},
   "source": [
    "Define a physical quantity with the Pint commands explained in the presentation.<br />\n",
    "Specifically, create a variable that represents the mass $m$:\n",
    "\n",
    "\\begin{equation}\n",
    "m =  11.4 \\quad Kg\n",
    "\\end{equation}"
   ]
  },
  {
   "cell_type": "code",
   "execution_count": null,
   "metadata": {
    "collapsed": true
   },
   "outputs": [],
   "source": []
  },
  {
   "cell_type": "markdown",
   "metadata": {},
   "source": [
    "Now define another physical quantity, the acceleration $a$:\n",
    "\n",
    "\\begin{equation}\n",
    "a =  12.3 \\quad \\frac{m}{s^2}\n",
    "\\end{equation}"
   ]
  },
  {
   "cell_type": "code",
   "execution_count": null,
   "metadata": {
    "collapsed": true
   },
   "outputs": [],
   "source": []
  },
  {
   "cell_type": "markdown",
   "metadata": {},
   "source": [
    "Familiarize with the outputs you can get from these quantities and print to the screen fro both variables $a$ and $m$:\n",
    "\n",
    "1. Print the quantity.\n",
    "2. Print the magnitutde.\n",
    "3. Print the unit(s).\n",
    "4. Print the dimension."
   ]
  },
  {
   "cell_type": "code",
   "execution_count": null,
   "metadata": {
    "collapsed": true
   },
   "outputs": [],
   "source": []
  },
  {
   "cell_type": "markdown",
   "metadata": {},
   "source": [
    "Build a new variable $F$, force, from the 2 variables $m$ and $a$ employing the well known formula:\n",
    "\n",
    "\\begin{equation}\n",
    "F =  m a\n",
    "\\end{equation}"
   ]
  },
  {
   "cell_type": "code",
   "execution_count": null,
   "metadata": {
    "collapsed": true
   },
   "outputs": [],
   "source": []
  },
  {
   "cell_type": "markdown",
   "metadata": {},
   "source": [
    "Then\n",
    "\n",
    "1. Print the F variable.\n",
    "2. Print its units.\n",
    "3. Print its magnitude.\n",
    "4. Print its dimension."
   ]
  },
  {
   "cell_type": "code",
   "execution_count": null,
   "metadata": {
    "collapsed": true
   },
   "outputs": [],
   "source": []
  },
  {
   "cell_type": "markdown",
   "metadata": {},
   "source": [
    "Now try to convert $F$ in newton (_permanent conversion_) with the Pint command explained in the presentation.<br />\n",
    "Print again $F$, does its magnitude changed? And its unit? Why?"
   ]
  },
  {
   "cell_type": "code",
   "execution_count": null,
   "metadata": {
    "collapsed": true
   },
   "outputs": [],
   "source": []
  },
  {
   "cell_type": "markdown",
   "metadata": {},
   "source": [
    "Try to print only (so employing _on the fly conversion_) $F$ in _Dyne_.<br />\n",
    "To check if your variable is yet expressed in newton after you expressed in the new unit print both $F$ in _Dyne_ (_on the fly conversion_) and $F$."
   ]
  },
  {
   "cell_type": "code",
   "execution_count": null,
   "metadata": {
    "collapsed": false
   },
   "outputs": [],
   "source": []
  },
  {
   "cell_type": "markdown",
   "metadata": {},
   "source": [
    "Define 2 new (force quantities) variables $G1$ and $G2$ as follows:\n",
    "\n",
    "\\begin{equation*}\n",
    "\\begin{aligned}\n",
    "&G1=4.3 &\\quad Dyne\\\\\n",
    "&G2=-2.3 &\\quad Kilogram-force\n",
    "\\end{aligned}\n",
    "\\end{equation*}"
   ]
  },
  {
   "cell_type": "code",
   "execution_count": null,
   "metadata": {
    "collapsed": true
   },
   "outputs": [],
   "source": []
  },
  {
   "cell_type": "markdown",
   "metadata": {},
   "source": [
    "Now try to sum $F$, $G1$ and $G2$ in these 3 diffrent orders:\n",
    "\n",
    "\\begin{equation*}\n",
    "\\begin{aligned}\n",
    "&S1 = F + G1 + G2\\\\\n",
    "\\quad\\\\\n",
    "&S2 = G1 + F + G2\\\\\n",
    "\\quad\\\\\n",
    "&S3 = G2 + G1 + F\n",
    "\\end{aligned}\n",
    "\\end{equation*}"
   ]
  },
  {
   "cell_type": "code",
   "execution_count": null,
   "metadata": {
    "collapsed": true
   },
   "outputs": [],
   "source": []
  },
  {
   "cell_type": "markdown",
   "metadata": {},
   "source": [
    "The last exercise highlighted the fact that with Pint you can sum variables with different units but same dimensions together without converting them.<br />\n",
    "However, you get 3 different results, in term of units, with the 3 different sums.<br />\n",
    "Can you get the logic behind these difference and how to obtain directly the sum in the desired units?\n",
    "\n",
    "To check if your guess is right, try to define these lengths:\n",
    "\n",
    "\\begin{equation*}\n",
    "\\begin{aligned}\n",
    "&l1=1 &\\quad m\\\\\n",
    "&l2=2 &\\quad cm\\\\\n",
    "&l3=6 &\\quad mm\n",
    "\\end{aligned}\n",
    "\\end{equation*}\n",
    "\n",
    "Sum these quantities in a way to get the result directly in _centimeters_."
   ]
  },
  {
   "cell_type": "code",
   "execution_count": null,
   "metadata": {
    "collapsed": true
   },
   "outputs": [],
   "source": []
  },
  {
   "cell_type": "markdown",
   "metadata": {},
   "source": [
    "### Task 2"
   ]
  },
  {
   "cell_type": "markdown",
   "metadata": {},
   "source": [
    "With Pint is possible to define custom units of measure and also interact with the `numpy` library.\n",
    "\n",
    "Let's pretend we want to produce some (really simple) statistical results regarding the alchol consumption of a group of PhD students in UK.<br />\n",
    "Unfortunately, all the data we managed to collect are expressed in [shots](https://en.wikipedia.org/wiki/List_of_unusual_units_of_measurement#Shot), a unit not implemented in Pint.\n",
    "\n",
    "First, define a new unit _shot_ equals to $30$ _milliliters_ as explained in the presentation with:\n",
    "* Canonical name: _shot_\n",
    "* Alias: _sh_\n",
    "* Definition: $shot =  30 \\quad ml$"
   ]
  },
  {
   "cell_type": "code",
   "execution_count": null,
   "metadata": {
    "collapsed": true
   },
   "outputs": [],
   "source": []
  },
  {
   "cell_type": "markdown",
   "metadata": {},
   "source": [
    "We got the data from an anonymous group of PhD students about the alchol consumption (in _shots_) for every day of the week:\n",
    "\n",
    "\\begin{equation}\n",
    "[2,3,2,5,10,12,1] \\quad shot\n",
    "\\end{equation}\n",
    "\n",
    "Build a single object containing the shot quantities showed above, employing `numpy.array` command as explained in the presentation."
   ]
  },
  {
   "cell_type": "code",
   "execution_count": null,
   "metadata": {
    "collapsed": true
   },
   "outputs": [],
   "source": []
  },
  {
   "cell_type": "markdown",
   "metadata": {},
   "source": [
    "Now try to:\n",
    "\n",
    "1. Get the total number of shots consumed in that week employing `numpy.sum` command.\n",
    "2. Get the week mean of the number of shots employing `numpy.mean`.\n",
    "3. Convert (element wise) the quantities in _liters_ with a `for` cycle. In this step you could use a `list` approach or a `numpy` approach. In both cases be aware that **quantities are objects**. Then if you decide to employ the `numpy` approach remeber that quantities cannot be stored in an array, in which you should store **the magnitudes** only. On the contrary, you can store quantities directly as `list` elements.\n",
    "4. Get the total number and the mean of these quantities in _liters_.\n",
    "5. Print to the screen all the quantities calculated."
   ]
  },
  {
   "cell_type": "code",
   "execution_count": null,
   "metadata": {
    "collapsed": false
   },
   "outputs": [],
   "source": []
  },
  {
   "cell_type": "markdown",
   "metadata": {},
   "source": [
    "### Task 3 (more an example)"
   ]
  },
  {
   "cell_type": "markdown",
   "metadata": {},
   "source": [
    "A really useful feature of Pint is that it can read units also as strings.<br />\n",
    "Let's pretend that a messy engineer wrote a document \"**data.txt**\" in which there are some lengths but expressed in different units (look at the file in the desktop).\n",
    "\n",
    "Your task is to extract the quantities and convert all in meters and then print to the screen. Half of the work has been already done as in this way you can focus on Pint features and their interactions with Python instead of Python commands itself.<br />\n",
    "However, if you are really confident with Python you can ignore our suggested code and try to get the data from the _.txt_ file on your own.\n",
    "\n",
    "Our suggested procedure is:\n",
    "\n",
    "1. Open the \"**data.txt**\" file from the desktop and understand its structure (hint: \"**data.txt**\" has **10 lines**, you could do a `for` cycle for these 10 lines).\n",
    "2. Then, try to extract single strings for each line of the file with the `open` (in read mode), `readline` (here do a `for` cycle for the **10 lines**) commands (look at this [link](https://docs.python.org/2/tutorial/inputoutput.html#reading-and-writing-files) if you don't remember how these commands work).\n",
    "3. Then we suggest to use `split` command to separate the number from the unit into two separate string variables.\n",
    "4. Build a physical quantities for each line with Pint commands (be aware of the type of the variables!).\n",
    "5. Store these quantities in a list with `append` command.\n",
    "6. Convert all elements in the list with Pint commands (hint: do a `for` cycle for each element of the list).\n",
    "7. Print the obtained quantities."
   ]
  },
  {
   "cell_type": "code",
   "execution_count": 6,
   "metadata": {
    "collapsed": false
   },
   "outputs": [],
   "source": [
    "f = open('data.txt', 'r')\n",
    "number_lines = 10\n",
    "data = []\n",
    "for line in range(number_lines):\n",
    "    quantity = f.readline()\n",
    "    quantity = quantity.split() # Splitting magnitude and unit\n",
    "    number = float(quantity[0]) # The magnitude is stored in the first column\n",
    "    unit = quantity[1]          # The unit is stored in the second column\n",
    "    data.append(number * ureg(unit))\n",
    "f.close()"
   ]
  },
  {
   "cell_type": "code",
   "execution_count": 7,
   "metadata": {
    "collapsed": false
   },
   "outputs": [
    {
     "name": "stdout",
     "output_type": "stream",
     "text": [
      "12.1 meter\n",
      "23.3 meter\n",
      "0.01 centimeter\n",
      "1.03 inch\n",
      "12.3 kilometer\n",
      "24.0 mile\n",
      "92.1 meter\n",
      "12.7 millimeter\n",
      "22.0 meter\n",
      "33.1 centimeter\n"
     ]
    }
   ],
   "source": [
    "for element in range(len(data)):\n",
    "    print(data[element])"
   ]
  },
  {
   "cell_type": "markdown",
   "metadata": {},
   "source": [
    "All the quantities are now stored in `data` list.<br />\n",
    "Try to convert them all in meters and print them to the screen."
   ]
  },
  {
   "cell_type": "code",
   "execution_count": null,
   "metadata": {
    "collapsed": true
   },
   "outputs": [],
   "source": []
  },
  {
   "cell_type": "markdown",
   "metadata": {},
   "source": [
    "### Task 4 (for the braves)"
   ]
  },
  {
   "cell_type": "markdown",
   "metadata": {},
   "source": [
    "Pint presents also some advanced features as the **Buckingham $\\pi$ theorem** feature explained in the presentation.<br />\n",
    "Let's pretend you don't know much about physics and you have to solve a simple pendulum problem employing only the `pi_theorem` feature and the Pint library.<br />\n",
    "The final goal is to calculate the period $T$ of the system showed below. \n",
    "\n",
    "<img src=\"https://upload.wikimedia.org/wikipedia/commons/d/d6/Pendel_PT.svg\" width=\"250\">"
   ]
  },
  {
   "cell_type": "markdown",
   "metadata": {
    "collapsed": true
   },
   "source": [
    "First, import `pi_theorem` from Pint."
   ]
  },
  {
   "cell_type": "code",
   "execution_count": null,
   "metadata": {
    "collapsed": true
   },
   "outputs": [],
   "source": []
  },
  {
   "cell_type": "markdown",
   "metadata": {
    "collapsed": true
   },
   "source": [
    "The **Buckingham $\\pi$ theorem** states that if you are dealing with an equation associated to a physical system involving:\n",
    "* $n$ numbers of physical variables (as Velocity, Acceleration, Force, ...)\n",
    "* $k$ numbers of independent fundamental quantities (as [time], [length], ...)\n",
    "\n",
    "Then you can express the equation in terms of:\n",
    "\n",
    "\\begin{equation}\n",
    "p = n - k\n",
    "\\end{equation}\n",
    "\n",
    "$p$ dimensionless numbers.\n",
    "\n",
    "In the system proposed above we have:\n",
    "* $T$ (time period), $M$ (mass), $l$ (length) and $g$ (acceleration) as physical quantities. Then $n=4$.\n",
    "* [time], [mass], [length] as independent fundamental quantities (acceleration doesn't add any other fundamental units as its dimensions are = $[length]/[time]^2$). Then $k=3$.\n",
    "\n",
    "So, as $p=4-3=1$ we can express our equation with one dimensionless number $\\Pi$.<br />\n",
    "Try to get the number $\\Pi$ employing the `ureg.pi_theorem` command as explained in the presentation."
   ]
  },
  {
   "cell_type": "code",
   "execution_count": null,
   "metadata": {
    "collapsed": true
   },
   "outputs": [],
   "source": []
  },
  {
   "cell_type": "markdown",
   "metadata": {},
   "source": [
    "The result should indicates that $\\Pi$ can be obtained multiplyng $T$, $g$, $l$ elevated for given powers:\n",
    "\n",
    "\\begin{equation}\n",
    "\\Pi = T^{x_1} g^{x_2} l^{x_3} \n",
    "\\end{equation}\n",
    "\n",
    "From the output of the `ureg.pi_theorem` command you should get the coefficients $x_1$, $x_2$ and $x_3$.<br />\n",
    "Then you have a formula to get the period of the pendulum $T$ as a function of $\\Pi$, $g$ and $l$ (write down on paper the formula).\n",
    "\n",
    "Assuming that:\n",
    "\n",
    "\\begin{equation*}\n",
    "\\begin{aligned}\n",
    "&\\Pi = 2\\pi\\\\\n",
    "&g = 9.8 \\quad \\frac{m}{s^2}\\\\\n",
    "&l = 0.3 \\quad m\n",
    "\\end{aligned}\n",
    "\\end{equation*}\n",
    "\n",
    "Obtain the period of the pendulum $T$ expressed in _minutes_."
   ]
  },
  {
   "cell_type": "code",
   "execution_count": null,
   "metadata": {
    "collapsed": false
   },
   "outputs": [],
   "source": []
  },
  {
   "cell_type": "markdown",
   "metadata": {},
   "source": [
    "You have gone through all the notebook, great!<br />\n",
    "Please, take the survey for this workshop [here](https://www.surveymonkey.co.uk/r/DRZJFXX).<br />"
   ]
  }
 ],
 "metadata": {
  "kernelspec": {
   "display_name": "Python 2",
   "language": "python",
   "name": "python2"
  },
  "language_info": {
   "codemirror_mode": {
    "name": "ipython",
    "version": 2
   },
   "file_extension": ".py",
   "mimetype": "text/x-python",
   "name": "python",
   "nbconvert_exporter": "python",
   "pygments_lexer": "ipython2",
   "version": "2.7.11"
  }
 },
 "nbformat": 4,
 "nbformat_minor": 0
}
