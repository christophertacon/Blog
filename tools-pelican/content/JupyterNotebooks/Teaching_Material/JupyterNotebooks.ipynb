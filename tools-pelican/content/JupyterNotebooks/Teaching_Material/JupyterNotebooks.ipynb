{
 "cells": [
  {
   "cell_type": "markdown",
   "metadata": {
    "nbpresent": {
     "id": "dd276983-6fbe-41af-9ee8-b11c4c3d62c9"
    }
   },
   "source": [
    "# Jupyter Notebooks"
   ]
  },
  {
   "cell_type": "markdown",
   "metadata": {
    "nbpresent": {
     "id": "195ba9e6-8edb-48d4-9495-8abc2ea9e7b8"
    }
   },
   "source": [
    "Material created by:"
   ]
  },
  {
   "cell_type": "markdown",
   "metadata": {
    "nbpresent": {
     "id": "8476fc81-534b-4ef8-8848-fba423f2d816"
    }
   },
   "source": [
    "- James Bailey\n",
    "- Marian Daogaru"
   ]
  },
  {
   "cell_type": "markdown",
   "metadata": {
    "nbpresent": {
     "id": "b2b5406f-bd0c-444b-b2b9-a12e3b5054ab"
    }
   },
   "source": [
    "In this workshop we will cover:\n",
    "- Introduction to Jupyter Notebooks\n",
    "- nbconvert\n",
    "- nbdime\n",
    "- nbval"
   ]
  },
  {
   "cell_type": "markdown",
   "metadata": {
    "nbpresent": {
     "id": "3142fddf-89e3-4363-8510-ea0c3ee5d2f3"
    }
   },
   "source": [
    "---"
   ]
  },
  {
   "cell_type": "markdown",
   "metadata": {
    "nbpresent": {
     "id": "e10e4ccd-5333-44ee-9f69-13a0c52105b5"
    }
   },
   "source": [
    "## 1. Preparation"
   ]
  },
  {
   "cell_type": "markdown",
   "metadata": {
    "nbpresent": {
     "id": "ff295c00-9f1c-4837-9f07-4c5be91727aa"
    }
   },
   "source": [
    "### 1.1 Pre-requisites\n",
    "- Jupyter Notebook\n",
    "- nbconvert\n",
    "- nbdime\n",
    "- nbval"
   ]
  },
  {
   "cell_type": "markdown",
   "metadata": {
    "nbpresent": {
     "id": "272196d0-b361-413e-9539-d1b737178ed8"
    }
   },
   "source": [
    "### 1.2 Installation Instructions\n",
    "If you already have the required packages installed or are using the pre-installed virtual machine you can skip these steps.\n",
    "\n",
    "#### Jupyter Notebook\n",
    "- **Anaconda** - Jupyter Notebook comes as part of the Anaconda distribution\n",
    "- **pip** - there is a metapackage called Jupyter which will install all of the necessary Jupyter packages\n",
    "      pip install jupyter\n",
    "  \n",
    "#### nbval\n",
    "- **pip** - nbval can be installed through pip:\n",
    "      pip install nbval"
   ]
  },
  {
   "cell_type": "markdown",
   "metadata": {
    "nbpresent": {
     "id": "70f0ea9d-8726-4cfb-94b5-e9e3caafd972"
    }
   },
   "source": [
    "### 1.3 Checking you're ready\n",
    "The following steps allow you to check that you have Jupyter Notebook installed correctly and have the additional packages we are going to show you.\n",
    "\n",
    "#### Opening Jupyter Notebook\n",
    "In a terminal window:\n",
    "     \n",
    "    jupyter notebook\n",
    " \n",
    "This should open an instance of Jupyter Notebook which usually open automatically in your browser. The Jupyter Notebook instance has the default address `http://localhost:8888/` so by typing this into your browser you should also be able to access a running Jupyter Notebook.\n"
   ]
  },
  {
   "cell_type": "markdown",
   "metadata": {
    "nbpresent": {
     "id": "b792abcd-847b-4688-8f3f-6ab5ce65d1d8"
    }
   },
   "source": [
    "---"
   ]
  },
  {
   "cell_type": "markdown",
   "metadata": {
    "nbpresent": {
     "id": "a4e26c18-0cc4-49c7-8008-31fd9d7b194f"
    }
   },
   "source": [
    "## 2. Introduction to Jupyter Notebook"
   ]
  },
  {
   "cell_type": "markdown",
   "metadata": {
    "nbpresent": {
     "id": "098bd86a-1dad-4074-a24d-b0c4a450009f"
    }
   },
   "source": [
    "The following sections are designed as an introduction to Jupyter Notebooks. If you are already familiar with Jupyter Notebook then you can skip this section.\n",
    "\n",
    "- opening Jupyter Notebook\n",
    "- creating a new notebook\n",
    "- renaming a notebook\n",
    "- executing code\n",
    "- executing Markdown"
   ]
  },
  {
   "cell_type": "markdown",
   "metadata": {
    "nbpresent": {
     "id": "778d065e-0fb5-461c-bdb6-400f90e4a0d1"
    }
   },
   "source": [
    "### 2.1 Opening Jupyter Notebook"
   ]
  },
  {
   "cell_type": "markdown",
   "metadata": {
    "collapsed": true,
    "nbpresent": {
     "id": "28c5a52c-21ae-4ed6-bffc-3012a957f018"
    }
   },
   "source": [
    "To start Jupyter Notebook, in a terminal window type:\n",
    "\n",
    "    jupyter notebook\n",
    " \n",
    "This will open a menu containing the files currently in that directory. "
   ]
  },
  {
   "cell_type": "markdown",
   "metadata": {
    "nbpresent": {
     "id": "9d7c7c17-5a0d-4193-89ba-1e8ee5d232fa"
    }
   },
   "source": [
    "### 2.2 Creating a new Notebook\n",
    "To create a new Notebook go to the top right and press new, selecting *Python* from the drop down list. This will open a new Notebook. "
   ]
  },
  {
   "cell_type": "markdown",
   "metadata": {
    "collapsed": true,
    "nbpresent": {
     "id": "07072df6-ee6c-4fd4-9447-29cc6483314a"
    }
   },
   "source": [
    "### 2.3 Renaming a Notebook\n",
    "\n",
    "You can rename the Notebook by clicking where it currently says *Untitled* and entering your name for the file."
   ]
  },
  {
   "cell_type": "markdown",
   "metadata": {
    "nbpresent": {
     "id": "433d14bd-e35a-4f88-b97e-f036f9385d26"
    }
   },
   "source": [
    "### 2.4 Executing Code"
   ]
  },
  {
   "cell_type": "markdown",
   "metadata": {
    "nbpresent": {
     "id": "c45a35e3-77ef-40a9-b0d1-f72cb6df706b"
    }
   },
   "source": [
    "From the toolbar click the plus to add a new cell. By default this a code cell and we can write code in this cell to be executed. Try typing:\n",
    "\n",
    "    print(\"Hello World\")\n",
    "\n",
    "and click `Ctrl+Enter`. The cell below is setup for you to try this out."
   ]
  },
  {
   "cell_type": "code",
   "execution_count": 1,
   "metadata": {
    "collapsed": true,
    "nbpresent": {
     "id": "dad300e5-218b-4c47-bfa4-08206a02cc83"
    }
   },
   "outputs": [],
   "source": [
    "# Use this cell to print \"Hello World\""
   ]
  },
  {
   "cell_type": "markdown",
   "metadata": {
    "nbpresent": {
     "id": "63276b6d-12f0-4062-828a-e9115ee58d7b"
    }
   },
   "source": [
    "#### Executing Markdown\n",
    "\n",
    "The type of content in a cell can be changed using the toolbar at the top. In a code cell click `code` in the toolbar and select `Markdown`. This makes the cell a Markdown cell and we can enter text which when executed is displayed to the screen. The cell below is setup for you to try writing some text and executing."
   ]
  },
  {
   "cell_type": "markdown",
   "metadata": {
    "nbpresent": {
     "id": "03e9a06c-8e95-4bd2-a6e0-6598b4224a29"
    }
   },
   "source": [
    "Try writing some text in here. "
   ]
  },
  {
   "cell_type": "markdown",
   "metadata": {
    "nbpresent": {
     "id": "b072665b-78ad-425c-b879-663218ebb411"
    }
   },
   "source": [
    "Hopefully now you complete basic tasks in Jupyter Notebook like writing and executing code. The next sections present some of the additional tools available for Jupyer Notebook."
   ]
  },
  {
   "cell_type": "markdown",
   "metadata": {
    "nbpresent": {
     "id": "cb75d3e3-01c4-4f81-9238-6e3b73ec4299"
    }
   },
   "source": [
    "---"
   ]
  },
  {
   "cell_type": "markdown",
   "metadata": {
    "nbpresent": {
     "id": "9fb8e43a-1e88-4063-bb9e-e30c24371a42"
    }
   },
   "source": [
    "## 3. nbconvert"
   ]
  },
  {
   "cell_type": "markdown",
   "metadata": {
    "nbpresent": {
     "id": "20874dcf-816f-4e04-ad75-35d3d894cc4b"
    }
   },
   "source": [
    "---"
   ]
  },
  {
   "cell_type": "markdown",
   "metadata": {
    "nbpresent": {
     "id": "45513755-cba0-4339-ad92-32157fc4a265"
    }
   },
   "source": [
    "## 4. nbdime"
   ]
  },
  {
   "cell_type": "markdown",
   "metadata": {
    "nbpresent": {
     "id": "29e68a97-9445-4eb0-819c-ec48a6d1e0d6"
    }
   },
   "source": [
    "---"
   ]
  },
  {
   "cell_type": "markdown",
   "metadata": {
    "nbpresent": {
     "id": "b8be9094-915c-481b-bc3a-c200e0b7fc5d"
    }
   },
   "source": [
    "## 5. nbval"
   ]
  },
  {
   "cell_type": "markdown",
   "metadata": {},
   "source": [
    "The following guide you through the functionality, use cases and examples of the use of nbval. Example notebooks to demonstrate passing and failing tests are given in the folder 'Example_Notebooks'."
   ]
  },
  {
   "cell_type": "markdown",
   "metadata": {
    "nbpresent": {
     "id": "b5a7b617-a1e4-4831-8607-2e1a8ff5f00e"
    }
   },
   "source": [
    "### 5.1 Functionality"
   ]
  },
  {
   "cell_type": "markdown",
   "metadata": {
    "nbpresent": {
     "id": "ac5f2f7c-fe7d-4d89-a632-ab59b1598af0"
    }
   },
   "source": [
    "- validation of outputs from notebook"
   ]
  },
  {
   "cell_type": "markdown",
   "metadata": {
    "nbpresent": {
     "id": "0606df9d-79d8-41b4-892a-e8f5eb72a9b7"
    }
   },
   "source": [
    "nbval is a plugin for pytest and validates the output of notebooks by executing the notebook and comparing to the stored outputs. The outputs from a notebook are saved with the inputs. nbval uses this in testing by executing each cell and comparing the output in the test to the stored output in the notebook. Any differences will cause a failing test."
   ]
  },
  {
   "cell_type": "markdown",
   "metadata": {
    "nbpresent": {
     "id": "352f30f5-2f42-4495-84f3-991ffe7cf5db"
    }
   },
   "source": [
    "#### Stages"
   ]
  },
  {
   "cell_type": "markdown",
   "metadata": {
    "nbpresent": {
     "id": "14991408-9f95-4a3b-acb6-4d151b71c5b7"
    }
   },
   "source": [
    "- stored notebook output\n",
    "- test:\n",
    " - execute each cell\n",
    " - compare test output to stored output\n",
    " - differences cause failing test"
   ]
  },
  {
   "cell_type": "markdown",
   "metadata": {
    "nbpresent": {
     "id": "3231db21-972c-4322-a013-6c09eb175889"
    }
   },
   "source": [
    "#### A note on cell execution"
   ]
  },
  {
   "cell_type": "markdown",
   "metadata": {
    "nbpresent": {
     "id": "dde79144-330f-4bcb-af01-6061bd8ac0d1"
    }
   },
   "source": [
    "Cell Execution:\n",
    "- manual execution as reference\n",
    "- execution during testing with nbval"
   ]
  },
  {
   "cell_type": "markdown",
   "metadata": {
    "nbpresent": {
     "id": "bca109cb-da35-4639-93e9-577d3a53b59f"
    }
   },
   "source": [
    "The stored output in the notebook is the reference used when the notebook is tested. Manual execution of the notebook updates the references used in testing. During testing with nbval the notebook's output are created separately to the output cells, allowing comparison to the previous output."
   ]
  },
  {
   "cell_type": "markdown",
   "metadata": {
    "nbpresent": {
     "id": "15d84dd9-bfa1-4dee-b991-cb1ea1e8d5b9"
    }
   },
   "source": [
    "### 5.2 Use Cases"
   ]
  },
  {
   "cell_type": "markdown",
   "metadata": {
    "nbpresent": {
     "id": "01cbb3ad-bc50-4107-b256-71cc94113436"
    }
   },
   "source": [
    "- validate documentation"
   ]
  },
  {
   "cell_type": "markdown",
   "metadata": {
    "nbpresent": {
     "id": "d8ef7970-a1af-40ea-ba23-0b3e4b1f29c6"
    }
   },
   "source": [
    "Notebooks provide a useful way of creating documentation. By combining text and cell execution documentation can include description and examples of execution. nbval complements this by allowing the execution of the notebook to be validated. "
   ]
  },
  {
   "cell_type": "markdown",
   "metadata": {
    "nbpresent": {
     "id": "0cdf28e1-6b85-4b66-a152-2d928aebaba3"
    }
   },
   "source": [
    "### 5.3 Modes\n"
   ]
  },
  {
   "cell_type": "markdown",
   "metadata": {
    "nbpresent": {
     "id": "b1fe801a-dbe6-4af3-9c04-b07e06089b8b"
    }
   },
   "source": [
    "- `py.test --nbval`\n",
    "- `py.test --nbval-lax`"
   ]
  },
  {
   "cell_type": "markdown",
   "metadata": {
    "nbpresent": {
     "id": "7dbee590-b491-4007-9e9f-9f41a2b7421d"
    }
   },
   "source": [
    "#### Testing with `nbval`\n",
    "With this flag all cells in the notebook are tested by default with flags available to skip execution\n",
    "\n",
    "#### Testing with `nbval-lax`\n",
    "With this flag no cells in the notebook are tested by default and flags are available to cause their execution."
   ]
  },
  {
   "cell_type": "markdown",
   "metadata": {
    "nbpresent": {
     "id": "973981c0-91fd-4db3-a84a-80a8a2dae05d"
    }
   },
   "source": [
    "### 5.4 Basic Cell Execution"
   ]
  },
  {
   "cell_type": "markdown",
   "metadata": {
    "nbpresent": {
     "id": "938944ea-3de4-4b43-8f5f-e80d894781b9"
    }
   },
   "source": [
    "- no output\n",
    "- deterministic output"
   ]
  },
  {
   "cell_type": "markdown",
   "metadata": {},
   "source": [
    "In the folder 'Example_Notebooks' is `nbval_example_11.ipynb`. This notebook contains a cell importing some modules to the notebook and a cell calculating a sum. We can run the tests and check that the notebook is behaving as expected:\n",
    "\n",
    "    py.test --nbval path/to/nbval_example_11.ipynb -v\n",
    "\n",
    "The second notebook is `nbval_example_12.ipynb`. Here we have changed the module being imported to one which does not exist and changed the result of the sum. The output cells are maintained as before to use as reference. When we execute the tests we get two failures:\n",
    "\n",
    "    py.test --nbval path/to/nbval_example_12.ipnb -v"
   ]
  },
  {
   "cell_type": "markdown",
   "metadata": {
    "nbpresent": {
     "id": "e855b898-b6a2-48b1-a2f4-5c99bf473f5c"
    }
   },
   "source": [
    "### 5.5 Adding Comments to Control Testing"
   ]
  },
  {
   "cell_type": "markdown",
   "metadata": {},
   "source": [
    "Comments can be added to cells to control the execution of the tests. The example below allows us to skip the execution of a cell. The random number outputted would cause a failing test.\n",
    "\n",
    "    # NBVAL_SKIP\n",
    "    import random\n",
    "    random.random()\n",
    "\n",
    "Open `nbval_example_21.ipynb` and you will see a cell with the code above. When we execute the tests we get a skipped test.\n",
    "\n",
    "    py.test --nbval path/to/nbval_example_21.ipynb -v"
   ]
  },
  {
   "cell_type": "markdown",
   "metadata": {
    "nbpresent": {
     "id": "3034de0a-2824-4d6a-9462-a3d717db32c2"
    }
   },
   "source": [
    "### 5.7 Ignoring Output"
   ]
  },
  {
   "cell_type": "markdown",
   "metadata": {},
   "source": [
    "For some cells we may want to execute the cell but we don't want the output to be checked. We can specify that we want the cell output ignored. Here we may want to use the value of the random number in another cell but do not want a failing test from the outputting of this number.\n",
    "\n",
    "    # NBVAL_IGNORE_OUTPUT\n",
    "    import random\n",
    "    start = random.random()\n",
    "    print(start)\n",
    "    \n",
    "Open `nbval_example_31.ipynb`; when we execute the tests we get a pass.\n",
    " \n",
    "    py.test --nbval path/to/nbval_example_31.ipynb -v\n",
    " "
   ]
  },
  {
   "cell_type": "markdown",
   "metadata": {
    "nbpresent": {
     "id": "fada5c1d-79f1-4a0f-a93d-ffc91278dbcc"
    }
   },
   "source": [
    "### 5.8 Checking Exceptions"
   ]
  },
  {
   "cell_type": "markdown",
   "metadata": {
    "nbpresent": {
     "id": "a8ed7559-b412-436e-afc3-9705f8c653d6"
    }
   },
   "source": [
    "If an exception occurs when a cell is run during testing then the test returns a fail explaining an exception was raised. We may expect that an exception is raised but want to check that the correct exception has been raised. We can do that by specifying that a cell raises an exception:\n",
    "    \n",
    "    # NBVAL_RAISES_EXCEPTION\n",
    "    raise(ValueError)\n",
    "    \n",
    "Open `nbval_example_41.ipynb`. We see a cell which will raise a `ValueError`, we can execute the tests to see what the result will be:\n",
    "\n",
    "    py.test --nbval path/to/nbval_example_41.ipynb -v\n",
    "    \n",
    "Open `nbval_example_42.ipynb`. We now see a cell which tells nbval that an exception is raised. nbval checks the exception raised in testing against the reference exception stored in the output.\n",
    "\n",
    "    py.test --nbval path/to/nbval_example_42.ipynb -v\n",
    "    \n",
    "Open `nbval_example_43.ipynb`. We now see that the raised exception has changed. We can again execute the tests:\n",
    "\n",
    "    py.test --nbval path/to/nbval_example_43.ipynb -v"
   ]
  },
  {
   "cell_type": "markdown",
   "metadata": {
    "nbpresent": {
     "id": "fe88548b-62a0-4175-8c8f-489c183efd8f"
    }
   },
   "source": [
    "### 5.9 Checking Output with lax"
   ]
  },
  {
   "cell_type": "markdown",
   "metadata": {
    "nbpresent": {
     "id": "a3ec0ea4-66c3-4625-9d2e-f5236eede36c"
    }
   },
   "source": [
    "When the flag `-lax` is used no cells are executed by default. We can specify that a cell should be executed using check output:\n",
    "\n",
    "    # NBVAL_CHECK_OUTPUT\n",
    "    2 + 2\n",
    "    \n",
    "Open `nbval_example_51.ipynb`. We can see that the output of some cells will be tested and others will not. We can again execute the tests:\n",
    "\n",
    "    py.test --nbval -v path/to/nbval_example_51.ipynb"
   ]
  },
  {
   "cell_type": "markdown",
   "metadata": {
    "nbpresent": {
     "id": "e4c96b14-c7b7-46dc-aac0-06b4a70b1f03"
    }
   },
   "source": [
    "### 5.10 Other Features"
   ]
  },
  {
   "cell_type": "markdown",
   "metadata": {
    "nbpresent": {
     "id": "50d7c84d-7695-4651-9eaa-ded202589c51"
    }
   },
   "source": [
    "- **Cell Tagging**\n",
    "- **Output Sanitising**\n",
    "- **Figures**"
   ]
  },
  {
   "cell_type": "markdown",
   "metadata": {
    "collapsed": true
   },
   "source": [
    "The features above are not covered as part of this workshop but we mention them here as further parts of `nbval`. More information about these features is contained in the package's [documentation](https://github.com/computationalmodelling/nbval/blob/master/documentation.ipynb)\n",
    "\n",
    "#### Cell Tagging\n",
    "For languages which do not fit the format of lines starting with `#` or if the additional comment is undesired in the cell then the cell can be tagged. The metadata for that cell can be altered to contain the desired tag.\n",
    "\n",
    "#### Output Sanitising\n",
    "For some cells the expected output will change. For cells containing references to the date or time or containing a random element the output will change each time, but does not mean a failing test. Regular expressions can be used to search for these outputs and sanitise them into something which can be checked by nbval.\n",
    "\n",
    "#### Figures\n",
    "For figures, the text output referencing the figure can be checked as part of the tests."
   ]
  },
  {
   "cell_type": "markdown",
   "metadata": {},
   "source": [
    "## Worksheet"
   ]
  },
  {
   "cell_type": "markdown",
   "metadata": {},
   "source": [
    "### Introduction to Jupyter Notebooks"
   ]
  },
  {
   "cell_type": "markdown",
   "metadata": {},
   "source": [
    "If you are familiar with Jupyter Notebooks then feel free to skip this section and move on to nbconvert.\n",
    "\n",
    "- 1\\. Open Jupyter Notebook\n",
    "- 2\\. Create a new notebook\n",
    "- 3\\. Rename the notebook\n",
    "- 4\\. Add some new cells\n",
    "- 5\\. Execute some Python code in the cells\n",
    "- 6\\. Write some Markdown, execute the cells and see the output\n",
    "- 7\\. Remove some of the cells"
   ]
  },
  {
   "cell_type": "markdown",
   "metadata": {},
   "source": [
    "### nbconvert"
   ]
  },
  {
   "cell_type": "code",
   "execution_count": null,
   "metadata": {
    "collapsed": true
   },
   "outputs": [],
   "source": []
  },
  {
   "cell_type": "markdown",
   "metadata": {},
   "source": [
    "### nbdime"
   ]
  },
  {
   "cell_type": "code",
   "execution_count": null,
   "metadata": {
    "collapsed": true
   },
   "outputs": [],
   "source": []
  },
  {
   "cell_type": "markdown",
   "metadata": {},
   "source": [
    "### nbval"
   ]
  },
  {
   "cell_type": "markdown",
   "metadata": {},
   "source": [
    "- 0\\. If there were any examples shown which you are unsure about, see the folder 'Example_Notebooks' for the examples shown\n",
    "- 1\\. Create an example piece of documentation which you will test. This should include:\n",
    " - a basic function which you are documenting (Create something which has example uses and requires exceptions to be raised. We used factorial.)\n",
    " - Write some documentation for your function in the notebook\n",
    " - Show some example use cases, including cases when an exception should be raised\n",
    "- 2\\. Test your notebook to show the tests passing\n",
    "- 3\\. Add some bugs to your function to change the output and show the tests failing\n",
    "- 4\\. For an additional challenge try tagging rather than commenting the cells of your notebook and getting the same test results"
   ]
  }
 ],
 "metadata": {
  "anaconda-cloud": {},
  "kernelspec": {
   "display_name": "Python [default]",
   "language": "python",
   "name": "python3"
  },
  "language_info": {
   "codemirror_mode": {
    "name": "ipython",
    "version": 3
   },
   "file_extension": ".py",
   "mimetype": "text/x-python",
   "name": "python",
   "nbconvert_exporter": "python",
   "pygments_lexer": "ipython3",
   "version": "3.5.2"
  },
  "nbpresent": {
   "slides": {
    "38cc7424-91d7-4ff0-8822-1e1579ad7517": {
     "id": "38cc7424-91d7-4ff0-8822-1e1579ad7517",
     "prev": "9b923e7c-540f-4bbe-a8ae-5b30b298c63a",
     "regions": {
      "417ffcc8-cb45-47a8-b39d-76b2622b3834": {
       "attrs": {
        "height": 0.4,
        "width": 0.4,
        "x": 0.5,
        "y": 0.09542334096109838
       },
       "height": 0.1,
       "id": "417ffcc8-cb45-47a8-b39d-76b2622b3834",
       "y": 0.1
      },
      "6d9a0895-5686-41c3-a9d7-1a94a72a653f": {
       "attrs": {
        "height": 0.4,
        "width": 0.4,
        "x": 0.5,
        "y": 0.5
       },
       "id": "6d9a0895-5686-41c3-a9d7-1a94a72a653f"
      },
      "a5fe29c8-2737-4e90-bdb9-37ca15064a64": {
       "attrs": {
        "height": -3.650000000000002,
        "width": 0.4,
        "x": 0.1,
        "y": 0.1
       },
       "content": {
        "cell": "3231db21-972c-4322-a013-6c09eb175889",
        "part": "whole"
       },
       "height": 0.1,
       "id": "a5fe29c8-2737-4e90-bdb9-37ca15064a64"
      },
      "a7e1b178-75a9-476f-a435-a17371cced59": {
       "attrs": {
        "height": 0.4,
        "width": 0.4,
        "x": 0.08525148177574368,
        "y": 0.5
       },
       "id": "a7e1b178-75a9-476f-a435-a17371cced59"
      }
     }
    },
    "5dcf0c09-2381-41ba-bbdd-1e6d662a7624": {
     "id": "5dcf0c09-2381-41ba-bbdd-1e6d662a7624",
     "prev": "7371d39a-e08a-4333-9faa-d5aee2540012",
     "regions": {
      "0408d0b7-6050-45b6-8881-88f9b5585577": {
       "attrs": {
        "height": 0.2,
        "width": 0.4,
        "x": 0.1,
        "y": 0.7
       },
       "id": "0408d0b7-6050-45b6-8881-88f9b5585577"
      },
      "5acfaad7-c078-4013-b783-3417075b17f1": {
       "attrs": {
        "height": 0.2,
        "width": 0.4,
        "x": 0.5,
        "y": 0.7
       },
       "id": "5acfaad7-c078-4013-b783-3417075b17f1"
      },
      "ab148711-ffe6-4eb4-9288-fe3d1ceb32fc": {
       "attrs": {
        "height": 0.6,
        "width": 0.8,
        "x": 0.1,
        "y": 0.1
       },
       "content": {
        "cell": "a4e26c18-0cc4-49c7-8008-31fd9d7b194f",
        "part": "whole"
       },
       "id": "ab148711-ffe6-4eb4-9288-fe3d1ceb32fc"
      }
     }
    },
    "7371d39a-e08a-4333-9faa-d5aee2540012": {
     "id": "7371d39a-e08a-4333-9faa-d5aee2540012",
     "prev": "eaea8269-f2af-4377-ba7e-596deeb73295",
     "regions": {
      "700db8ce-ddc0-419b-8256-34a653c4a3d5": {
       "attrs": {
        "height": 0.8,
        "width": 0.45,
        "x": 0.05,
        "y": 0.1
       },
       "content": {
        "cell": "b2b5406f-bd0c-444b-b2b9-a12e3b5054ab",
        "part": "whole"
       },
       "id": "700db8ce-ddc0-419b-8256-34a653c4a3d5"
      },
      "ff2a99b2-7540-442d-a0ef-430fdaae99d9": {
       "attrs": {
        "height": 0.8,
        "width": 0.45,
        "x": 0.5,
        "y": 0.1
       },
       "id": "ff2a99b2-7540-442d-a0ef-430fdaae99d9"
      }
     }
    },
    "9b923e7c-540f-4bbe-a8ae-5b30b298c63a": {
     "id": "9b923e7c-540f-4bbe-a8ae-5b30b298c63a",
     "prev": "a48bc788-3d65-4341-95c1-d9f7b9d2468e",
     "regions": {
      "4a32200c-38c3-4239-be22-eec62e517169": {
       "attrs": {
        "height": 0.6379862700228832,
        "width": 0.4,
        "x": 0.5,
        "y": 0.266425649208238
       },
       "content": {
        "cell": "14991408-9f95-4a3b-acb6-4d151b71c5b7",
        "part": "whole"
       },
       "height": 0.64,
       "id": "4a32200c-38c3-4239-be22-eec62e517169",
       "y": 0.26
      },
      "de2f3d88-78c7-4f61-be15-9dc8a46fdf4a": {
       "attrs": {
        "height": 0.15743707093821513,
        "width": 0.4,
        "x": 0.1,
        "y": 0.0972251041098398
       },
       "content": {
        "cell": "b5a7b617-a1e4-4831-8607-2e1a8ff5f00e",
        "part": "whole"
       },
       "id": "de2f3d88-78c7-4f61-be15-9dc8a46fdf4a",
       "y": 0.1
      },
      "f8bd193c-ea28-41a7-b6b3-3fce199bd288": {
       "attrs": {
        "height": 0.6402745995423341,
        "width": 0.4,
        "x": 0.1,
        "y": 0.2597254004576659
       },
       "content": {
        "cell": "ac5f2f7c-fe7d-4d89-a632-ab59b1598af0",
        "part": "whole"
       },
       "id": "f8bd193c-ea28-41a7-b6b3-3fce199bd288"
      },
      "f8e76a18-a83c-4f28-88e7-17ae3c8c4702": {
       "attrs": {
        "height": 0.1574370709382151,
        "width": 0.4,
        "x": 0.5,
        "y": 0.09771167048054921
       },
       "content": {
        "cell": "352f30f5-2f42-4495-84f3-991ffe7cf5db",
        "part": "whole"
       },
       "id": "f8e76a18-a83c-4f28-88e7-17ae3c8c4702",
       "y": 0.1
      }
     }
    },
    "a48bc788-3d65-4341-95c1-d9f7b9d2468e": {
     "id": "a48bc788-3d65-4341-95c1-d9f7b9d2468e",
     "prev": "5dcf0c09-2381-41ba-bbdd-1e6d662a7624",
     "regions": {
      "376c5e47-d147-44a4-b2a4-b32d94c8b860": {
       "attrs": {
        "height": 0.2,
        "width": 0.4,
        "x": 0.5,
        "y": 0.7
       },
       "id": "376c5e47-d147-44a4-b2a4-b32d94c8b860"
      },
      "6532ee67-0d78-47fb-8488-e476c066ca28": {
       "attrs": {
        "height": 0.6,
        "width": 0.8,
        "x": 0.1,
        "y": 0.1
       },
       "content": {
        "cell": "b8be9094-915c-481b-bc3a-c200e0b7fc5d",
        "part": "whole"
       },
       "id": "6532ee67-0d78-47fb-8488-e476c066ca28"
      },
      "6f487e8c-a1cf-45a7-abe1-e75cf21d3d4b": {
       "attrs": {
        "height": 0.2,
        "width": 0.4,
        "x": 0.1,
        "y": 0.7
       },
       "id": "6f487e8c-a1cf-45a7-abe1-e75cf21d3d4b"
      }
     }
    },
    "eaea8269-f2af-4377-ba7e-596deeb73295": {
     "id": "eaea8269-f2af-4377-ba7e-596deeb73295",
     "prev": null,
     "regions": {
      "2a56d0d2-9c4b-4d50-9134-8a68383f8a69": {
       "attrs": {
        "height": 0.2,
        "width": 0.4,
        "x": 0.5,
        "y": 0.7
       },
       "id": "2a56d0d2-9c4b-4d50-9134-8a68383f8a69"
      },
      "60077c24-ef70-4177-8c74-3b761b253f7f": {
       "attrs": {
        "height": 0.6,
        "width": 0.8,
        "x": 0.1,
        "y": 0.1
       },
       "content": {
        "cell": "dd276983-6fbe-41af-9ee8-b11c4c3d62c9",
        "part": "whole"
       },
       "id": "60077c24-ef70-4177-8c74-3b761b253f7f"
      },
      "652d7a36-fcaf-46ce-8aa4-be6b5604a4ae": {
       "attrs": {
        "height": 0.2,
        "width": 0.4,
        "x": 0.1,
        "y": 0.7
       },
       "content": {
        "cell": "8476fc81-534b-4ef8-8848-fba423f2d816",
        "part": "source"
       },
       "id": "652d7a36-fcaf-46ce-8aa4-be6b5604a4ae"
      }
     }
    }
   },
   "themes": {
    "default": "95df4535-aa57-4e4f-ad27-f2be22a7b426",
    "theme": {
     "95df4535-aa57-4e4f-ad27-f2be22a7b426": {
      "backgrounds": {
       "backgroundColor": {
        "background-color": "backgroundColor",
        "id": "backgroundColor"
       }
      },
      "id": "95df4535-aa57-4e4f-ad27-f2be22a7b426",
      "palette": {
       "backgroundColor": {
        "id": "backgroundColor",
        "rgb": [
         247,
         243,
         222
        ]
       },
       "headingColor": {
        "id": "headingColor",
        "rgb": [
         51,
         51,
         51
        ]
       },
       "linkColor": {
        "id": "linkColor",
        "rgb": [
         139,
         116,
         61
        ]
       },
       "mainColor": {
        "id": "mainColor",
        "rgb": [
         51,
         51,
         51
        ]
       }
      },
      "rules": {
       "a": {
        "color": "linkColor"
       },
       "h1": {
        "color": "headingColor",
        "font-family": "Oswald",
        "font-size": 7
       },
       "h2": {
        "color": "headingColor",
        "font-family": "Oswald",
        "font-size": 5
       },
       "h3": {
        "color": "headingColor",
        "font-family": "Oswald",
        "font-size": 3.75
       },
       "h4": {
        "color": "headingColor",
        "font-family": "Oswald",
        "font-size": 3
       },
       "h5": {
        "color": "headingColor",
        "font-family": "Oswald"
       },
       "h6": {
        "color": "headingColor",
        "font-family": "Oswald"
       },
       "h7": {
        "color": "headingColor",
        "font-family": "Oswald"
       },
       "li": {
        "color": "mainColor",
        "font-family": "Lato",
        "font-size": 5
       },
       "p": {
        "color": "mainColor",
        "font-family": "Lato",
        "font-size": 5
       }
      },
      "text-base": {
       "color": "mainColor",
       "font-family": "Lato",
       "font-size": 5
      }
     }
    }
   }
  }
 },
 "nbformat": 4,
 "nbformat_minor": 2
}
