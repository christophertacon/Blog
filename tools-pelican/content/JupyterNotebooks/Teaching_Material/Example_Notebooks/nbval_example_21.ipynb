{
 "cells": [
  {
   "cell_type": "markdown",
   "metadata": {},
   "source": [
    "# nbval Example 2"
   ]
  },
  {
   "cell_type": "code",
   "execution_count": 7,
   "metadata": {
    "collapsed": false,
    "nbpresent": {
     "id": "cell_content_skippingcells"
    }
   },
   "outputs": [
    {
     "data": {
      "text/plain": [
       "0.9600828132887814"
      ]
     },
     "execution_count": 7,
     "metadata": {},
     "output_type": "execute_result"
    }
   ],
   "source": [
    "# NBVAL_SKIP\n",
    "import random\n",
    "random.random()"
   ]
  }
 ],
 "metadata": {
  "anaconda-cloud": {},
  "kernelspec": {
   "display_name": "Python [default]",
   "language": "python",
   "name": "python3"
  },
  "language_info": {
   "codemirror_mode": {
    "name": "ipython",
    "version": 3
   },
   "file_extension": ".py",
   "mimetype": "text/x-python",
   "name": "python",
   "nbconvert_exporter": "python",
   "pygments_lexer": "ipython3",
   "version": "3.5.2"
  },
  "nbpresent": {
   "slides": {
    "ceeda0f9-f613-4936-9dba-d5a4a40c55fe": {
     "id": "ceeda0f9-f613-4936-9dba-d5a4a40c55fe",
     "prev": "slide_notebookcontent_2",
     "regions": {
      "16967db8-b9ec-4e33-a51a-4503de108b9e": {
       "attrs": {
        "height": 0.5983978638184246,
        "width": 0.6460113484646195,
        "x": 0.0943090787716956,
        "y": 0.30026702269692923
       },
       "content": {
        "cell": "b121b1d6-a29d-4e9c-bddd-76e20ed5dad2",
        "part": "whole"
       },
       "id": "16967db8-b9ec-4e33-a51a-4503de108b9e"
      },
      "63e01bee-7688-4c5a-a49a-b23a38a19b27": {
       "attrs": {
        "height": 0.07369826435247002,
        "width": 0.8300400534045393,
        "x": 0.0909879839786382,
        "y": 0.1974632843791722
       },
       "content": {
        "cell": "element_hrule",
        "part": "whole"
       },
       "id": "63e01bee-7688-4c5a-a49a-b23a38a19b27"
      },
      "68bc5227-6d43-407d-8f0e-d0e75ee5b149": {
       "attrs": {
        "height": 0.11108144192256345,
        "width": 0.6415387182910547,
        "x": 0.08873497997329774,
        "y": 0.06929238985313753
       },
       "content": {
        "cell": "notebook_title",
        "part": "whole"
       },
       "id": "68bc5227-6d43-407d-8f0e-d0e75ee5b149"
      },
      "slide_footer_authors": {
       "attrs": {
        "height": 0.05,
        "width": 0.4,
        "x": 0.5,
        "y": 0.9
       },
       "content": {
        "cell": "footer_authors",
        "part": "whole"
       },
       "id": "slide_footer_authors"
      },
      "slide_footer_title": {
       "attrs": {
        "height": 0.05,
        "width": 0.4,
        "x": 0.1,
        "y": 0.9
       },
       "content": {
        "cell": "footer_title",
        "part": "whole"
       },
       "id": "slide_footer_title"
      }
     }
    },
    "slide_notebookcontent": {
     "id": "slide_notebookcontent",
     "prev": null,
     "regions": {
      "slide_element_hrule_1": {
       "attrs": {
        "height": 0.1,
        "width": 0.8,
        "x": 0.1,
        "y": 0.34699599465954606
       },
       "content": {
        "cell": "element_hrule",
        "part": "whole"
       },
       "id": "slide_element_hrule_1"
      },
      "slide_element_hrule_2": {
       "attrs": {
        "height": 0.1,
        "width": 0.8,
        "x": 0.1,
        "y": 0.18544726301735648
       },
       "content": {
        "cell": "element_hrule2",
        "part": "whole"
       },
       "id": "slide_element_hrule_2"
      },
      "slide_element_hrule_3": {
       "attrs": {
        "height": 0.1,
        "width": 0.8,
        "x": 0.1,
        "y": 0.85
       },
       "content": {
        "cell": "element_hrule3",
        "part": "whole"
       },
       "id": "slide_element_hrule_2"
      },
      "slide_element_title": {
       "attrs": {
        "height": 0.11428571428571424,
        "width": 0.8,
        "x": 0.1,
        "y": 0.05
       },
       "content": {
        "cell": "cell_title_skippingcells",
        "part": "whole"
       },
       "id": "slide_element_title"
      },
      "slide_footer_authors": {
       "attrs": {
        "height": 0.05,
        "width": 0.4,
        "x": 0.5,
        "y": 0.9
       },
       "content": {
        "cell": "footer_authors",
        "part": "whole"
       },
       "id": "slide_footer_authors"
      },
      "slide_footer_title": {
       "attrs": {
        "height": 0.05,
        "width": 0.4,
        "x": 0.1,
        "y": 0.9
       },
       "content": {
        "cell": "footer_title",
        "part": "whole"
       },
       "id": "slide_footer_title"
      },
      "slide_label_input": {
       "attrs": {
        "height": 0.06568758344459286,
        "width": 0.2,
        "x": 0.1,
        "y": 0.4
       },
       "content": {
        "cell": "label_input",
        "part": "whole"
       },
       "id": "slide_region_input"
      },
      "slide_label_marker": {
       "attrs": {
        "height": 0.1,
        "width": 0.2,
        "x": 0.1,
        "y": 0.25
       },
       "content": {
        "cell": "label_marker",
        "part": "whole"
       },
       "id": "slide_label_marker"
      },
      "slide_label_output": {
       "attrs": {
        "height": 0.2,
        "width": 0.2,
        "x": 0.1,
        "y": 0.65
       },
       "content": {
        "cell": "label_output",
        "part": "whole"
       },
       "id": "slide_region_output"
      },
      "slide_region_input": {
       "attrs": {
        "height": 0.2,
        "width": 0.6,
        "x": 0.3,
        "y": 0.4
       },
       "content": {
        "cell": "cell_content_skippingcells",
        "part": "source"
       },
       "id": "slide_region_input"
      },
      "slide_region_marker": {
       "attrs": {
        "height": 0.1,
        "width": 0.6,
        "x": 0.3,
        "y": 0.25
       },
       "content": {
        "cell": "cell_marker_skippingcells",
        "part": "whole"
       },
       "id": "slide_region_marker"
      },
      "slide_region_output": {
       "attrs": {
        "height": 0.2,
        "width": 0.6,
        "x": 0.3,
        "y": 0.65
       },
       "content": {
        "cell": "cell_content_skippingcells",
        "part": "outputs"
       },
       "id": "slide_region_output"
      }
     }
    },
    "slide_notebookcontent_2": {
     "id": "slide_notebookcontent_2",
     "prev": "slide_notebookcontent",
     "regions": {
      "slide_element_hrule_1": {
       "attrs": {
        "height": 0.1,
        "width": 0.8,
        "x": 0.1,
        "y": 0.18544726301735648
       },
       "content": {
        "cell": "element_hrule",
        "part": "whole"
       },
       "id": "slide_element_hrule_1"
      },
      "slide_element_hrule_3": {
       "attrs": {
        "height": 0.1,
        "width": 0.8,
        "x": 0.1,
        "y": 0.85
       },
       "content": {
        "cell": "element_hrule3",
        "part": "whole"
       },
       "id": "slide_element_hrule_2"
      },
      "slide_element_title": {
       "attrs": {
        "height": 0.11428571428571424,
        "width": 0.8,
        "x": 0.1,
        "y": 0.05
       },
       "content": {
        "cell": "cell_title_skippingcells",
        "part": "whole"
       },
       "id": "slide_element_title"
      },
      "slide_footer_authors": {
       "attrs": {
        "height": 0.05,
        "width": 0.4,
        "x": 0.5,
        "y": 0.9
       },
       "content": {
        "cell": "footer_authors",
        "part": "whole"
       },
       "id": "slide_footer_authors"
      },
      "slide_footer_title": {
       "attrs": {
        "height": 0.05,
        "width": 0.4,
        "x": 0.1,
        "y": 0.9
       },
       "content": {
        "cell": "footer_title",
        "part": "whole"
       },
       "id": "slide_footer_title"
      },
      "slide_label_test": {
       "attrs": {
        "height": 0.1,
        "width": 0.2,
        "x": 0.1,
        "y": 0.25
       },
       "content": {
        "cell": "label_test",
        "part": "whole"
       },
       "id": "slide_label_test"
      },
      "slide_label_testoutput": {
       "attrs": {
        "height": 0.06568758344459286,
        "width": 0.4,
        "x": 0.1,
        "y": 0.32
       },
       "content": {
        "cell": "label_testoutput",
        "part": "whole"
       },
       "id": "slide_label_testoutput"
      },
      "slide_region_test": {
       "attrs": {
        "height": 0.1,
        "width": 0.6,
        "x": 0.3,
        "y": 0.25
       },
       "content": {
        "cell": "cell_test_skippingcells",
        "part": "source"
       },
       "id": "slide_region_test"
      },
      "slide_region_testoutput": {
       "attrs": {
        "height": 0.45,
        "width": 0.96,
        "x": 0.02,
        "y": 0.4
       },
       "content": {
        "cell": "cell_test_skippingcells",
        "part": "outputs"
       },
       "id": "slide_region_testoutput"
      }
     }
    }
   },
   "themes": {
    "default": "my-theme",
    "theme": {
     "my-theme": {
      "backgrounds": {
       "my-background": {
        "background-color": "my-white"
       }
      },
      "id": "my-theme",
      "palette": {
       "my-black": {
        "id": "my-black",
        "rgb": [
         0,
         0,
         0
        ]
       },
       "my-blue": {
        "id": "my-blue",
        "rgb": [
         0,
         80,
         0
        ]
       },
       "my-testcolor": {
        "id": "my-testcolor",
        "rgb": [
         255,
         0,
         0
        ]
       },
       "my-white": {
        "id": "my-white",
        "rgb": [
         255,
         255,
         255
        ]
       }
      },
      "rules": {
       "h1": {
        "color": "my-black",
        "font-size": 10
       },
       "h2": {
        "color": "my-black",
        "font-size": 6
       },
       "h4": {
        "color": "my-black",
        "font-size": 4
       },
       "h5": {
        "color": "my-blue"
       },
       "li": {
        "color": "my-black",
        "font-size": 4
       },
       "p": {
        "color": "my-blue",
        "font-size": 5
       },
       "pre": {
        "color": "my-black",
        "font-size": 2.4
       }
      },
      "text-base": {
       "font-family": "Helvetica Neue",
       "font-size": 2
      }
     }
    }
   }
  }
 },
 "nbformat": 4,
 "nbformat_minor": 2
}
