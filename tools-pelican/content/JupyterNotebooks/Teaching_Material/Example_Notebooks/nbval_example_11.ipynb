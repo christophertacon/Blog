{
 "cells": [
  {
   "cell_type": "markdown",
   "metadata": {
    "nbpresent": {
     "id": "76ae8e20-9731-4ae9-b5e9-3c77c8090cc9"
    }
   },
   "source": [
    "# nbval Example 1"
   ]
  },
  {
   "cell_type": "code",
   "execution_count": 1,
   "metadata": {
    "collapsed": false,
    "nbpresent": {
     "id": "1c07d70e-02d9-48f8-bd59-9d2b11f4fc26"
    }
   },
   "outputs": [
    {
     "data": {
      "text/plain": [
       "2"
      ]
     },
     "execution_count": 1,
     "metadata": {},
     "output_type": "execute_result"
    }
   ],
   "source": [
    "1 + 1"
   ]
  }
 ],
 "metadata": {
  "anaconda-cloud": {},
  "kernelspec": {
   "display_name": "Python [default]",
   "language": "python",
   "name": "python3"
  },
  "language_info": {
   "codemirror_mode": {
    "name": "ipython",
    "version": 3
   },
   "file_extension": ".py",
   "mimetype": "text/x-python",
   "name": "python",
   "nbconvert_exporter": "python",
   "pygments_lexer": "ipython3",
   "version": "3.5.2"
  },
  "nbpresent": {
   "slides": {
    "2e63f0d9-a62b-4165-af58-0ce463979f6e": {
     "id": "2e63f0d9-a62b-4165-af58-0ce463979f6e",
     "prev": null,
     "regions": {
      "8471a65b-fb82-4231-94e3-4a743164271a": {
       "attrs": {
        "height": 0.6518024032042726,
        "width": 0.45,
        "x": 0.048497997329773036,
        "y": 0.2468624833110814
       },
       "content": {
        "cell": "1afe109d-7421-4f28-a52c-fc7e694ee0e1",
        "part": "whole"
       },
       "id": "8471a65b-fb82-4231-94e3-4a743164271a"
      },
      "b47f0463-e981-4c82-9171-c136a0c377d2": {
       "attrs": {
        "height": 0.655807743658211,
        "width": 0.45,
        "x": 0.5,
        "y": 0.24419225634178907
       },
       "content": {
        "cell": "1c07d70e-02d9-48f8-bd59-9d2b11f4fc26",
        "part": "whole"
       },
       "id": "b47f0463-e981-4c82-9171-c136a0c377d2"
      },
      "f1361894-8a68-4c4d-ac98-303739ed9e88": {
       "attrs": {
        "height": 0.15781041388518027,
        "width": 0.8983811748998665,
        "x": 0.048931909212283034,
        "y": 0.0732977303070761
       },
       "content": {
        "cell": "76ae8e20-9731-4ae9-b5e9-3c77c8090cc9",
        "part": "whole"
       },
       "id": "f1361894-8a68-4c4d-ac98-303739ed9e88"
      }
     }
    }
   },
   "themes": {}
  }
 },
 "nbformat": 4,
 "nbformat_minor": 2
}
