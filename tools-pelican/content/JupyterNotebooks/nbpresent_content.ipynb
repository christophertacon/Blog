{
 "cells": [
  {
   "cell_type": "code",
   "execution_count": 1,
   "metadata": {
    "collapsed": true
   },
   "outputs": [],
   "source": [
    "themes_json = '''{\"themes\": {\n",
    "    \"default\": \"my-theme\",\n",
    "    \"theme\": {\n",
    "     \"my-theme\": {\n",
    "      \"backgrounds\": {\n",
    "       \"my-background\": {\n",
    "        \"background-color\": \"my-white\"\n",
    "       }\n",
    "      },\n",
    "      \"id\": \"my-theme\",\n",
    "      \"palette\": {\n",
    "       \"my-black\": {\n",
    "        \"id\": \"my-black\",\n",
    "        \"rgb\": [\n",
    "         0,\n",
    "         0,\n",
    "         0\n",
    "        ]\n",
    "       },\n",
    "       \"my-green\": {\n",
    "        \"id\": \"my-green\",\n",
    "        \"rgb\": [\n",
    "         0,\n",
    "         80,\n",
    "         0\n",
    "        ]\n",
    "       },\n",
    "       \"my-testcolor\": {\n",
    "        \"id\": \"my-testcolor\",\n",
    "        \"rgb\": [\n",
    "         255,\n",
    "         0,\n",
    "         0\n",
    "        ]\n",
    "       },\n",
    "       \"my-white\": {\n",
    "        \"id\": \"my-white\",\n",
    "        \"rgb\": [\n",
    "         255,\n",
    "         255,\n",
    "         255\n",
    "        ]\n",
    "       }\n",
    "      },\n",
    "      \"rules\": {\n",
    "       \"h1\": {\n",
    "        \"color\": \"my-black\",\n",
    "        \"font-size\": 10\n",
    "       },\n",
    "       \"h2\": {\n",
    "        \"color\": \"my-black\",\n",
    "        \"font-size\": 6\n",
    "       },\n",
    "       \"h4\": {\n",
    "        \"color\": \"my-black\",\n",
    "        \"font-size\": 4\n",
    "       },\n",
    "       \"h5\": {\n",
    "        \"color\": \"my-green\"\n",
    "       },\n",
    "       \"li\": {\n",
    "        \"color\": \"my-black\",\n",
    "        \"font-size\": 4\n",
    "       },\n",
    "       \"p\": {\n",
    "        \"color\": \"my-green\",\n",
    "        \"font-size\": 5\n",
    "       },\n",
    "       \"pre\": {\n",
    "        \"color\": \"my-black\",\n",
    "        \"font-size\": 2.4\n",
    "       }\n",
    "      },\n",
    "      \"text-base\": {\n",
    "       \"font-family\": \"Helvetica Neue\",\n",
    "       \"font-size\": 2\n",
    "      }\n",
    "     }\n",
    "    }\n",
    "   }}'''"
   ]
  },
  {
   "cell_type": "code",
   "execution_count": 647,
   "metadata": {
    "collapsed": true
   },
   "outputs": [],
   "source": [
    "theme_json_main = ''' {\"my-theme\": {\n",
    "          \"palette\": {\n",
    "            \"my-white\": {\n",
    "              \"rgb\": [\n",
    "                255,\n",
    "                255,\n",
    "                255\n",
    "              ],\n",
    "              \"id\": \"my-white\"\n",
    "            },\n",
    "            \"my-testcolor\": {\n",
    "              \"rgb\": [\n",
    "                255,\n",
    "                0,\n",
    "                0\n",
    "              ],\n",
    "              \"id\": \"my-testcolor\"\n",
    "            },\n",
    "            \"my-green\": {\n",
    "              \"rgb\": [\n",
    "                0,\n",
    "                80,\n",
    "                0\n",
    "              ],\n",
    "              \"id\": \"my-green\"\n",
    "            },\n",
    "            \"my-black\": {\n",
    "              \"rgb\": [\n",
    "                0,\n",
    "                0,\n",
    "                0\n",
    "              ],\n",
    "              \"id\": \"my-black\"\n",
    "            }\n",
    "          },\n",
    "          \"text-base\": {\n",
    "            \"font-size\": 2,\n",
    "            \"font-family\": \"Helvetica Neue\"\n",
    "          },\n",
    "          \"rules\": {\n",
    "            \"h2\": {\n",
    "              \"color\": \"my-black\",\n",
    "              \"font-size\": 6\n",
    "            },\n",
    "            \"pre\": {\n",
    "              \"color\": \"my-black\",\n",
    "              \"font-size\": 2.4\n",
    "            },\n",
    "            \"h1\": {\n",
    "              \"color\": \"my-black\",\n",
    "              \"font-size\": 10\n",
    "            },\n",
    "            \"li\": {\n",
    "              \"color\": \"my-black\",\n",
    "              \"font-size\": 4\n",
    "            },\n",
    "            \"h5\": {\n",
    "              \"color\": \"my-green\"\n",
    "            },\n",
    "            \"h4\": {\n",
    "              \"color\": \"my-black\",\n",
    "              \"font-size\": 4\n",
    "            },\n",
    "            \"p\": {\n",
    "              \"color\": \"my-green\",\n",
    "              \"font-size\": 5\n",
    "            }\n",
    "          },\n",
    "          \"id\": \"my-theme\",\n",
    "          \"backgrounds\": {\n",
    "            \"my-background\": {\n",
    "              \"background-color\": \"my-green\"\n",
    "            }\n",
    "          }\n",
    "        }}'''"
   ]
  },
  {
   "cell_type": "code",
   "execution_count": 2,
   "metadata": {
    "collapsed": true
   },
   "outputs": [],
   "source": [
    "slide_test_json = '''\"slide_notebookcontent_2\": \n",
    "    {\n",
    "     \"id\": \"slide_notebookcontent_2\",\n",
    "     \"prev\": \"slide_notebookcontent\",\n",
    "     \"regions\": {\n",
    "      \"slide_element_hrule_1\": {\n",
    "       \"attrs\": {\n",
    "        \"height\": 0.1,\n",
    "        \"width\": 0.8,\n",
    "        \"x\": 0.1,\n",
    "        \"y\": 0.18544726301735648\n",
    "       },\n",
    "       \"content\": {\n",
    "        \"cell\": \"element_hrule\",\n",
    "        \"part\": \"whole\"\n",
    "       },\n",
    "       \"id\": \"slide_element_hrule_1\"\n",
    "      },\n",
    "      \"slide_element_hrule_3\": {\n",
    "       \"attrs\": {\n",
    "        \"height\": 0.1,\n",
    "        \"width\": 0.8,\n",
    "        \"x\": 0.1,\n",
    "        \"y\": 0.85\n",
    "       },\n",
    "       \"content\": {\n",
    "        \"cell\": \"element_hrule3\",\n",
    "        \"part\": \"whole\"\n",
    "       },\n",
    "       \"id\": \"slide_element_hrule_2\"\n",
    "      },\n",
    "      \"slide_element_title\": {\n",
    "       \"attrs\": {\n",
    "        \"height\": 0.11428571428571424,\n",
    "        \"width\": 0.8,\n",
    "        \"x\": 0.1,\n",
    "        \"y\": 0.05\n",
    "       },\n",
    "       \"content\": {\n",
    "        \"cell\": \"cell_title_skippingcells\",\n",
    "        \"part\": \"whole\"\n",
    "       },\n",
    "       \"id\": \"slide_element_title\"\n",
    "      },\n",
    "      \"slide_footer_authors\": {\n",
    "       \"attrs\": {\n",
    "        \"height\": 0.05,\n",
    "        \"width\": 0.4,\n",
    "        \"x\": 0.5,\n",
    "        \"y\": 0.9\n",
    "       },\n",
    "       \"content\": {\n",
    "        \"cell\": \"footer_authors\",\n",
    "        \"part\": \"whole\"\n",
    "       },\n",
    "       \"id\": \"slide_footer_authors\"\n",
    "      },\n",
    "      \"slide_footer_title\": {\n",
    "       \"attrs\": {\n",
    "        \"height\": 0.05,\n",
    "        \"width\": 0.4,\n",
    "        \"x\": 0.1,\n",
    "        \"y\": 0.9\n",
    "       },\n",
    "       \"content\": {\n",
    "        \"cell\": \"footer_title\",\n",
    "        \"part\": \"whole\"\n",
    "       },\n",
    "       \"id\": \"slide_footer_title\"\n",
    "      },\n",
    "      \"slide_label_test\": {\n",
    "       \"attrs\": {\n",
    "        \"height\": 0.1,\n",
    "        \"width\": 0.2,\n",
    "        \"x\": 0.1,\n",
    "        \"y\": 0.25\n",
    "       },\n",
    "       \"content\": {\n",
    "        \"cell\": \"label_test\",\n",
    "        \"part\": \"whole\"\n",
    "       },\n",
    "       \"id\": \"slide_label_test\"\n",
    "      },\n",
    "      \"slide_label_testoutput\": {\n",
    "       \"attrs\": {\n",
    "        \"height\": 0.06568758344459286,\n",
    "        \"width\": 0.4,\n",
    "        \"x\": 0.1,\n",
    "        \"y\": 0.32\n",
    "       },\n",
    "       \"content\": {\n",
    "        \"cell\": \"label_testoutput\",\n",
    "        \"part\": \"whole\"\n",
    "       },\n",
    "       \"id\": \"slide_label_testoutput\"\n",
    "      },\n",
    "      \"slide_region_test\": {\n",
    "       \"attrs\": {\n",
    "        \"height\": 0.1,\n",
    "        \"width\": 0.6,\n",
    "        \"x\": 0.3,\n",
    "        \"y\": 0.25\n",
    "       },\n",
    "       \"content\": {\n",
    "        \"cell\": \"cell_test_skippingcells\",\n",
    "        \"part\": \"source\"\n",
    "       },\n",
    "       \"id\": \"slide_region_test\"\n",
    "      },\n",
    "      \"slide_region_testoutput\": {\n",
    "       \"attrs\": {\n",
    "        \"height\": 0.45,\n",
    "        \"width\": 0.96,\n",
    "        \"x\": 0.02,\n",
    "        \"y\": 0.4\n",
    "       },\n",
    "       \"content\": {\n",
    "        \"cell\": \"cell_test_skippingcells\",\n",
    "        \"part\": \"outputs\"\n",
    "       },\n",
    "       \"id\": \"slide_region_testoutput\"\n",
    "      }\n",
    "     }\n",
    "    }'''"
   ]
  },
  {
   "cell_type": "code",
   "execution_count": 3,
   "metadata": {
    "collapsed": true
   },
   "outputs": [],
   "source": [
    "slide_contentfortesting_json = '''{\"slide_notebookcontent\": {\n",
    "     \"id\": \"slide_notebookcontent\",\n",
    "     \"prev\": null,\n",
    "     \"regions\": {\n",
    "      \"slide_element_hrule_1\": {\n",
    "       \"attrs\": {\n",
    "        \"height\": 0.1,\n",
    "        \"width\": 0.8,\n",
    "        \"x\": 0.1,\n",
    "        \"y\": 0.34699599465954606\n",
    "       },\n",
    "       \"content\": {\n",
    "        \"cell\": \"element_hrule\",\n",
    "        \"part\": \"whole\"\n",
    "       },\n",
    "       \"id\": \"slide_element_hrule_1\"\n",
    "      },\n",
    "      \"slide_element_hrule_2\": {\n",
    "       \"attrs\": {\n",
    "        \"height\": 0.1,\n",
    "        \"width\": 0.8,\n",
    "        \"x\": 0.1,\n",
    "        \"y\": 0.18544726301735648\n",
    "       },\n",
    "       \"content\": {\n",
    "        \"cell\": \"element_hrule2\",\n",
    "        \"part\": \"whole\"\n",
    "       },\n",
    "       \"id\": \"slide_element_hrule_2\"\n",
    "      },\n",
    "      \"slide_element_hrule_3\": {\n",
    "       \"attrs\": {\n",
    "        \"height\": 0.1,\n",
    "        \"width\": 0.8,\n",
    "        \"x\": 0.1,\n",
    "        \"y\": 0.85\n",
    "       },\n",
    "       \"content\": {\n",
    "        \"cell\": \"element_hrule3\",\n",
    "        \"part\": \"whole\"\n",
    "       },\n",
    "       \"id\": \"slide_element_hrule_2\"\n",
    "      },\n",
    "      \"slide_element_title\": {\n",
    "       \"attrs\": {\n",
    "        \"height\": 0.11428571428571424,\n",
    "        \"width\": 0.8,\n",
    "        \"x\": 0.1,\n",
    "        \"y\": 0.05\n",
    "       },\n",
    "       \"content\": {\n",
    "        \"cell\": \"cell_title_skippingcells\",\n",
    "        \"part\": \"whole\"\n",
    "       },\n",
    "       \"id\": \"slide_element_title\"\n",
    "      },\n",
    "      \"slide_footer_authors\": {\n",
    "       \"attrs\": {\n",
    "        \"height\": 0.05,\n",
    "        \"width\": 0.4,\n",
    "        \"x\": 0.5,\n",
    "        \"y\": 0.9\n",
    "       },\n",
    "       \"content\": {\n",
    "        \"cell\": \"footer_authors\",\n",
    "        \"part\": \"whole\"\n",
    "       },\n",
    "       \"id\": \"slide_footer_authors\"\n",
    "      },\n",
    "      \"slide_footer_title\": {\n",
    "       \"attrs\": {\n",
    "        \"height\": 0.05,\n",
    "        \"width\": 0.4,\n",
    "        \"x\": 0.1,\n",
    "        \"y\": 0.9\n",
    "       },\n",
    "       \"content\": {\n",
    "        \"cell\": \"footer_title\",\n",
    "        \"part\": \"whole\"\n",
    "       },\n",
    "       \"id\": \"slide_footer_title\"\n",
    "      },\n",
    "      \"slide_label_input\": {\n",
    "       \"attrs\": {\n",
    "        \"height\": 0.06568758344459286,\n",
    "        \"width\": 0.2,\n",
    "        \"x\": 0.1,\n",
    "        \"y\": 0.4\n",
    "       },\n",
    "       \"content\": {\n",
    "        \"cell\": \"label_input\",\n",
    "        \"part\": \"whole\"\n",
    "       },\n",
    "       \"id\": \"slide_region_input\"\n",
    "      },\n",
    "      \"slide_label_marker\": {\n",
    "       \"attrs\": {\n",
    "        \"height\": 0.1,\n",
    "        \"width\": 0.2,\n",
    "        \"x\": 0.1,\n",
    "        \"y\": 0.25\n",
    "       },\n",
    "       \"content\": {\n",
    "        \"cell\": \"label_marker\",\n",
    "        \"part\": \"whole\"\n",
    "       },\n",
    "       \"id\": \"slide_label_marker\"\n",
    "      },\n",
    "      \"slide_label_output\": {\n",
    "       \"attrs\": {\n",
    "        \"height\": 0.2,\n",
    "        \"width\": 0.2,\n",
    "        \"x\": 0.1,\n",
    "        \"y\": 0.65\n",
    "       },\n",
    "       \"content\": {\n",
    "        \"cell\": \"label_output\",\n",
    "        \"part\": \"whole\"\n",
    "       },\n",
    "       \"id\": \"slide_region_output\"\n",
    "      },\n",
    "      \"slide_region_input\": {\n",
    "       \"attrs\": {\n",
    "        \"height\": 0.2,\n",
    "        \"width\": 0.6,\n",
    "        \"x\": 0.3,\n",
    "        \"y\": 0.4\n",
    "       },\n",
    "       \"content\": {\n",
    "        \"cell\": \"cell_content_skippingcells\",\n",
    "        \"part\": \"source\"\n",
    "       },\n",
    "       \"id\": \"slide_region_input\"\n",
    "      },\n",
    "      \"slide_region_marker\": {\n",
    "       \"attrs\": {\n",
    "        \"height\": 0.1,\n",
    "        \"width\": 0.6,\n",
    "        \"x\": 0.3,\n",
    "        \"y\": 0.25\n",
    "       },\n",
    "       \"content\": {\n",
    "        \"cell\": \"cell_marker_skippingcells\",\n",
    "        \"part\": \"whole\"\n",
    "       },\n",
    "       \"id\": \"slide_region_marker\"\n",
    "      },\n",
    "      \"slide_region_output\": {\n",
    "       \"attrs\": {\n",
    "        \"height\": 0.2,\n",
    "        \"width\": 0.6,\n",
    "        \"x\": 0.3,\n",
    "        \"y\": 0.65\n",
    "       },\n",
    "       \"content\": {\n",
    "        \"cell\": \"cell_content_skippingcells\",\n",
    "        \"part\": \"outputs\"\n",
    "       },\n",
    "       \"id\": \"slide_region_output\"\n",
    "      }\n",
    "     }\n",
    "    },\n",
    "    \"slide_notebookcontent_2\": \n",
    "    {\n",
    "     \"id\": \"slide_notebookcontent_2\",\n",
    "     \"prev\": \"slide_notebookcontent\",\n",
    "     \"regions\": {\n",
    "      \"slide_element_hrule_1\": {\n",
    "       \"attrs\": {\n",
    "        \"height\": 0.1,\n",
    "        \"width\": 0.8,\n",
    "        \"x\": 0.1,\n",
    "        \"y\": 0.18544726301735648\n",
    "       },\n",
    "       \"content\": {\n",
    "        \"cell\": \"element_hrule\",\n",
    "        \"part\": \"whole\"\n",
    "       },\n",
    "       \"id\": \"slide_element_hrule_1\"\n",
    "      },\n",
    "      \"slide_element_hrule_3\": {\n",
    "       \"attrs\": {\n",
    "        \"height\": 0.1,\n",
    "        \"width\": 0.8,\n",
    "        \"x\": 0.1,\n",
    "        \"y\": 0.85\n",
    "       },\n",
    "       \"content\": {\n",
    "        \"cell\": \"element_hrule3\",\n",
    "        \"part\": \"whole\"\n",
    "       },\n",
    "       \"id\": \"slide_element_hrule_2\"\n",
    "      },\n",
    "      \"slide_element_title\": {\n",
    "       \"attrs\": {\n",
    "        \"height\": 0.11428571428571424,\n",
    "        \"width\": 0.8,\n",
    "        \"x\": 0.1,\n",
    "        \"y\": 0.05\n",
    "       },\n",
    "       \"content\": {\n",
    "        \"cell\": \"cell_title_skippingcells\",\n",
    "        \"part\": \"whole\"\n",
    "       },\n",
    "       \"id\": \"slide_element_title\"\n",
    "      },\n",
    "      \"slide_footer_authors\": {\n",
    "       \"attrs\": {\n",
    "        \"height\": 0.05,\n",
    "        \"width\": 0.4,\n",
    "        \"x\": 0.5,\n",
    "        \"y\": 0.9\n",
    "       },\n",
    "       \"content\": {\n",
    "        \"cell\": \"footer_authors\",\n",
    "        \"part\": \"whole\"\n",
    "       },\n",
    "       \"id\": \"slide_footer_authors\"\n",
    "      },\n",
    "      \"slide_footer_title\": {\n",
    "       \"attrs\": {\n",
    "        \"height\": 0.05,\n",
    "        \"width\": 0.4,\n",
    "        \"x\": 0.1,\n",
    "        \"y\": 0.9\n",
    "       },\n",
    "       \"content\": {\n",
    "        \"cell\": \"footer_title\",\n",
    "        \"part\": \"whole\"\n",
    "       },\n",
    "       \"id\": \"slide_footer_title\"\n",
    "      },\n",
    "      \"slide_label_test\": {\n",
    "       \"attrs\": {\n",
    "        \"height\": 0.1,\n",
    "        \"width\": 0.2,\n",
    "        \"x\": 0.1,\n",
    "        \"y\": 0.25\n",
    "       },\n",
    "       \"content\": {\n",
    "        \"cell\": \"label_test\",\n",
    "        \"part\": \"whole\"\n",
    "       },\n",
    "       \"id\": \"slide_label_test\"\n",
    "      },\n",
    "      \"slide_label_testoutput\": {\n",
    "       \"attrs\": {\n",
    "        \"height\": 0.06568758344459286,\n",
    "        \"width\": 0.4,\n",
    "        \"x\": 0.1,\n",
    "        \"y\": 0.32\n",
    "       },\n",
    "       \"content\": {\n",
    "        \"cell\": \"label_testoutput\",\n",
    "        \"part\": \"whole\"\n",
    "       },\n",
    "       \"id\": \"slide_label_testoutput\"\n",
    "      },\n",
    "      \"slide_region_test\": {\n",
    "       \"attrs\": {\n",
    "        \"height\": 0.1,\n",
    "        \"width\": 0.6,\n",
    "        \"x\": 0.3,\n",
    "        \"y\": 0.25\n",
    "       },\n",
    "       \"content\": {\n",
    "        \"cell\": \"cell_test_skippingcells\",\n",
    "        \"part\": \"source\"\n",
    "       },\n",
    "       \"id\": \"slide_region_test\"\n",
    "      },\n",
    "      \"slide_region_testoutput\": {\n",
    "       \"attrs\": {\n",
    "        \"height\": 0.45,\n",
    "        \"width\": 0.96,\n",
    "        \"x\": 0.02,\n",
    "        \"y\": 0.4\n",
    "       },\n",
    "       \"content\": {\n",
    "        \"cell\": \"cell_test_skippingcells\",\n",
    "        \"part\": \"outputs\"\n",
    "       },\n",
    "       \"id\": \"slide_region_testoutput\"\n",
    "      }\n",
    "     }\n",
    "    }}'''"
   ]
  },
  {
   "cell_type": "code",
   "execution_count": 4,
   "metadata": {
    "collapsed": true
   },
   "outputs": [],
   "source": [
    "slide_titleandbox = '''{\"slide_nbvalcontents\": {\n",
    "     \"id\": \"ceeda0f9-f613-4936-9dba-d5a4a40c55fe\",\n",
    "     \"prev\": \"slide_notebookcontent_2\",\n",
    "     \"regions\": {\n",
    "      \"16967db8-b9ec-4e33-a51a-4503de108b9e\": {\n",
    "       \"attrs\": {\n",
    "        \"height\": 0.5983978638184246,\n",
    "        \"width\": 0.6460113484646195,\n",
    "        \"x\": 0.0943090787716956,\n",
    "        \"y\": 0.30026702269692923\n",
    "       },\n",
    "       \"content\": {\n",
    "        \"cell\": \"b121b1d6-a29d-4e9c-bddd-76e20ed5dad2\",\n",
    "        \"part\": \"whole\"\n",
    "       },\n",
    "       \"id\": \"16967db8-b9ec-4e33-a51a-4503de108b9e\"\n",
    "      },\n",
    "      \"63e01bee-7688-4c5a-a49a-b23a38a19b27\": {\n",
    "       \"attrs\": {\n",
    "        \"height\": 0.07369826435247002,\n",
    "        \"width\": 0.8300400534045393,\n",
    "        \"x\": 0.0909879839786382,\n",
    "        \"y\": 0.1974632843791722\n",
    "       },\n",
    "       \"content\": {\n",
    "        \"cell\": \"element_hrule\",\n",
    "        \"part\": \"whole\"\n",
    "       },\n",
    "       \"id\": \"63e01bee-7688-4c5a-a49a-b23a38a19b27\"\n",
    "      },\n",
    "      \"68bc5227-6d43-407d-8f0e-d0e75ee5b149\": {\n",
    "       \"attrs\": {\n",
    "        \"height\": 0.11108144192256345,\n",
    "        \"width\": 0.6415387182910547,\n",
    "        \"x\": 0.08873497997329774,\n",
    "        \"y\": 0.06929238985313753\n",
    "       },\n",
    "       \"content\": {\n",
    "        \"cell\": \"notebook_title\",\n",
    "        \"part\": \"whole\"\n",
    "       },\n",
    "       \"id\": \"68bc5227-6d43-407d-8f0e-d0e75ee5b149\"\n",
    "      },\n",
    "      \"slide_footer_authors\": {\n",
    "       \"attrs\": {\n",
    "        \"height\": 0.05,\n",
    "        \"width\": 0.4,\n",
    "        \"x\": 0.5,\n",
    "        \"y\": 0.9\n",
    "       },\n",
    "       \"content\": {\n",
    "        \"cell\": \"footer_authors\",\n",
    "        \"part\": \"whole\"\n",
    "       },\n",
    "       \"id\": \"slide_footer_authors\"\n",
    "      },\n",
    "      \"slide_footer_title\": {\n",
    "       \"attrs\": {\n",
    "        \"height\": 0.05,\n",
    "        \"width\": 0.4,\n",
    "        \"x\": 0.1,\n",
    "        \"y\": 0.9\n",
    "       },\n",
    "       \"content\": {\n",
    "        \"cell\": \"footer_title\",\n",
    "        \"part\": \"whole\"\n",
    "       },\n",
    "       \"id\": \"slide_footer_title\"\n",
    "      }\n",
    "     }\n",
    "    }}'''"
   ]
  },
  {
   "cell_type": "code",
   "execution_count": 109,
   "metadata": {
    "collapsed": true
   },
   "outputs": [],
   "source": [
    "import json\n",
    "import copy"
   ]
  },
  {
   "cell_type": "code",
   "execution_count": 6,
   "metadata": {
    "collapsed": true
   },
   "outputs": [],
   "source": [
    "def copy_slide(slides_dict, template, newslide_name, order_position):\n",
    "    # Check slide to copy exists\n",
    "    assert template in slides.keys()\n",
    "    \n",
    "    # Add the new slide in the dictionary structure and rename its ID field\n",
    "    slides_dict[newslide_name] = slides_dict[template]\n",
    "    slides_dict[newslide_name]['id'] = newslidename\n",
    "    \n",
    "    # Put the new slides in the correct order\n",
    "    order = get_slideorder(slides_dict)\n",
    "    order.insert(order_position, newslide_name)\n",
    "    set_slideorder(slides_dict)"
   ]
  },
  {
   "cell_type": "code",
   "execution_count": 7,
   "metadata": {
    "collapsed": true
   },
   "outputs": [],
   "source": [
    "def print_celllinks(slides_dict, slide_name):\n",
    "    celllinks = []\n",
    "    for region in slides_dict[slide_name]['regions'].keys():\n",
    "        celllinks.append(slides_dict[slide_name]['regions'][region]['content']['cell'] + \" - \" +\n",
    "             slides_dict[slide_name]['regions'][region]['content']['part'])\n",
    "        \n",
    "    celllinks.sort()\n",
    "    print(\"\\n\".join(celllinks))\n",
    "        \n",
    "def print_cells(notebook_dict):\n",
    "    for cell in notebook_dict['cells']:\n",
    "        try:\n",
    "            print(cell['metadata']['nbpresent']['id'])\n",
    "        except KeyError:\n",
    "            print(\"No label\")"
   ]
  },
  {
   "cell_type": "code",
   "execution_count": 154,
   "metadata": {
    "collapsed": true
   },
   "outputs": [],
   "source": [
    "def set_slideorder(slides_dict, slide_order_list):\n",
    "    print(slide_order_list)\n",
    "    set_previousslide(slides_dict, slide_order_list[0], \"null\")\n",
    "    \n",
    "    for i in range(1, len(slide_order_list)):\n",
    "        slides_dict = set_previousslide(slides_dict, slide_order_list[i], slide_order_list[i - 1])\n",
    "        \n",
    "    \n",
    "def set_previousslide(slides_dict, slide, slide_prev):\n",
    "    slide_temp = copy.deepcopy(slides_dict[slide])\n",
    "    slide_temp['prev'] = slide_prev\n",
    "    slides_dict[slide] = slide_temp\n",
    "    print(slides_dict[slide]['prev'])\n",
    "    return slides_dict\n",
    "        \n",
    "        \n",
    "def get_slideorder(slides_dict):\n",
    "    \n",
    "    # Find first slide\n",
    "    slide_order_list = [slideorder_findfirst(slides_dict)]\n",
    "    \n",
    "    # Find subsequent slides\n",
    "    ret_val = 0\n",
    "    while ret_val != 1:\n",
    "        ret_val = slideorder_findnext(slides_dict, slide_order_list[-1])\n",
    "        if ret_val != 1:\n",
    "            slide_order_list.append(ret_val)\n",
    "        \n",
    "    return slide_order_list\n",
    "\n",
    "\n",
    "def slideorder_findnext(slides_dict, slide_prev):\n",
    "    for slide in slides_dict.keys():\n",
    "        # print(slides_dict[slide]['prev'])\n",
    "        if slides_dict[slide]['prev'] == slide_prev:\n",
    "            return slide\n",
    "    \n",
    "    return 1\n",
    "        \n",
    "    \n",
    "def slideorder_findfirst(slides_dict):\n",
    "    prev_slides = []\n",
    "    for slide in slides_dict.keys():\n",
    "        prev_slides.append(slides_dict[slide]['prev'])\n",
    "        if slides_dict[slide]['prev'] not in slides_dict.keys():\n",
    "            return slide\n",
    "    raise ValueError(\"First slide not found. Values of 'prev' from all slides:\\n{}\".format(prev_slides))\n",
    "    \n",
    "    \n",
    "def slideorder_printprev(slides_dict):\n",
    "    prev_slides = []\n",
    "    for slide in slides_dict.keys():\n",
    "        prev_slides.append(slides_dict[slide]['prev'])\n",
    "    return prev_slides\n",
    "\n",
    "def get_slide_property(slides_dict, prop):\n",
    "    slides_props = []\n",
    "    for slide in slides_dict.keys():\n",
    "        slides_props.append(slide + \" - \" + slides_dict[slide][prop])\n",
    "    return slides_props\n",
    "\n",
    "def set_slide_id(slides_dict):\n",
    "    for slide in slides_dict.keys():\n",
    "        slide_temp = copy.deepcopy(slides_dict[slide])\n",
    "        slide_temp['id'] = slide\n",
    "        slides_dict[slide] = slide_temp\n",
    "        \n",
    "        print(slide)\n",
    "        print(slides_dict[slide]['id'])\n",
    "        #print(slides_dict['contents']['id'])\n",
    "        print(\"All slide properties\")\n",
    "        print(\", \".join(get_slide_property(slides_dict, \"id\")))\n",
    "    "
   ]
  },
  {
   "cell_type": "code",
   "execution_count": 79,
   "metadata": {
    "collapsed": false
   },
   "outputs": [
    {
     "data": {
      "text/plain": [
       "dict_keys(['cells', 'nbformat_minor', 'metadata', 'nbformat'])"
      ]
     },
     "execution_count": 79,
     "metadata": {},
     "output_type": "execute_result"
    }
   ],
   "source": [
    "notebook_example21_json.keys()"
   ]
  },
  {
   "cell_type": "code",
   "execution_count": 71,
   "metadata": {
    "collapsed": false
   },
   "outputs": [
    {
     "data": {
      "text/plain": [
       "dict_keys(['id', 'prev', 'regions'])"
      ]
     },
     "execution_count": 71,
     "metadata": {},
     "output_type": "execute_result"
    }
   ],
   "source": [
    "slides['slide_notebookcontent'].keys()"
   ]
  },
  {
   "cell_type": "code",
   "execution_count": 599,
   "metadata": {
    "collapsed": false
   },
   "outputs": [
    {
     "ename": "KeyError",
     "evalue": "'slide_notebookcontent'",
     "output_type": "error",
     "traceback": [
      "\u001b[0;31m---------------------------------------------------------------------------\u001b[0m",
      "\u001b[0;31mKeyError\u001b[0m                                  Traceback (most recent call last)",
      "\u001b[0;32m<ipython-input-599-fd62dbd27b98>\u001b[0m in \u001b[0;36m<module>\u001b[0;34m()\u001b[0m\n\u001b[0;32m----> 1\u001b[0;31m \u001b[0mslides\u001b[0m\u001b[0;34m[\u001b[0m\u001b[0;34m'slide_notebookcontent'\u001b[0m\u001b[0;34m]\u001b[0m\u001b[0;34m[\u001b[0m\u001b[0;34m'regions'\u001b[0m\u001b[0;34m]\u001b[0m\u001b[0;34m.\u001b[0m\u001b[0mkeys\u001b[0m\u001b[0;34m(\u001b[0m\u001b[0;34m)\u001b[0m\u001b[0;34m\u001b[0m\u001b[0m\n\u001b[0m",
      "\u001b[0;31mKeyError\u001b[0m: 'slide_notebookcontent'"
     ]
    }
   ],
   "source": [
    "slides['slide_notebookcontent']['regions'].keys()"
   ]
  },
  {
   "cell_type": "markdown",
   "metadata": {},
   "source": [
    "## load slide template from other notebook"
   ]
  },
  {
   "cell_type": "code",
   "execution_count": 600,
   "metadata": {
    "collapsed": true
   },
   "outputs": [],
   "source": [
    "with open(\"/Users/jamesbailey/Documents/PhD_First_Year/ACM2/Coursework_Lecture/nbval_example_21-Copy1.ipynb\") as f:\n",
    "    notebook_example21_json = json.load(f)"
   ]
  },
  {
   "cell_type": "code",
   "execution_count": 601,
   "metadata": {
    "collapsed": true
   },
   "outputs": [],
   "source": [
    "template_slides = notebook_example21_json['metadata']['nbpresent']['slides']"
   ]
  },
  {
   "cell_type": "code",
   "execution_count": 602,
   "metadata": {
    "collapsed": false
   },
   "outputs": [
    {
     "data": {
      "text/plain": [
       "dict_keys(['slide_notebook_content_copy', 'slide_notebookcontent_2', 'slide_notebookcontent', 'slide_nbvalcontents'])"
      ]
     },
     "execution_count": 602,
     "metadata": {},
     "output_type": "execute_result"
    }
   ],
   "source": [
    "template_slides.keys()"
   ]
  },
  {
   "cell_type": "code",
   "execution_count": 603,
   "metadata": {
    "collapsed": false
   },
   "outputs": [],
   "source": [
    "# Create new template slide - templateslide_titleandbox\n",
    "template_slides['templateslide_titleandbox'] = template_slides['slide_nbvalcontents']\n",
    "template_slides['templateslide_titleandbox']['id'] = 'templateslide_titleandbox'"
   ]
  },
  {
   "cell_type": "code",
   "execution_count": 604,
   "metadata": {
    "collapsed": false
   },
   "outputs": [],
   "source": [
    "# Create new template slide = templateslide_example_content\n",
    "newname = 'templateslide_example_content'\n",
    "template_slides[newname] = template_slides['slide_notebookcontent']\n",
    "template_slides[newname]['id'] = newname"
   ]
  },
  {
   "cell_type": "code",
   "execution_count": 605,
   "metadata": {
    "collapsed": false
   },
   "outputs": [],
   "source": [
    "# Create new template slide - templateslide_example_test\n",
    "newname = 'templateslide_example_test'\n",
    "template_slides[newname] = template_slides['slide_notebookcontent_2']\n",
    "template_slides[newname]['id'] = newname"
   ]
  },
  {
   "cell_type": "code",
   "execution_count": 606,
   "metadata": {
    "collapsed": false
   },
   "outputs": [
    {
     "data": {
      "text/plain": [
       "dict_keys(['slide_element_title', 'slide_label_testoutput', 'slide_element_hrule_3', 'slide_element_hrule_1', 'slide_region_test', 'slide_label_test', 'slide_region_testoutput', 'slide_footer_title', 'slide_footer_authors'])"
      ]
     },
     "execution_count": 606,
     "metadata": {},
     "output_type": "execute_result"
    }
   ],
   "source": [
    "template_slides['templateslide_example_test']['regions'].keys()"
   ]
  },
  {
   "cell_type": "code",
   "execution_count": 607,
   "metadata": {
    "collapsed": true
   },
   "outputs": [],
   "source": [
    "# Edit test slide template\n",
    "del template_slides['templateslide_example_test']['regions']['slide_label_test']\n",
    "del template_slides['templateslide_example_test']['regions']['slide_label_testoutput']\n",
    "template_slides['templateslide_example_test']['regions']['slide_region_test']['attrs'][\"width\"] = 0.8\n",
    "template_slides['templateslide_example_test']['regions']['slide_region_test']['attrs'][\"x\"] = 0.1"
   ]
  },
  {
   "cell_type": "markdown",
   "metadata": {},
   "source": [
    "## Create template title/transition slide"
   ]
  },
  {
   "cell_type": "code",
   "execution_count": 608,
   "metadata": {
    "collapsed": true
   },
   "outputs": [],
   "source": [
    "title_region = {\"attrs\":{\"width\": 0.8, \"height\": 0.5, \"x\": 0.1, \"y\": 0.1}, \"id\": \"region_title\", \"content\": {}}\n",
    "authors_region = {\"attrs\":{\"width\": 0.8, \"height\": 0.4, \"x\": 0.1, \"y\": 0.5}, \"id\": \"region_authors\", \"content\": {}}\n",
    "\n",
    "regions = {\"region_title\": title_region, \"region_authors\": authors_region}\n",
    "\n",
    "template_slides['template_title'] = {\"id\": \"template_title\", \"prev\": \"\", \"regions\": regions}"
   ]
  },
  {
   "cell_type": "markdown",
   "metadata": {},
   "source": [
    "## load notebook"
   ]
  },
  {
   "cell_type": "code",
   "execution_count": 651,
   "metadata": {
    "collapsed": true
   },
   "outputs": [],
   "source": [
    "with open(\"JupyterNotebooks_presentation.ipynb\") as f:\n",
    "    notebook_presentation = json.load(f)"
   ]
  },
  {
   "cell_type": "markdown",
   "metadata": {},
   "source": [
    "## Create set of slides to go in notebook"
   ]
  },
  {
   "cell_type": "code",
   "execution_count": 652,
   "metadata": {
    "collapsed": true
   },
   "outputs": [],
   "source": [
    "slides = {}"
   ]
  },
  {
   "cell_type": "code",
   "execution_count": 653,
   "metadata": {
    "collapsed": false
   },
   "outputs": [],
   "source": [
    "new_slide = 'maintitle'\n",
    "\n",
    "slides[new_slide] = copy.deepcopy(template_slides['template_title'])\n",
    "slides[new_slide]['id'] = new_slide\n",
    "\n",
    "slides[new_slide]['regions']['region_title']['content']['cell'] = \"cell_title_maintitle\"\n",
    "slides[new_slide]['regions']['region_title']['content']['part'] = \"whole\"\n",
    "\n",
    "slides[new_slide]['regions']['region_authors']['content']['cell'] = \"cell_authors_maintitle\"\n",
    "slides[new_slide]['regions']['region_authors']['content']['part'] = \"whole\"\n",
    "\n",
    "slides[new_slide]['theme'] = 'my-titletheme'\n",
    "\n",
    "slide_order = [new_slide]"
   ]
  },
  {
   "cell_type": "markdown",
   "metadata": {},
   "source": [
    "### Contents slide"
   ]
  },
  {
   "cell_type": "code",
   "execution_count": 654,
   "metadata": {
    "collapsed": true
   },
   "outputs": [],
   "source": [
    "slides['contents'] = template_slides['templateslide_titleandbox']"
   ]
  },
  {
   "cell_type": "code",
   "execution_count": 655,
   "metadata": {
    "collapsed": true
   },
   "outputs": [],
   "source": [
    "slides['contents']['id'] = \"contents\""
   ]
  },
  {
   "cell_type": "code",
   "execution_count": 656,
   "metadata": {
    "collapsed": false
   },
   "outputs": [
    {
     "name": "stdout",
     "output_type": "stream",
     "text": [
      "['maintitle', 'contents']\n",
      "null\n",
      "maintitle\n"
     ]
    }
   ],
   "source": [
    "slides['contents']['regions']['slide_content']['content']['cell'] = 'cell_contents'\n",
    "slides['contents']['regions']['slide_content']['content']['part'] = 'whole'\n",
    "\n",
    "slides['contents']['regions']['slide_element_title']['content']['cell'] = 'cell_contents_title'\n",
    "slides['contents']['regions']['slide_element_title']['content']['part'] = 'whole'\n",
    "\n",
    "slide_order.append('contents')\n",
    "set_slideorder(slides, slide_order)"
   ]
  },
  {
   "cell_type": "markdown",
   "metadata": {},
   "source": [
    "## Slide - Introduction to Jupyter Notebooks"
   ]
  },
  {
   "cell_type": "code",
   "execution_count": 657,
   "metadata": {
    "collapsed": false
   },
   "outputs": [
    {
     "name": "stdout",
     "output_type": "stream",
     "text": [
      "['maintitle', 'contents', 'jupyterintro']\n",
      "null\n",
      "maintitle\n",
      "contents\n"
     ]
    }
   ],
   "source": [
    "new_slide = \"jupyterintro\"\n",
    "\n",
    "slides[new_slide] = copy.deepcopy(template_slides['templateslide_titleandbox'])\n",
    "slides[new_slide]['id'] = new_slide\n",
    "\n",
    "slides[new_slide]['regions']['slide_content']['content']['cell'] = 'cell_content_intro'\n",
    "slides[new_slide]['regions']['slide_content']['content']['part'] = 'whole'\n",
    "\n",
    "slides[new_slide]['regions']['slide_element_title']['content']['cell'] = 'cell_title_intro'\n",
    "slides[new_slide]['regions']['slide_element_title']['content']['part'] = 'whole'\n",
    "\n",
    "\n",
    "\n",
    "slide_order.append(new_slide)\n",
    "set_slideorder(slides, slide_order)"
   ]
  },
  {
   "cell_type": "markdown",
   "metadata": {},
   "source": [
    "## Slide - Transition - nbval"
   ]
  },
  {
   "cell_type": "code",
   "execution_count": 658,
   "metadata": {
    "collapsed": false
   },
   "outputs": [],
   "source": [
    "new_slide = 'nbvaltransition'\n",
    "\n",
    "slides[new_slide] = copy.deepcopy(template_slides['template_title'])\n",
    "slides[new_slide]['id'] = new_slide\n",
    "\n",
    "slides[new_slide]['regions']['region_title']['content']['cell'] = \"cell_title_transition_nbval\"\n",
    "slides[new_slide]['regions']['region_title']['content']['part'] = \"whole\"\n",
    "\n",
    "del slides[new_slide]['regions']['region_authors']\n",
    "\n",
    "slides[new_slide]['theme'] = 'my-titletheme'\n",
    "\n",
    "slide_order.append(new_slide)"
   ]
  },
  {
   "cell_type": "markdown",
   "metadata": {},
   "source": [
    "## Slide - nbval - functionality"
   ]
  },
  {
   "cell_type": "code",
   "execution_count": 659,
   "metadata": {
    "collapsed": false
   },
   "outputs": [
    {
     "name": "stdout",
     "output_type": "stream",
     "text": [
      "['maintitle', 'contents', 'jupyterintro', 'nbvaltransition', 'nbvalfunc']\n",
      "null\n",
      "maintitle\n",
      "contents\n",
      "jupyterintro\n",
      "nbvaltransition\n"
     ]
    }
   ],
   "source": [
    "new_slide = \"nbvalfunc\"\n",
    "\n",
    "slides[new_slide] = copy.deepcopy(template_slides['templateslide_titleandbox'])\n",
    "slides[new_slide]['id'] = new_slide\n",
    "\n",
    "slides[new_slide]['regions']['slide_content']['content']['cell'] = 'cell_content_func'\n",
    "slides[new_slide]['regions']['slide_content']['content']['part'] = 'whole'\n",
    "\n",
    "slides[new_slide]['regions']['slide_element_title']['content']['cell'] = 'cell_title_func'\n",
    "slides[new_slide]['regions']['slide_element_title']['content']['part'] = 'whole'\n",
    "\n",
    "\n",
    "\n",
    "slide_order.append(new_slide)\n",
    "set_slideorder(slides, slide_order)"
   ]
  },
  {
   "cell_type": "markdown",
   "metadata": {},
   "source": [
    "## Slide - nbval - Execution"
   ]
  },
  {
   "cell_type": "code",
   "execution_count": 660,
   "metadata": {
    "collapsed": false
   },
   "outputs": [
    {
     "name": "stdout",
     "output_type": "stream",
     "text": [
      "['maintitle', 'contents', 'jupyterintro', 'nbvaltransition', 'nbvalfunc', 'nbvalexec']\n",
      "null\n",
      "maintitle\n",
      "contents\n",
      "jupyterintro\n",
      "nbvaltransition\n",
      "nbvalfunc\n"
     ]
    }
   ],
   "source": [
    "new_slide = \"nbvalexec\"\n",
    "\n",
    "slides[new_slide] = copy.deepcopy(template_slides['templateslide_titleandbox'])\n",
    "slides[new_slide]['id'] = new_slide\n",
    "\n",
    "slides[new_slide]['regions']['slide_content']['content']['cell'] = 'cell_content_stages'\n",
    "slides[new_slide]['regions']['slide_content']['content']['part'] = 'whole'\n",
    "\n",
    "slides[new_slide]['regions']['slide_element_title']['content']['cell'] = 'cell_title_stages'\n",
    "slides[new_slide]['regions']['slide_element_title']['content']['part'] = 'whole'\n",
    "\n",
    "\n",
    "\n",
    "slide_order.append(new_slide)\n",
    "set_slideorder(slides, slide_order)"
   ]
  },
  {
   "cell_type": "markdown",
   "metadata": {},
   "source": [
    "## Slide - nbval - Use Cases"
   ]
  },
  {
   "cell_type": "code",
   "execution_count": 661,
   "metadata": {
    "collapsed": false
   },
   "outputs": [
    {
     "name": "stdout",
     "output_type": "stream",
     "text": [
      "['maintitle', 'contents', 'jupyterintro', 'nbvaltransition', 'nbvalfunc', 'nbvalexec', 'nbvaluse']\n",
      "null\n",
      "maintitle\n",
      "contents\n",
      "jupyterintro\n",
      "nbvaltransition\n",
      "nbvalfunc\n",
      "nbvalexec\n"
     ]
    }
   ],
   "source": [
    "new_slide = \"nbvaluse\"\n",
    "\n",
    "slides[new_slide] = copy.deepcopy(template_slides['templateslide_titleandbox'])\n",
    "slides[new_slide]['id'] = new_slide\n",
    "\n",
    "slides[new_slide]['regions']['slide_content']['content']['cell'] = 'cell_content_usecase'\n",
    "slides[new_slide]['regions']['slide_content']['content']['part'] = 'whole'\n",
    "\n",
    "slides[new_slide]['regions']['slide_element_title']['content']['cell'] = 'cell_title_usecase'\n",
    "slides[new_slide]['regions']['slide_element_title']['content']['part'] = 'whole'\n",
    "\n",
    "\n",
    "\n",
    "slide_order.append(new_slide)\n",
    "set_slideorder(slides, slide_order)"
   ]
  },
  {
   "cell_type": "markdown",
   "metadata": {},
   "source": [
    "## Slide - nbval - note on cell execution"
   ]
  },
  {
   "cell_type": "code",
   "execution_count": 662,
   "metadata": {
    "collapsed": false
   },
   "outputs": [
    {
     "name": "stdout",
     "output_type": "stream",
     "text": [
      "['maintitle', 'contents', 'jupyterintro', 'nbvaltransition', 'nbvalfunc', 'nbvalexec', 'nbvaluse', 'nbvalcellexec']\n",
      "null\n",
      "maintitle\n",
      "contents\n",
      "jupyterintro\n",
      "nbvaltransition\n",
      "nbvalfunc\n",
      "nbvalexec\n",
      "nbvaluse\n"
     ]
    }
   ],
   "source": [
    "new_slide = \"nbvalcellexec\"\n",
    "\n",
    "slides[new_slide] = copy.deepcopy(template_slides['templateslide_titleandbox'])\n",
    "slides[new_slide]['id'] = new_slide\n",
    "\n",
    "slides[new_slide]['regions']['slide_content']['content']['cell'] = 'cell_content_cellexecution'\n",
    "slides[new_slide]['regions']['slide_content']['content']['part'] = 'whole'\n",
    "\n",
    "slides[new_slide]['regions']['slide_element_title']['content']['cell'] = 'cell_title_cellexecution'\n",
    "slides[new_slide]['regions']['slide_element_title']['content']['part'] = 'whole'\n",
    "\n",
    "\n",
    "\n",
    "slide_order.append(new_slide)\n",
    "set_slideorder(slides, slide_order)"
   ]
  },
  {
   "cell_type": "markdown",
   "metadata": {},
   "source": [
    "## Slide - nbval - Modes"
   ]
  },
  {
   "cell_type": "code",
   "execution_count": 663,
   "metadata": {
    "collapsed": false
   },
   "outputs": [
    {
     "name": "stdout",
     "output_type": "stream",
     "text": [
      "['maintitle', 'contents', 'jupyterintro', 'nbvaltransition', 'nbvalfunc', 'nbvalexec', 'nbvaluse', 'nbvalcellexec', 'nbvalmodes']\n",
      "null\n",
      "maintitle\n",
      "contents\n",
      "jupyterintro\n",
      "nbvaltransition\n",
      "nbvalfunc\n",
      "nbvalexec\n",
      "nbvaluse\n",
      "nbvalcellexec\n"
     ]
    }
   ],
   "source": [
    "new_slide = \"nbvalmodes\"\n",
    "\n",
    "slides[new_slide] = copy.deepcopy(template_slides['templateslide_titleandbox'])\n",
    "slides[new_slide]['id'] = new_slide\n",
    "\n",
    "slides[new_slide]['regions']['slide_content']['content']['cell'] = 'cell_content_modes'\n",
    "slides[new_slide]['regions']['slide_content']['content']['part'] = 'whole'\n",
    "\n",
    "slides[new_slide]['regions']['slide_element_title']['content']['cell'] = 'cell_title_modes'\n",
    "slides[new_slide]['regions']['slide_element_title']['content']['part'] = 'whole'\n",
    "\n",
    "\n",
    "\n",
    "slide_order.append(new_slide)\n",
    "set_slideorder(slides, slide_order)"
   ]
  },
  {
   "cell_type": "markdown",
   "metadata": {},
   "source": [
    "## Slide - nbval - Basic Pass"
   ]
  },
  {
   "cell_type": "code",
   "execution_count": 664,
   "metadata": {
    "collapsed": false
   },
   "outputs": [
    {
     "name": "stdout",
     "output_type": "stream",
     "text": [
      "['maintitle', 'contents', 'jupyterintro', 'nbvaltransition', 'nbvalfunc', 'nbvalexec', 'nbvaluse', 'nbvalcellexec', 'nbvalmodes', 'basic_pass']\n",
      "null\n",
      "maintitle\n",
      "contents\n",
      "jupyterintro\n",
      "nbvaltransition\n",
      "nbvalfunc\n",
      "nbvalexec\n",
      "nbvaluse\n",
      "nbvalcellexec\n",
      "nbvalmodes\n"
     ]
    }
   ],
   "source": [
    "new_slide = \"basic_pass\"\n",
    "\n",
    "slides[new_slide] = copy.deepcopy(template_slides['templateslide_example_content'])\n",
    "slides[new_slide]['id'] = new_slide\n",
    "\n",
    "slides[new_slide]['regions']['slide_element_title']['content']['cell'] = 'cell_title_basic_pass'\n",
    "slides[new_slide]['regions']['slide_element_title']['content']['part'] = 'whole'\n",
    "\n",
    "slides[new_slide]['regions']['slide_region_input']['content']['cell'] = 'cell_content_basic_pass'\n",
    "slides[new_slide]['regions']['slide_region_input']['content']['part'] = 'source'\n",
    "\n",
    "slides[new_slide]['regions']['slide_region_output']['content']['cell'] = 'cell_content_basic_pass'\n",
    "slides[new_slide]['regions']['slide_region_output']['content']['part'] = 'outputs'\n",
    "\n",
    "del slides[new_slide]['regions']['slide_region_marker']\n",
    "del slides[new_slide]['regions']['slide_label_marker']\n",
    "\n",
    "\n",
    "slide_order.append(new_slide)\n",
    "set_slideorder(slides, slide_order)"
   ]
  },
  {
   "cell_type": "markdown",
   "metadata": {},
   "source": [
    "## Slide - nbval - Basic Pass - Test"
   ]
  },
  {
   "cell_type": "code",
   "execution_count": 665,
   "metadata": {
    "collapsed": false
   },
   "outputs": [
    {
     "name": "stdout",
     "output_type": "stream",
     "text": [
      "dict_keys(['slide_element_title', 'slide_element_hrule_3', 'slide_element_hrule_1', 'slide_region_test', 'slide_region_testoutput', 'slide_footer_title', 'slide_footer_authors'])\n"
     ]
    }
   ],
   "source": [
    "print(template_slides['templateslide_example_test']['regions'].keys())"
   ]
  },
  {
   "cell_type": "code",
   "execution_count": 666,
   "metadata": {
    "collapsed": false
   },
   "outputs": [
    {
     "name": "stdout",
     "output_type": "stream",
     "text": [
      "['maintitle', 'contents', 'jupyterintro', 'nbvaltransition', 'nbvalfunc', 'nbvalexec', 'nbvaluse', 'nbvalcellexec', 'nbvalmodes', 'basic_pass', 'basic_pass_test']\n",
      "null\n",
      "maintitle\n",
      "contents\n",
      "jupyterintro\n",
      "nbvaltransition\n",
      "nbvalfunc\n",
      "nbvalexec\n",
      "nbvaluse\n",
      "nbvalcellexec\n",
      "nbvalmodes\n",
      "basic_pass\n"
     ]
    }
   ],
   "source": [
    "new_slide = \"basic_pass_test\"\n",
    "\n",
    "slides[new_slide] = copy.deepcopy(template_slides['templateslide_example_test'])\n",
    "slides[new_slide]['id'] = new_slide\n",
    "\n",
    "slides[new_slide]['regions']['slide_element_title']['content']['cell'] = 'cell_title_basic_pass'\n",
    "slides[new_slide]['regions']['slide_element_title']['content']['part'] = 'whole'\n",
    "\n",
    "slides[new_slide]['regions']['slide_region_test']['content']['cell'] = 'cell_test_basic_pass'\n",
    "slides[new_slide]['regions']['slide_region_test']['content']['part'] = 'source'\n",
    "\n",
    "slides[new_slide]['regions']['slide_region_testoutput']['content']['cell'] = 'cell_test_basic_pass'\n",
    "slides[new_slide]['regions']['slide_region_testoutput']['content']['part'] = 'outputs'\n",
    "\n",
    "\n",
    "slide_order.append(new_slide)\n",
    "set_slideorder(slides, slide_order)"
   ]
  },
  {
   "cell_type": "markdown",
   "metadata": {},
   "source": [
    "## Slide - nbval - Basic Fail"
   ]
  },
  {
   "cell_type": "code",
   "execution_count": 667,
   "metadata": {
    "collapsed": false
   },
   "outputs": [
    {
     "name": "stdout",
     "output_type": "stream",
     "text": [
      "['maintitle', 'contents', 'jupyterintro', 'nbvaltransition', 'nbvalfunc', 'nbvalexec', 'nbvaluse', 'nbvalcellexec', 'nbvalmodes', 'basic_pass', 'basic_pass_test', 'basic_fail']\n",
      "null\n",
      "maintitle\n",
      "contents\n",
      "jupyterintro\n",
      "nbvaltransition\n",
      "nbvalfunc\n",
      "nbvalexec\n",
      "nbvaluse\n",
      "nbvalcellexec\n",
      "nbvalmodes\n",
      "basic_pass\n",
      "basic_pass_test\n"
     ]
    }
   ],
   "source": [
    "new_slide = \"basic_fail\"\n",
    "\n",
    "slides[new_slide] = copy.deepcopy(template_slides['templateslide_example_content'])\n",
    "slides[new_slide]['id'] = new_slide\n",
    "\n",
    "slides[new_slide]['regions']['slide_element_title']['content']['cell'] = 'cell_title_basic_pass'\n",
    "slides[new_slide]['regions']['slide_element_title']['content']['part'] = 'whole'\n",
    "\n",
    "slides[new_slide]['regions']['slide_region_input']['content']['cell'] = 'cell_content_basic_fail'\n",
    "slides[new_slide]['regions']['slide_region_input']['content']['part'] = 'source'\n",
    "\n",
    "slides[new_slide]['regions']['slide_region_output']['content']['cell'] = 'cell_content_basic_fail'\n",
    "slides[new_slide]['regions']['slide_region_output']['content']['part'] = 'outputs'\n",
    "\n",
    "del slides[new_slide]['regions']['slide_region_marker']\n",
    "del slides[new_slide]['regions']['slide_label_marker']\n",
    "\n",
    "\n",
    "slide_order.append(new_slide)\n",
    "set_slideorder(slides, slide_order)"
   ]
  },
  {
   "cell_type": "markdown",
   "metadata": {},
   "source": [
    "## Slide - nbval - Basic Fail - Test"
   ]
  },
  {
   "cell_type": "code",
   "execution_count": 668,
   "metadata": {
    "collapsed": false,
    "scrolled": true
   },
   "outputs": [
    {
     "name": "stdout",
     "output_type": "stream",
     "text": [
      "['maintitle', 'contents', 'jupyterintro', 'nbvaltransition', 'nbvalfunc', 'nbvalexec', 'nbvaluse', 'nbvalcellexec', 'nbvalmodes', 'basic_pass', 'basic_pass_test', 'basic_fail', 'basic_fail_test']\n",
      "null\n",
      "maintitle\n",
      "contents\n",
      "jupyterintro\n",
      "nbvaltransition\n",
      "nbvalfunc\n",
      "nbvalexec\n",
      "nbvaluse\n",
      "nbvalcellexec\n",
      "nbvalmodes\n",
      "basic_pass\n",
      "basic_pass_test\n",
      "basic_fail\n"
     ]
    }
   ],
   "source": [
    "new_slide = \"basic_fail_test\"\n",
    "\n",
    "slides[new_slide] = copy.deepcopy(template_slides['templateslide_example_test'])\n",
    "slides[new_slide]['id'] = new_slide\n",
    "\n",
    "slides[new_slide]['regions']['slide_element_title']['content']['cell'] = 'cell_title_basic_pass'\n",
    "slides[new_slide]['regions']['slide_element_title']['content']['part'] = 'whole'\n",
    "\n",
    "slides[new_slide]['regions']['slide_region_test']['content']['cell'] = 'cell_test_basic_fail'\n",
    "slides[new_slide]['regions']['slide_region_test']['content']['part'] = 'source'\n",
    "\n",
    "slides[new_slide]['regions']['slide_region_testoutput']['content']['cell'] = 'cell_test_basic_fail'\n",
    "slides[new_slide]['regions']['slide_region_testoutput']['content']['part'] = 'outputs'\n",
    "\n",
    "\n",
    "slide_order.append(new_slide)\n",
    "set_slideorder(slides, slide_order)"
   ]
  },
  {
   "cell_type": "markdown",
   "metadata": {},
   "source": [
    "## Slide - nbval - Skipping cells"
   ]
  },
  {
   "cell_type": "code",
   "execution_count": 669,
   "metadata": {
    "collapsed": true
   },
   "outputs": [],
   "source": [
    "new_slide = \"skippingcells\"\n",
    "\n",
    "slides[new_slide] = copy.deepcopy(template_slides['templateslide_example_content'])\n",
    "slides[new_slide]['id'] = new_slide\n",
    "\n",
    "slides[new_slide]['regions']['slide_element_title']['content']['cell'] = 'cell_title_skippingcells'\n",
    "slides[new_slide]['regions']['slide_element_title']['content']['part'] = 'whole'\n",
    "\n",
    "slides[new_slide]['regions']['slide_region_input']['content']['cell'] = 'cell_content_skippingcells'\n",
    "slides[new_slide]['regions']['slide_region_input']['content']['part'] = 'source'\n",
    "\n",
    "slides[new_slide]['regions']['slide_region_output']['content']['cell'] = 'cell_content_skippingcells'\n",
    "slides[new_slide]['regions']['slide_region_output']['content']['part'] = 'outputs'\n",
    "\n",
    "slides[new_slide]['regions']['slide_region_marker']['content']['cell'] = 'cell_marker_skippingcells'\n",
    "slides[new_slide]['regions']['slide_label_marker']['content']['part'] = 'whole'"
   ]
  },
  {
   "cell_type": "code",
   "execution_count": 670,
   "metadata": {
    "collapsed": false
   },
   "outputs": [
    {
     "name": "stdout",
     "output_type": "stream",
     "text": [
      "['maintitle', 'contents', 'jupyterintro', 'nbvaltransition', 'nbvalfunc', 'nbvalexec', 'nbvaluse', 'nbvalcellexec', 'nbvalmodes', 'basic_pass', 'basic_pass_test', 'basic_fail', 'basic_fail_test', 'skippingcells']\n",
      "null\n",
      "maintitle\n",
      "contents\n",
      "jupyterintro\n",
      "nbvaltransition\n",
      "nbvalfunc\n",
      "nbvalexec\n",
      "nbvaluse\n",
      "nbvalcellexec\n",
      "nbvalmodes\n",
      "basic_pass\n",
      "basic_pass_test\n",
      "basic_fail\n",
      "basic_fail_test\n"
     ]
    }
   ],
   "source": [
    "slide_order.append(new_slide)\n",
    "set_slideorder(slides, slide_order)"
   ]
  },
  {
   "cell_type": "markdown",
   "metadata": {},
   "source": [
    "## Slide - nbval - Skipping Cells - Test"
   ]
  },
  {
   "cell_type": "code",
   "execution_count": 671,
   "metadata": {
    "collapsed": false,
    "scrolled": true
   },
   "outputs": [
    {
     "name": "stdout",
     "output_type": "stream",
     "text": [
      "['maintitle', 'contents', 'jupyterintro', 'nbvaltransition', 'nbvalfunc', 'nbvalexec', 'nbvaluse', 'nbvalcellexec', 'nbvalmodes', 'basic_pass', 'basic_pass_test', 'basic_fail', 'basic_fail_test', 'skippingcells', 'skippingcells_test']\n",
      "null\n",
      "maintitle\n",
      "contents\n",
      "jupyterintro\n",
      "nbvaltransition\n",
      "nbvalfunc\n",
      "nbvalexec\n",
      "nbvaluse\n",
      "nbvalcellexec\n",
      "nbvalmodes\n",
      "basic_pass\n",
      "basic_pass_test\n",
      "basic_fail\n",
      "basic_fail_test\n",
      "skippingcells\n"
     ]
    }
   ],
   "source": [
    "new_slide = \"skippingcells_test\"\n",
    "\n",
    "slides[new_slide] = copy.deepcopy(template_slides['templateslide_example_test'])\n",
    "slides[new_slide]['id'] = new_slide\n",
    "\n",
    "slides[new_slide]['regions']['slide_element_title']['content']['cell'] = 'cell_title_skippingcells'\n",
    "slides[new_slide]['regions']['slide_element_title']['content']['part'] = 'whole'\n",
    "\n",
    "slides[new_slide]['regions']['slide_region_test']['content']['cell'] = 'cell_test_skippingcells'\n",
    "slides[new_slide]['regions']['slide_region_test']['content']['part'] = 'source'\n",
    "\n",
    "slides[new_slide]['regions']['slide_region_testoutput']['content']['cell'] = 'cell_test_skippingcells'\n",
    "slides[new_slide]['regions']['slide_region_testoutput']['content']['part'] = 'outputs'\n",
    "\n",
    "\n",
    "slide_order.append(new_slide)\n",
    "set_slideorder(slides, slide_order)"
   ]
  },
  {
   "cell_type": "markdown",
   "metadata": {},
   "source": [
    "## Slide - nbval - Ignoring output"
   ]
  },
  {
   "cell_type": "code",
   "execution_count": 672,
   "metadata": {
    "collapsed": true
   },
   "outputs": [],
   "source": [
    "new_slide = \"ignore\"\n",
    "\n",
    "slides[new_slide] = copy.deepcopy(template_slides['templateslide_example_content'])\n",
    "slides[new_slide]['id'] = new_slide\n",
    "\n",
    "slides[new_slide]['regions']['slide_element_title']['content']['cell'] = 'cell_title_ignore'\n",
    "slides[new_slide]['regions']['slide_element_title']['content']['part'] = 'whole'\n",
    "\n",
    "slides[new_slide]['regions']['slide_region_input']['content']['cell'] = 'cell_content_ignore'\n",
    "slides[new_slide]['regions']['slide_region_input']['content']['part'] = 'source'\n",
    "\n",
    "slides[new_slide]['regions']['slide_region_output']['content']['cell'] = 'cell_content_ignore'\n",
    "slides[new_slide]['regions']['slide_region_output']['content']['part'] = 'outputs'\n",
    "\n",
    "slides[new_slide]['regions']['slide_region_marker']['content']['cell'] = 'cell_marker_ignore'\n",
    "slides[new_slide]['regions']['slide_label_marker']['content']['part'] = 'whole'"
   ]
  },
  {
   "cell_type": "code",
   "execution_count": 673,
   "metadata": {
    "collapsed": false
   },
   "outputs": [
    {
     "name": "stdout",
     "output_type": "stream",
     "text": [
      "['maintitle', 'contents', 'jupyterintro', 'nbvaltransition', 'nbvalfunc', 'nbvalexec', 'nbvaluse', 'nbvalcellexec', 'nbvalmodes', 'basic_pass', 'basic_pass_test', 'basic_fail', 'basic_fail_test', 'skippingcells', 'skippingcells_test', 'ignore']\n",
      "null\n",
      "maintitle\n",
      "contents\n",
      "jupyterintro\n",
      "nbvaltransition\n",
      "nbvalfunc\n",
      "nbvalexec\n",
      "nbvaluse\n",
      "nbvalcellexec\n",
      "nbvalmodes\n",
      "basic_pass\n",
      "basic_pass_test\n",
      "basic_fail\n",
      "basic_fail_test\n",
      "skippingcells\n",
      "skippingcells_test\n"
     ]
    }
   ],
   "source": [
    "slide_order.append(new_slide)\n",
    "set_slideorder(slides, slide_order)"
   ]
  },
  {
   "cell_type": "markdown",
   "metadata": {},
   "source": [
    "## Slide - nbval - Ignoring Output - Test"
   ]
  },
  {
   "cell_type": "code",
   "execution_count": 674,
   "metadata": {
    "collapsed": false,
    "scrolled": true
   },
   "outputs": [
    {
     "name": "stdout",
     "output_type": "stream",
     "text": [
      "['maintitle', 'contents', 'jupyterintro', 'nbvaltransition', 'nbvalfunc', 'nbvalexec', 'nbvaluse', 'nbvalcellexec', 'nbvalmodes', 'basic_pass', 'basic_pass_test', 'basic_fail', 'basic_fail_test', 'skippingcells', 'skippingcells_test', 'ignore', 'ignore_test']\n",
      "null\n",
      "maintitle\n",
      "contents\n",
      "jupyterintro\n",
      "nbvaltransition\n",
      "nbvalfunc\n",
      "nbvalexec\n",
      "nbvaluse\n",
      "nbvalcellexec\n",
      "nbvalmodes\n",
      "basic_pass\n",
      "basic_pass_test\n",
      "basic_fail\n",
      "basic_fail_test\n",
      "skippingcells\n",
      "skippingcells_test\n",
      "ignore\n"
     ]
    }
   ],
   "source": [
    "new_slide = \"ignore_test\"\n",
    "\n",
    "slides[new_slide] = copy.deepcopy(template_slides['templateslide_example_test'])\n",
    "slides[new_slide]['id'] = new_slide\n",
    "\n",
    "slides[new_slide]['regions']['slide_element_title']['content']['cell'] = 'cell_title_ignore'\n",
    "slides[new_slide]['regions']['slide_element_title']['content']['part'] = 'whole'\n",
    "\n",
    "slides[new_slide]['regions']['slide_region_test']['content']['cell'] = 'cell_test_ignore'\n",
    "slides[new_slide]['regions']['slide_region_test']['content']['part'] = 'source'\n",
    "\n",
    "slides[new_slide]['regions']['slide_region_testoutput']['content']['cell'] = 'cell_test_ignore'\n",
    "slides[new_slide]['regions']['slide_region_testoutput']['content']['part'] = 'outputs'\n",
    "\n",
    "\n",
    "slide_order.append(new_slide)\n",
    "set_slideorder(slides, slide_order)"
   ]
  },
  {
   "cell_type": "markdown",
   "metadata": {},
   "source": [
    "## Slide - nbval - Checking Exceptions 1"
   ]
  },
  {
   "cell_type": "code",
   "execution_count": 675,
   "metadata": {
    "collapsed": true
   },
   "outputs": [],
   "source": [
    "new_slide = \"except_1\"\n",
    "\n",
    "slides[new_slide] = copy.deepcopy(template_slides['templateslide_example_content'])\n",
    "slides[new_slide]['id'] = new_slide\n",
    "\n",
    "slides[new_slide]['regions']['slide_element_title']['content']['cell'] = 'cell_title_except'\n",
    "slides[new_slide]['regions']['slide_element_title']['content']['part'] = 'whole'\n",
    "\n",
    "slides[new_slide]['regions']['slide_region_input']['content']['cell'] = 'cell_content_except_1'\n",
    "slides[new_slide]['regions']['slide_region_input']['content']['part'] = 'source'\n",
    "\n",
    "slides[new_slide]['regions']['slide_region_output']['content']['cell'] = 'cell_content_except_1'\n",
    "slides[new_slide]['regions']['slide_region_output']['content']['part'] = 'outputs'\n",
    "\n",
    "del slides[new_slide]['regions']['slide_region_marker']\n"
   ]
  },
  {
   "cell_type": "code",
   "execution_count": 676,
   "metadata": {
    "collapsed": false
   },
   "outputs": [
    {
     "name": "stdout",
     "output_type": "stream",
     "text": [
      "['maintitle', 'contents', 'jupyterintro', 'nbvaltransition', 'nbvalfunc', 'nbvalexec', 'nbvaluse', 'nbvalcellexec', 'nbvalmodes', 'basic_pass', 'basic_pass_test', 'basic_fail', 'basic_fail_test', 'skippingcells', 'skippingcells_test', 'ignore', 'ignore_test', 'except_1']\n",
      "null\n",
      "maintitle\n",
      "contents\n",
      "jupyterintro\n",
      "nbvaltransition\n",
      "nbvalfunc\n",
      "nbvalexec\n",
      "nbvaluse\n",
      "nbvalcellexec\n",
      "nbvalmodes\n",
      "basic_pass\n",
      "basic_pass_test\n",
      "basic_fail\n",
      "basic_fail_test\n",
      "skippingcells\n",
      "skippingcells_test\n",
      "ignore\n",
      "ignore_test\n"
     ]
    }
   ],
   "source": [
    "slide_order.append(new_slide)\n",
    "set_slideorder(slides, slide_order)"
   ]
  },
  {
   "cell_type": "markdown",
   "metadata": {},
   "source": [
    "## Slide - nbval - Checking Exceptions 1 - Test"
   ]
  },
  {
   "cell_type": "code",
   "execution_count": 677,
   "metadata": {
    "collapsed": false,
    "scrolled": true
   },
   "outputs": [
    {
     "name": "stdout",
     "output_type": "stream",
     "text": [
      "['maintitle', 'contents', 'jupyterintro', 'nbvaltransition', 'nbvalfunc', 'nbvalexec', 'nbvaluse', 'nbvalcellexec', 'nbvalmodes', 'basic_pass', 'basic_pass_test', 'basic_fail', 'basic_fail_test', 'skippingcells', 'skippingcells_test', 'ignore', 'ignore_test', 'except_1', 'except_1_test']\n",
      "null\n",
      "maintitle\n",
      "contents\n",
      "jupyterintro\n",
      "nbvaltransition\n",
      "nbvalfunc\n",
      "nbvalexec\n",
      "nbvaluse\n",
      "nbvalcellexec\n",
      "nbvalmodes\n",
      "basic_pass\n",
      "basic_pass_test\n",
      "basic_fail\n",
      "basic_fail_test\n",
      "skippingcells\n",
      "skippingcells_test\n",
      "ignore\n",
      "ignore_test\n",
      "except_1\n"
     ]
    }
   ],
   "source": [
    "new_slide = \"except_1_test\"\n",
    "\n",
    "slides[new_slide] = copy.deepcopy(template_slides['templateslide_example_test'])\n",
    "slides[new_slide]['id'] = new_slide\n",
    "\n",
    "slides[new_slide]['regions']['slide_element_title']['content']['cell'] = 'cell_title_except'\n",
    "slides[new_slide]['regions']['slide_element_title']['content']['part'] = 'whole'\n",
    "\n",
    "slides[new_slide]['regions']['slide_region_test']['content']['cell'] = 'cell_test_except_1'\n",
    "slides[new_slide]['regions']['slide_region_test']['content']['part'] = 'source'\n",
    "\n",
    "slides[new_slide]['regions']['slide_region_testoutput']['content']['cell'] = 'cell_test_except_1'\n",
    "slides[new_slide]['regions']['slide_region_testoutput']['content']['part'] = 'outputs'\n",
    "\n",
    "\n",
    "slide_order.append(new_slide)\n",
    "set_slideorder(slides, slide_order)"
   ]
  },
  {
   "cell_type": "markdown",
   "metadata": {},
   "source": [
    "## Slide - nbval - Checking Exceptions 2"
   ]
  },
  {
   "cell_type": "code",
   "execution_count": 678,
   "metadata": {
    "collapsed": true
   },
   "outputs": [],
   "source": [
    "new_slide = \"except_2\"\n",
    "\n",
    "slides[new_slide] = copy.deepcopy(template_slides['templateslide_example_content'])\n",
    "slides[new_slide]['id'] = new_slide\n",
    "\n",
    "slides[new_slide]['regions']['slide_element_title']['content']['cell'] = 'cell_title_except'\n",
    "slides[new_slide]['regions']['slide_element_title']['content']['part'] = 'whole'\n",
    "\n",
    "slides[new_slide]['regions']['slide_region_input']['content']['cell'] = 'cell_content_except_2'\n",
    "slides[new_slide]['regions']['slide_region_input']['content']['part'] = 'source'\n",
    "\n",
    "slides[new_slide]['regions']['slide_region_output']['content']['cell'] = 'cell_content_except_2'\n",
    "slides[new_slide]['regions']['slide_region_output']['content']['part'] = 'outputs'\n",
    "\n",
    "slides[new_slide]['regions']['slide_region_marker']['content']['cell'] = 'cell_marker_except'\n",
    "slides[new_slide]['regions']['slide_label_marker']['content']['part'] = 'whole'"
   ]
  },
  {
   "cell_type": "code",
   "execution_count": 679,
   "metadata": {
    "collapsed": false
   },
   "outputs": [
    {
     "name": "stdout",
     "output_type": "stream",
     "text": [
      "['maintitle', 'contents', 'jupyterintro', 'nbvaltransition', 'nbvalfunc', 'nbvalexec', 'nbvaluse', 'nbvalcellexec', 'nbvalmodes', 'basic_pass', 'basic_pass_test', 'basic_fail', 'basic_fail_test', 'skippingcells', 'skippingcells_test', 'ignore', 'ignore_test', 'except_1', 'except_1_test', 'except_2']\n",
      "null\n",
      "maintitle\n",
      "contents\n",
      "jupyterintro\n",
      "nbvaltransition\n",
      "nbvalfunc\n",
      "nbvalexec\n",
      "nbvaluse\n",
      "nbvalcellexec\n",
      "nbvalmodes\n",
      "basic_pass\n",
      "basic_pass_test\n",
      "basic_fail\n",
      "basic_fail_test\n",
      "skippingcells\n",
      "skippingcells_test\n",
      "ignore\n",
      "ignore_test\n",
      "except_1\n",
      "except_1_test\n"
     ]
    }
   ],
   "source": [
    "slide_order.append(new_slide)\n",
    "set_slideorder(slides, slide_order)"
   ]
  },
  {
   "cell_type": "markdown",
   "metadata": {},
   "source": [
    "## Slide - nbval - Checking Exceptions 2 - Test"
   ]
  },
  {
   "cell_type": "code",
   "execution_count": 680,
   "metadata": {
    "collapsed": false,
    "scrolled": false
   },
   "outputs": [
    {
     "name": "stdout",
     "output_type": "stream",
     "text": [
      "['maintitle', 'contents', 'jupyterintro', 'nbvaltransition', 'nbvalfunc', 'nbvalexec', 'nbvaluse', 'nbvalcellexec', 'nbvalmodes', 'basic_pass', 'basic_pass_test', 'basic_fail', 'basic_fail_test', 'skippingcells', 'skippingcells_test', 'ignore', 'ignore_test', 'except_1', 'except_1_test', 'except_2', 'except_2_test']\n",
      "null\n",
      "maintitle\n",
      "contents\n",
      "jupyterintro\n",
      "nbvaltransition\n",
      "nbvalfunc\n",
      "nbvalexec\n",
      "nbvaluse\n",
      "nbvalcellexec\n",
      "nbvalmodes\n",
      "basic_pass\n",
      "basic_pass_test\n",
      "basic_fail\n",
      "basic_fail_test\n",
      "skippingcells\n",
      "skippingcells_test\n",
      "ignore\n",
      "ignore_test\n",
      "except_1\n",
      "except_1_test\n",
      "except_2\n"
     ]
    }
   ],
   "source": [
    "new_slide = \"except_2_test\"\n",
    "\n",
    "slides[new_slide] = copy.deepcopy(template_slides['templateslide_example_test'])\n",
    "slides[new_slide]['id'] = new_slide\n",
    "\n",
    "slides[new_slide]['regions']['slide_element_title']['content']['cell'] = 'cell_title_except'\n",
    "slides[new_slide]['regions']['slide_element_title']['content']['part'] = 'whole'\n",
    "\n",
    "slides[new_slide]['regions']['slide_region_test']['content']['cell'] = 'cell_test_except_2'\n",
    "slides[new_slide]['regions']['slide_region_test']['content']['part'] = 'source'\n",
    "\n",
    "slides[new_slide]['regions']['slide_region_testoutput']['content']['cell'] = 'cell_test_except_2'\n",
    "slides[new_slide]['regions']['slide_region_testoutput']['content']['part'] = 'outputs'\n",
    "\n",
    "\n",
    "slide_order.append(new_slide)\n",
    "set_slideorder(slides, slide_order)"
   ]
  },
  {
   "cell_type": "markdown",
   "metadata": {},
   "source": [
    "## Slide - nbval - Checking Exceptions 3"
   ]
  },
  {
   "cell_type": "code",
   "execution_count": 681,
   "metadata": {
    "collapsed": true
   },
   "outputs": [],
   "source": [
    "new_slide = \"except_3\"\n",
    "\n",
    "slides[new_slide] = copy.deepcopy(template_slides['templateslide_example_content'])\n",
    "slides[new_slide]['id'] = new_slide\n",
    "\n",
    "slides[new_slide]['regions']['slide_element_title']['content']['cell'] = 'cell_title_except'\n",
    "slides[new_slide]['regions']['slide_element_title']['content']['part'] = 'whole'\n",
    "\n",
    "slides[new_slide]['regions']['slide_region_input']['content']['cell'] = 'cell_content_except_3'\n",
    "slides[new_slide]['regions']['slide_region_input']['content']['part'] = 'source'\n",
    "\n",
    "slides[new_slide]['regions']['slide_region_output']['content']['cell'] = 'cell_content_except_3'\n",
    "slides[new_slide]['regions']['slide_region_output']['content']['part'] = 'outputs'\n",
    "\n",
    "slides[new_slide]['regions']['slide_region_marker']['content']['cell'] = 'cell_marker_except'\n",
    "slides[new_slide]['regions']['slide_label_marker']['content']['part'] = 'whole'"
   ]
  },
  {
   "cell_type": "code",
   "execution_count": 682,
   "metadata": {
    "collapsed": false
   },
   "outputs": [
    {
     "name": "stdout",
     "output_type": "stream",
     "text": [
      "['maintitle', 'contents', 'jupyterintro', 'nbvaltransition', 'nbvalfunc', 'nbvalexec', 'nbvaluse', 'nbvalcellexec', 'nbvalmodes', 'basic_pass', 'basic_pass_test', 'basic_fail', 'basic_fail_test', 'skippingcells', 'skippingcells_test', 'ignore', 'ignore_test', 'except_1', 'except_1_test', 'except_2', 'except_2_test', 'except_3']\n",
      "null\n",
      "maintitle\n",
      "contents\n",
      "jupyterintro\n",
      "nbvaltransition\n",
      "nbvalfunc\n",
      "nbvalexec\n",
      "nbvaluse\n",
      "nbvalcellexec\n",
      "nbvalmodes\n",
      "basic_pass\n",
      "basic_pass_test\n",
      "basic_fail\n",
      "basic_fail_test\n",
      "skippingcells\n",
      "skippingcells_test\n",
      "ignore\n",
      "ignore_test\n",
      "except_1\n",
      "except_1_test\n",
      "except_2\n",
      "except_2_test\n"
     ]
    }
   ],
   "source": [
    "slide_order.append(new_slide)\n",
    "set_slideorder(slides, slide_order)"
   ]
  },
  {
   "cell_type": "markdown",
   "metadata": {},
   "source": [
    "## Slide - nbval - Checking Exceptions 3 - Test"
   ]
  },
  {
   "cell_type": "code",
   "execution_count": 683,
   "metadata": {
    "collapsed": false,
    "scrolled": true
   },
   "outputs": [
    {
     "name": "stdout",
     "output_type": "stream",
     "text": [
      "['maintitle', 'contents', 'jupyterintro', 'nbvaltransition', 'nbvalfunc', 'nbvalexec', 'nbvaluse', 'nbvalcellexec', 'nbvalmodes', 'basic_pass', 'basic_pass_test', 'basic_fail', 'basic_fail_test', 'skippingcells', 'skippingcells_test', 'ignore', 'ignore_test', 'except_1', 'except_1_test', 'except_2', 'except_2_test', 'except_3', 'except_3_test']\n",
      "null\n",
      "maintitle\n",
      "contents\n",
      "jupyterintro\n",
      "nbvaltransition\n",
      "nbvalfunc\n",
      "nbvalexec\n",
      "nbvaluse\n",
      "nbvalcellexec\n",
      "nbvalmodes\n",
      "basic_pass\n",
      "basic_pass_test\n",
      "basic_fail\n",
      "basic_fail_test\n",
      "skippingcells\n",
      "skippingcells_test\n",
      "ignore\n",
      "ignore_test\n",
      "except_1\n",
      "except_1_test\n",
      "except_2\n",
      "except_2_test\n",
      "except_3\n"
     ]
    }
   ],
   "source": [
    "new_slide = \"except_3_test\"\n",
    "\n",
    "slides[new_slide] = copy.deepcopy(template_slides['templateslide_example_test'])\n",
    "slides[new_slide]['id'] = new_slide\n",
    "\n",
    "slides[new_slide]['regions']['slide_element_title']['content']['cell'] = 'cell_title_except'\n",
    "slides[new_slide]['regions']['slide_element_title']['content']['part'] = 'whole'\n",
    "\n",
    "slides[new_slide]['regions']['slide_region_test']['content']['cell'] = 'cell_test_except_3'\n",
    "slides[new_slide]['regions']['slide_region_test']['content']['part'] = 'source'\n",
    "\n",
    "slides[new_slide]['regions']['slide_region_testoutput']['content']['cell'] = 'cell_test_except_3'\n",
    "slides[new_slide]['regions']['slide_region_testoutput']['content']['part'] = 'outputs'\n",
    "\n",
    "\n",
    "slide_order.append(new_slide)\n",
    "set_slideorder(slides, slide_order)"
   ]
  },
  {
   "cell_type": "markdown",
   "metadata": {},
   "source": [
    "## Check slide order"
   ]
  },
  {
   "cell_type": "code",
   "execution_count": 684,
   "metadata": {
    "collapsed": false
   },
   "outputs": [
    {
     "data": {
      "text/plain": [
       "['nbvaluse',\n",
       " 'nbvalcellexec',\n",
       " 'basic_pass',\n",
       " 'except_1_test',\n",
       " 'nbvalmodes',\n",
       " 'nbvalfunc',\n",
       " 'skippingcells',\n",
       " 'nbvaltransition',\n",
       " 'nbvalexec',\n",
       " 'basic_pass_test',\n",
       " 'ignore',\n",
       " 'except_2',\n",
       " 'except_3',\n",
       " 'except_2_test',\n",
       " 'basic_fail',\n",
       " 'basic_fail_test',\n",
       " 'except_1',\n",
       " 'contents',\n",
       " 'maintitle',\n",
       " 'null',\n",
       " 'jupyterintro',\n",
       " 'skippingcells_test',\n",
       " 'ignore_test']"
      ]
     },
     "execution_count": 684,
     "metadata": {},
     "output_type": "execute_result"
    }
   ],
   "source": [
    "# get_slideorder(slides)\n",
    "slideorder_printprev(slides)"
   ]
  },
  {
   "cell_type": "markdown",
   "metadata": {},
   "source": [
    "## Load theme"
   ]
  },
  {
   "cell_type": "code",
   "execution_count": 685,
   "metadata": {
    "collapsed": false
   },
   "outputs": [
    {
     "data": {
      "text/plain": [
       "dict_keys(['themes'])"
      ]
     },
     "execution_count": 685,
     "metadata": {},
     "output_type": "execute_result"
    }
   ],
   "source": [
    "theme = json.loads(themes_json)\n",
    "theme.keys()"
   ]
  },
  {
   "cell_type": "code",
   "execution_count": 686,
   "metadata": {
    "collapsed": true
   },
   "outputs": [],
   "source": [
    "theme_main = json.loads(theme_json_main)"
   ]
  },
  {
   "cell_type": "code",
   "execution_count": 687,
   "metadata": {
    "collapsed": false
   },
   "outputs": [
    {
     "data": {
      "text/plain": [
       "dict_keys(['my-theme'])"
      ]
     },
     "execution_count": 687,
     "metadata": {},
     "output_type": "execute_result"
    }
   ],
   "source": [
    "theme_main.keys()"
   ]
  },
  {
   "cell_type": "markdown",
   "metadata": {},
   "source": [
    "## Create title slide theme"
   ]
  },
  {
   "cell_type": "code",
   "execution_count": 694,
   "metadata": {
    "collapsed": false
   },
   "outputs": [],
   "source": [
    "title_theme = copy.deepcopy(theme_main)\n",
    "title_theme['my-theme']['id'] = \"my-titletheme\"\n",
    "\n",
    "title_theme['my-theme']['palette']['my-green']['rgb'] = [135, 194, 46]\n",
    "\n",
    "title_theme['my-theme']['rules']['h1']['color'] = \"my_white\"\n",
    "title_theme['my-theme']['rules']['li']['color'] = \"my_white\""
   ]
  },
  {
   "cell_type": "markdown",
   "metadata": {},
   "source": [
    "## Output json with theme"
   ]
  },
  {
   "cell_type": "code",
   "execution_count": 695,
   "metadata": {
    "collapsed": true
   },
   "outputs": [],
   "source": [
    "notebook_presentation['metadata']['nbpresent']['slides'] = slides\n",
    "notebook_presentation['metadata']['nbpresent']['themes']['theme']['my-theme'] = theme['themes']['theme']['my-theme']\n",
    "\n",
    "notebook_presentation['metadata']['nbpresent']['themes']['theme']['my-titletheme'] = title_theme['my-theme']"
   ]
  },
  {
   "cell_type": "code",
   "execution_count": 696,
   "metadata": {
    "collapsed": true
   },
   "outputs": [],
   "source": [
    "with open(\"JupyterNotebooks_forpresentation_formatted.ipynb\", \"wt\") as f:    \n",
    "        json.dump(notebook_presentation, f)"
   ]
  },
  {
   "cell_type": "code",
   "execution_count": null,
   "metadata": {
    "collapsed": true
   },
   "outputs": [],
   "source": []
  }
 ],
 "metadata": {
  "anaconda-cloud": {},
  "kernelspec": {
   "display_name": "Python [default]",
   "language": "python",
   "name": "python3"
  },
  "language_info": {
   "codemirror_mode": {
    "name": "ipython",
    "version": 3
   },
   "file_extension": ".py",
   "mimetype": "text/x-python",
   "name": "python",
   "nbconvert_exporter": "python",
   "pygments_lexer": "ipython3",
   "version": "3.5.2"
  }
 },
 "nbformat": 4,
 "nbformat_minor": 2
}
