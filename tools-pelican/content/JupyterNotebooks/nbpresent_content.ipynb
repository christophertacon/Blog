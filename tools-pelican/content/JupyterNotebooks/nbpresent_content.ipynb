{
 "cells": [
  {
   "cell_type": "code",
   "execution_count": 254,
   "metadata": {
    "collapsed": true
   },
   "outputs": [],
   "source": [
    "themes_json = '''{\"themes\": {\n",
    "    \"default\": \"my-theme\",\n",
    "    \"theme\": {\n",
    "     \"my-theme\": {\n",
    "      \"backgrounds\": {\n",
    "       \"my-background\": {\n",
    "        \"background-color\": \"my-white\"\n",
    "       }\n",
    "      },\n",
    "      \"id\": \"my-theme\",\n",
    "      \"palette\": {\n",
    "       \"my-black\": {\n",
    "        \"id\": \"my-black\",\n",
    "        \"rgb\": [\n",
    "         0,\n",
    "         0,\n",
    "         0\n",
    "        ]\n",
    "       },\n",
    "       \"my-green\": {\n",
    "        \"id\": \"my-green\",\n",
    "        \"rgb\": [\n",
    "         0,\n",
    "         80,\n",
    "         0\n",
    "        ]\n",
    "       },\n",
    "       \"my-testcolor\": {\n",
    "        \"id\": \"my-testcolor\",\n",
    "        \"rgb\": [\n",
    "         255,\n",
    "         0,\n",
    "         0\n",
    "        ]\n",
    "       },\n",
    "       \"my-white\": {\n",
    "        \"id\": \"my-white\",\n",
    "        \"rgb\": [\n",
    "         255,\n",
    "         255,\n",
    "         255\n",
    "        ]\n",
    "       }\n",
    "      },\n",
    "      \"rules\": {\n",
    "       \"h1\": {\n",
    "        \"color\": \"my-black\",\n",
    "        \"font-size\": 10\n",
    "       },\n",
    "       \"h2\": {\n",
    "        \"color\": \"my-black\",\n",
    "        \"font-size\": 6\n",
    "       },\n",
    "       \"h4\": {\n",
    "        \"color\": \"my-black\",\n",
    "        \"font-size\": 4\n",
    "       },\n",
    "       \"h5\": {\n",
    "        \"color\": \"my-green\"\n",
    "       },\n",
    "       \"li\": {\n",
    "        \"color\": \"my-black\",\n",
    "        \"font-size\": 4\n",
    "       },\n",
    "       \"p\": {\n",
    "        \"color\": \"my-green\",\n",
    "        \"font-size\": 5\n",
    "       },\n",
    "       \"pre\": {\n",
    "        \"color\": \"my-black\",\n",
    "        \"font-size\": 2.4\n",
    "       }\n",
    "      },\n",
    "      \"text-base\": {\n",
    "       \"font-family\": \"Helvetica Neue\",\n",
    "       \"font-size\": 2\n",
    "      }\n",
    "     }\n",
    "    }\n",
    "   }}'''"
   ]
  },
  {
   "cell_type": "code",
   "execution_count": 5,
   "metadata": {
    "collapsed": true
   },
   "outputs": [],
   "source": [
    "slide_test_json = '''\"slide_notebookcontent_2\": \n",
    "    {\n",
    "     \"id\": \"slide_notebookcontent_2\",\n",
    "     \"prev\": \"slide_notebookcontent\",\n",
    "     \"regions\": {\n",
    "      \"slide_element_hrule_1\": {\n",
    "       \"attrs\": {\n",
    "        \"height\": 0.1,\n",
    "        \"width\": 0.8,\n",
    "        \"x\": 0.1,\n",
    "        \"y\": 0.18544726301735648\n",
    "       },\n",
    "       \"content\": {\n",
    "        \"cell\": \"element_hrule\",\n",
    "        \"part\": \"whole\"\n",
    "       },\n",
    "       \"id\": \"slide_element_hrule_1\"\n",
    "      },\n",
    "      \"slide_element_hrule_3\": {\n",
    "       \"attrs\": {\n",
    "        \"height\": 0.1,\n",
    "        \"width\": 0.8,\n",
    "        \"x\": 0.1,\n",
    "        \"y\": 0.85\n",
    "       },\n",
    "       \"content\": {\n",
    "        \"cell\": \"element_hrule3\",\n",
    "        \"part\": \"whole\"\n",
    "       },\n",
    "       \"id\": \"slide_element_hrule_2\"\n",
    "      },\n",
    "      \"slide_element_title\": {\n",
    "       \"attrs\": {\n",
    "        \"height\": 0.11428571428571424,\n",
    "        \"width\": 0.8,\n",
    "        \"x\": 0.1,\n",
    "        \"y\": 0.05\n",
    "       },\n",
    "       \"content\": {\n",
    "        \"cell\": \"cell_title_skippingcells\",\n",
    "        \"part\": \"whole\"\n",
    "       },\n",
    "       \"id\": \"slide_element_title\"\n",
    "      },\n",
    "      \"slide_footer_authors\": {\n",
    "       \"attrs\": {\n",
    "        \"height\": 0.05,\n",
    "        \"width\": 0.4,\n",
    "        \"x\": 0.5,\n",
    "        \"y\": 0.9\n",
    "       },\n",
    "       \"content\": {\n",
    "        \"cell\": \"footer_authors\",\n",
    "        \"part\": \"whole\"\n",
    "       },\n",
    "       \"id\": \"slide_footer_authors\"\n",
    "      },\n",
    "      \"slide_footer_title\": {\n",
    "       \"attrs\": {\n",
    "        \"height\": 0.05,\n",
    "        \"width\": 0.4,\n",
    "        \"x\": 0.1,\n",
    "        \"y\": 0.9\n",
    "       },\n",
    "       \"content\": {\n",
    "        \"cell\": \"footer_title\",\n",
    "        \"part\": \"whole\"\n",
    "       },\n",
    "       \"id\": \"slide_footer_title\"\n",
    "      },\n",
    "      \"slide_label_test\": {\n",
    "       \"attrs\": {\n",
    "        \"height\": 0.1,\n",
    "        \"width\": 0.2,\n",
    "        \"x\": 0.1,\n",
    "        \"y\": 0.25\n",
    "       },\n",
    "       \"content\": {\n",
    "        \"cell\": \"label_test\",\n",
    "        \"part\": \"whole\"\n",
    "       },\n",
    "       \"id\": \"slide_label_test\"\n",
    "      },\n",
    "      \"slide_label_testoutput\": {\n",
    "       \"attrs\": {\n",
    "        \"height\": 0.06568758344459286,\n",
    "        \"width\": 0.4,\n",
    "        \"x\": 0.1,\n",
    "        \"y\": 0.32\n",
    "       },\n",
    "       \"content\": {\n",
    "        \"cell\": \"label_testoutput\",\n",
    "        \"part\": \"whole\"\n",
    "       },\n",
    "       \"id\": \"slide_label_testoutput\"\n",
    "      },\n",
    "      \"slide_region_test\": {\n",
    "       \"attrs\": {\n",
    "        \"height\": 0.1,\n",
    "        \"width\": 0.6,\n",
    "        \"x\": 0.3,\n",
    "        \"y\": 0.25\n",
    "       },\n",
    "       \"content\": {\n",
    "        \"cell\": \"cell_test_skippingcells\",\n",
    "        \"part\": \"source\"\n",
    "       },\n",
    "       \"id\": \"slide_region_test\"\n",
    "      },\n",
    "      \"slide_region_testoutput\": {\n",
    "       \"attrs\": {\n",
    "        \"height\": 0.45,\n",
    "        \"width\": 0.96,\n",
    "        \"x\": 0.02,\n",
    "        \"y\": 0.4\n",
    "       },\n",
    "       \"content\": {\n",
    "        \"cell\": \"cell_test_skippingcells\",\n",
    "        \"part\": \"outputs\"\n",
    "       },\n",
    "       \"id\": \"slide_region_testoutput\"\n",
    "      }\n",
    "     }\n",
    "    }'''"
   ]
  },
  {
   "cell_type": "code",
   "execution_count": 66,
   "metadata": {
    "collapsed": true
   },
   "outputs": [],
   "source": [
    "slide_contentfortesting_json = '''{\"slide_notebookcontent\": {\n",
    "     \"id\": \"slide_notebookcontent\",\n",
    "     \"prev\": null,\n",
    "     \"regions\": {\n",
    "      \"slide_element_hrule_1\": {\n",
    "       \"attrs\": {\n",
    "        \"height\": 0.1,\n",
    "        \"width\": 0.8,\n",
    "        \"x\": 0.1,\n",
    "        \"y\": 0.34699599465954606\n",
    "       },\n",
    "       \"content\": {\n",
    "        \"cell\": \"element_hrule\",\n",
    "        \"part\": \"whole\"\n",
    "       },\n",
    "       \"id\": \"slide_element_hrule_1\"\n",
    "      },\n",
    "      \"slide_element_hrule_2\": {\n",
    "       \"attrs\": {\n",
    "        \"height\": 0.1,\n",
    "        \"width\": 0.8,\n",
    "        \"x\": 0.1,\n",
    "        \"y\": 0.18544726301735648\n",
    "       },\n",
    "       \"content\": {\n",
    "        \"cell\": \"element_hrule2\",\n",
    "        \"part\": \"whole\"\n",
    "       },\n",
    "       \"id\": \"slide_element_hrule_2\"\n",
    "      },\n",
    "      \"slide_element_hrule_3\": {\n",
    "       \"attrs\": {\n",
    "        \"height\": 0.1,\n",
    "        \"width\": 0.8,\n",
    "        \"x\": 0.1,\n",
    "        \"y\": 0.85\n",
    "       },\n",
    "       \"content\": {\n",
    "        \"cell\": \"element_hrule3\",\n",
    "        \"part\": \"whole\"\n",
    "       },\n",
    "       \"id\": \"slide_element_hrule_2\"\n",
    "      },\n",
    "      \"slide_element_title\": {\n",
    "       \"attrs\": {\n",
    "        \"height\": 0.11428571428571424,\n",
    "        \"width\": 0.8,\n",
    "        \"x\": 0.1,\n",
    "        \"y\": 0.05\n",
    "       },\n",
    "       \"content\": {\n",
    "        \"cell\": \"cell_title_skippingcells\",\n",
    "        \"part\": \"whole\"\n",
    "       },\n",
    "       \"id\": \"slide_element_title\"\n",
    "      },\n",
    "      \"slide_footer_authors\": {\n",
    "       \"attrs\": {\n",
    "        \"height\": 0.05,\n",
    "        \"width\": 0.4,\n",
    "        \"x\": 0.5,\n",
    "        \"y\": 0.9\n",
    "       },\n",
    "       \"content\": {\n",
    "        \"cell\": \"footer_authors\",\n",
    "        \"part\": \"whole\"\n",
    "       },\n",
    "       \"id\": \"slide_footer_authors\"\n",
    "      },\n",
    "      \"slide_footer_title\": {\n",
    "       \"attrs\": {\n",
    "        \"height\": 0.05,\n",
    "        \"width\": 0.4,\n",
    "        \"x\": 0.1,\n",
    "        \"y\": 0.9\n",
    "       },\n",
    "       \"content\": {\n",
    "        \"cell\": \"footer_title\",\n",
    "        \"part\": \"whole\"\n",
    "       },\n",
    "       \"id\": \"slide_footer_title\"\n",
    "      },\n",
    "      \"slide_label_input\": {\n",
    "       \"attrs\": {\n",
    "        \"height\": 0.06568758344459286,\n",
    "        \"width\": 0.2,\n",
    "        \"x\": 0.1,\n",
    "        \"y\": 0.4\n",
    "       },\n",
    "       \"content\": {\n",
    "        \"cell\": \"label_input\",\n",
    "        \"part\": \"whole\"\n",
    "       },\n",
    "       \"id\": \"slide_region_input\"\n",
    "      },\n",
    "      \"slide_label_marker\": {\n",
    "       \"attrs\": {\n",
    "        \"height\": 0.1,\n",
    "        \"width\": 0.2,\n",
    "        \"x\": 0.1,\n",
    "        \"y\": 0.25\n",
    "       },\n",
    "       \"content\": {\n",
    "        \"cell\": \"label_marker\",\n",
    "        \"part\": \"whole\"\n",
    "       },\n",
    "       \"id\": \"slide_label_marker\"\n",
    "      },\n",
    "      \"slide_label_output\": {\n",
    "       \"attrs\": {\n",
    "        \"height\": 0.2,\n",
    "        \"width\": 0.2,\n",
    "        \"x\": 0.1,\n",
    "        \"y\": 0.65\n",
    "       },\n",
    "       \"content\": {\n",
    "        \"cell\": \"label_output\",\n",
    "        \"part\": \"whole\"\n",
    "       },\n",
    "       \"id\": \"slide_region_output\"\n",
    "      },\n",
    "      \"slide_region_input\": {\n",
    "       \"attrs\": {\n",
    "        \"height\": 0.2,\n",
    "        \"width\": 0.6,\n",
    "        \"x\": 0.3,\n",
    "        \"y\": 0.4\n",
    "       },\n",
    "       \"content\": {\n",
    "        \"cell\": \"cell_content_skippingcells\",\n",
    "        \"part\": \"source\"\n",
    "       },\n",
    "       \"id\": \"slide_region_input\"\n",
    "      },\n",
    "      \"slide_region_marker\": {\n",
    "       \"attrs\": {\n",
    "        \"height\": 0.1,\n",
    "        \"width\": 0.6,\n",
    "        \"x\": 0.3,\n",
    "        \"y\": 0.25\n",
    "       },\n",
    "       \"content\": {\n",
    "        \"cell\": \"cell_marker_skippingcells\",\n",
    "        \"part\": \"whole\"\n",
    "       },\n",
    "       \"id\": \"slide_region_marker\"\n",
    "      },\n",
    "      \"slide_region_output\": {\n",
    "       \"attrs\": {\n",
    "        \"height\": 0.2,\n",
    "        \"width\": 0.6,\n",
    "        \"x\": 0.3,\n",
    "        \"y\": 0.65\n",
    "       },\n",
    "       \"content\": {\n",
    "        \"cell\": \"cell_content_skippingcells\",\n",
    "        \"part\": \"outputs\"\n",
    "       },\n",
    "       \"id\": \"slide_region_output\"\n",
    "      }\n",
    "     }\n",
    "    },\n",
    "    \"slide_notebookcontent_2\": \n",
    "    {\n",
    "     \"id\": \"slide_notebookcontent_2\",\n",
    "     \"prev\": \"slide_notebookcontent\",\n",
    "     \"regions\": {\n",
    "      \"slide_element_hrule_1\": {\n",
    "       \"attrs\": {\n",
    "        \"height\": 0.1,\n",
    "        \"width\": 0.8,\n",
    "        \"x\": 0.1,\n",
    "        \"y\": 0.18544726301735648\n",
    "       },\n",
    "       \"content\": {\n",
    "        \"cell\": \"element_hrule\",\n",
    "        \"part\": \"whole\"\n",
    "       },\n",
    "       \"id\": \"slide_element_hrule_1\"\n",
    "      },\n",
    "      \"slide_element_hrule_3\": {\n",
    "       \"attrs\": {\n",
    "        \"height\": 0.1,\n",
    "        \"width\": 0.8,\n",
    "        \"x\": 0.1,\n",
    "        \"y\": 0.85\n",
    "       },\n",
    "       \"content\": {\n",
    "        \"cell\": \"element_hrule3\",\n",
    "        \"part\": \"whole\"\n",
    "       },\n",
    "       \"id\": \"slide_element_hrule_2\"\n",
    "      },\n",
    "      \"slide_element_title\": {\n",
    "       \"attrs\": {\n",
    "        \"height\": 0.11428571428571424,\n",
    "        \"width\": 0.8,\n",
    "        \"x\": 0.1,\n",
    "        \"y\": 0.05\n",
    "       },\n",
    "       \"content\": {\n",
    "        \"cell\": \"cell_title_skippingcells\",\n",
    "        \"part\": \"whole\"\n",
    "       },\n",
    "       \"id\": \"slide_element_title\"\n",
    "      },\n",
    "      \"slide_footer_authors\": {\n",
    "       \"attrs\": {\n",
    "        \"height\": 0.05,\n",
    "        \"width\": 0.4,\n",
    "        \"x\": 0.5,\n",
    "        \"y\": 0.9\n",
    "       },\n",
    "       \"content\": {\n",
    "        \"cell\": \"footer_authors\",\n",
    "        \"part\": \"whole\"\n",
    "       },\n",
    "       \"id\": \"slide_footer_authors\"\n",
    "      },\n",
    "      \"slide_footer_title\": {\n",
    "       \"attrs\": {\n",
    "        \"height\": 0.05,\n",
    "        \"width\": 0.4,\n",
    "        \"x\": 0.1,\n",
    "        \"y\": 0.9\n",
    "       },\n",
    "       \"content\": {\n",
    "        \"cell\": \"footer_title\",\n",
    "        \"part\": \"whole\"\n",
    "       },\n",
    "       \"id\": \"slide_footer_title\"\n",
    "      },\n",
    "      \"slide_label_test\": {\n",
    "       \"attrs\": {\n",
    "        \"height\": 0.1,\n",
    "        \"width\": 0.2,\n",
    "        \"x\": 0.1,\n",
    "        \"y\": 0.25\n",
    "       },\n",
    "       \"content\": {\n",
    "        \"cell\": \"label_test\",\n",
    "        \"part\": \"whole\"\n",
    "       },\n",
    "       \"id\": \"slide_label_test\"\n",
    "      },\n",
    "      \"slide_label_testoutput\": {\n",
    "       \"attrs\": {\n",
    "        \"height\": 0.06568758344459286,\n",
    "        \"width\": 0.4,\n",
    "        \"x\": 0.1,\n",
    "        \"y\": 0.32\n",
    "       },\n",
    "       \"content\": {\n",
    "        \"cell\": \"label_testoutput\",\n",
    "        \"part\": \"whole\"\n",
    "       },\n",
    "       \"id\": \"slide_label_testoutput\"\n",
    "      },\n",
    "      \"slide_region_test\": {\n",
    "       \"attrs\": {\n",
    "        \"height\": 0.1,\n",
    "        \"width\": 0.6,\n",
    "        \"x\": 0.3,\n",
    "        \"y\": 0.25\n",
    "       },\n",
    "       \"content\": {\n",
    "        \"cell\": \"cell_test_skippingcells\",\n",
    "        \"part\": \"source\"\n",
    "       },\n",
    "       \"id\": \"slide_region_test\"\n",
    "      },\n",
    "      \"slide_region_testoutput\": {\n",
    "       \"attrs\": {\n",
    "        \"height\": 0.45,\n",
    "        \"width\": 0.96,\n",
    "        \"x\": 0.02,\n",
    "        \"y\": 0.4\n",
    "       },\n",
    "       \"content\": {\n",
    "        \"cell\": \"cell_test_skippingcells\",\n",
    "        \"part\": \"outputs\"\n",
    "       },\n",
    "       \"id\": \"slide_region_testoutput\"\n",
    "      }\n",
    "     }\n",
    "    }}'''"
   ]
  },
  {
   "cell_type": "code",
   "execution_count": 142,
   "metadata": {
    "collapsed": true
   },
   "outputs": [],
   "source": [
    "slide_titleandbox = '''{\"slide_nbvalcontents\": {\n",
    "     \"id\": \"ceeda0f9-f613-4936-9dba-d5a4a40c55fe\",\n",
    "     \"prev\": \"slide_notebookcontent_2\",\n",
    "     \"regions\": {\n",
    "      \"16967db8-b9ec-4e33-a51a-4503de108b9e\": {\n",
    "       \"attrs\": {\n",
    "        \"height\": 0.5983978638184246,\n",
    "        \"width\": 0.6460113484646195,\n",
    "        \"x\": 0.0943090787716956,\n",
    "        \"y\": 0.30026702269692923\n",
    "       },\n",
    "       \"content\": {\n",
    "        \"cell\": \"b121b1d6-a29d-4e9c-bddd-76e20ed5dad2\",\n",
    "        \"part\": \"whole\"\n",
    "       },\n",
    "       \"id\": \"16967db8-b9ec-4e33-a51a-4503de108b9e\"\n",
    "      },\n",
    "      \"63e01bee-7688-4c5a-a49a-b23a38a19b27\": {\n",
    "       \"attrs\": {\n",
    "        \"height\": 0.07369826435247002,\n",
    "        \"width\": 0.8300400534045393,\n",
    "        \"x\": 0.0909879839786382,\n",
    "        \"y\": 0.1974632843791722\n",
    "       },\n",
    "       \"content\": {\n",
    "        \"cell\": \"element_hrule\",\n",
    "        \"part\": \"whole\"\n",
    "       },\n",
    "       \"id\": \"63e01bee-7688-4c5a-a49a-b23a38a19b27\"\n",
    "      },\n",
    "      \"68bc5227-6d43-407d-8f0e-d0e75ee5b149\": {\n",
    "       \"attrs\": {\n",
    "        \"height\": 0.11108144192256345,\n",
    "        \"width\": 0.6415387182910547,\n",
    "        \"x\": 0.08873497997329774,\n",
    "        \"y\": 0.06929238985313753\n",
    "       },\n",
    "       \"content\": {\n",
    "        \"cell\": \"notebook_title\",\n",
    "        \"part\": \"whole\"\n",
    "       },\n",
    "       \"id\": \"68bc5227-6d43-407d-8f0e-d0e75ee5b149\"\n",
    "      },\n",
    "      \"slide_footer_authors\": {\n",
    "       \"attrs\": {\n",
    "        \"height\": 0.05,\n",
    "        \"width\": 0.4,\n",
    "        \"x\": 0.5,\n",
    "        \"y\": 0.9\n",
    "       },\n",
    "       \"content\": {\n",
    "        \"cell\": \"footer_authors\",\n",
    "        \"part\": \"whole\"\n",
    "       },\n",
    "       \"id\": \"slide_footer_authors\"\n",
    "      },\n",
    "      \"slide_footer_title\": {\n",
    "       \"attrs\": {\n",
    "        \"height\": 0.05,\n",
    "        \"width\": 0.4,\n",
    "        \"x\": 0.1,\n",
    "        \"y\": 0.9\n",
    "       },\n",
    "       \"content\": {\n",
    "        \"cell\": \"footer_title\",\n",
    "        \"part\": \"whole\"\n",
    "       },\n",
    "       \"id\": \"slide_footer_title\"\n",
    "      }\n",
    "     }\n",
    "    }}'''"
   ]
  },
  {
   "cell_type": "code",
   "execution_count": 35,
   "metadata": {
    "collapsed": true
   },
   "outputs": [],
   "source": [
    "import json"
   ]
  },
  {
   "cell_type": "code",
   "execution_count": 202,
   "metadata": {
    "collapsed": true
   },
   "outputs": [],
   "source": [
    "def copy_slide(slides_dict, template, newslide_name, order_position):\n",
    "    # Check slide to copy exists\n",
    "    assert template in slides.keys()\n",
    "    \n",
    "    # Add the new slide in the dictionary structure and rename its ID field\n",
    "    slides_dict[newslide_name] = slides_dict[template]\n",
    "    slides_dict[newslide_name]['id'] = newslidename\n",
    "    \n",
    "    # Put the new slides in the correct order\n",
    "    order = get_slideorder(slides_dict)\n",
    "    order.insert(order_position, newslide_name)\n",
    "    set_slideorder(slides_dict)"
   ]
  },
  {
   "cell_type": "code",
   "execution_count": 223,
   "metadata": {
    "collapsed": true
   },
   "outputs": [],
   "source": [
    "def print_celllinks(slides_dict, slide_name):\n",
    "    celllinks = []\n",
    "    for region in slides_dict[slide_name]['regions'].keys():\n",
    "        celllinks.append(slides_dict[slide_name]['regions'][region]['content']['cell'] + \" - \" +\n",
    "             slides_dict[slide_name]['regions'][region]['content']['part'])\n",
    "        \n",
    "    celllinks.sort()\n",
    "    print(\"\\n\".join(celllinks))\n",
    "        \n",
    "def print_cells(notebook_dict):\n",
    "    for cell in notebook_dict['cells']:\n",
    "        try:\n",
    "            print(cell['metadata']['nbpresent']['id'])\n",
    "        except KeyError:\n",
    "            print(\"No label\")"
   ]
  },
  {
   "cell_type": "code",
   "execution_count": 199,
   "metadata": {
    "collapsed": true
   },
   "outputs": [],
   "source": [
    "def set_slideorder(slides_dict, slide_order_list):\n",
    "    slides_dict[slide_order_list[0]]['prev'] = r\"null\"\n",
    "    \n",
    "    for i in range(1, len(slide_order_list)):\n",
    "        slides_dict[slide_order_list[i]]['prev'] = slide_order_list[i - 1]\n",
    "        \n",
    "        \n",
    "def get_slideorder(slides_dict):\n",
    "    \n",
    "    # Find first slide\n",
    "    slide_order_list = [slideorder_findfirst(slides_dict)]\n",
    "    \n",
    "    # Find subsequent slides\n",
    "    ret_val = 0\n",
    "    while ret_val != 1:\n",
    "        ret_val = slideorder_findnext(slides_dict, slide_order_list[-1])\n",
    "        if ret_val != 1:\n",
    "            slide_order_list.append(ret_val)\n",
    "        \n",
    "    return slide_order_list\n",
    "\n",
    "\n",
    "def slideorder_findnext(slides_dict, slide_prev):\n",
    "    for slide in slides_dict.keys():\n",
    "        # print(slides_dict[slide]['prev'])\n",
    "        if slides_dict[slide]['prev'] == slide_prev:\n",
    "            return slide\n",
    "    \n",
    "    return 1\n",
    "        \n",
    "    \n",
    "def slideorder_findfirst(slides_dict):\n",
    "    for slide in slides_dict.keys():\n",
    "        # print(slides_dict[slide]['prev'])\n",
    "        if slides_dict[slide]['prev'] not in slides_dict.keys():\n",
    "            return slide"
   ]
  },
  {
   "cell_type": "code",
   "execution_count": 195,
   "metadata": {
    "collapsed": true
   },
   "outputs": [],
   "source": [
    "with open(\"Teaching_Material/Example_Notebooks/nbval_example_21-Copy1.ipynb\") as f:\n",
    "    notebook_example21_json = json.load(f)"
   ]
  },
  {
   "cell_type": "code",
   "execution_count": 162,
   "metadata": {
    "collapsed": false
   },
   "outputs": [],
   "source": [
    "with open(\"Teaching_Material/Example_Notebooks/nbval_example_21-Copy1.ipynb\", \"wt\") as f:    \n",
    "    json.dump(notebook_example21_json, f)"
   ]
  },
  {
   "cell_type": "code",
   "execution_count": 150,
   "metadata": {
    "collapsed": false
   },
   "outputs": [
    {
     "data": {
      "text/plain": [
       "dict_keys(['cells', 'nbformat', 'metadata', 'nbformat_minor'])"
      ]
     },
     "execution_count": 150,
     "metadata": {},
     "output_type": "execute_result"
    }
   ],
   "source": [
    "notebook_example21_json.keys()"
   ]
  },
  {
   "cell_type": "code",
   "execution_count": 71,
   "metadata": {
    "collapsed": false
   },
   "outputs": [
    {
     "data": {
      "text/plain": [
       "dict_keys(['id', 'prev', 'regions'])"
      ]
     },
     "execution_count": 71,
     "metadata": {},
     "output_type": "execute_result"
    }
   ],
   "source": [
    "slides['slide_notebookcontent'].keys()"
   ]
  },
  {
   "cell_type": "code",
   "execution_count": 79,
   "metadata": {
    "collapsed": false
   },
   "outputs": [
    {
     "data": {
      "text/plain": [
       "dict_keys(['slide_element_hrule_3', 'slide_label_input', 'slide_element_hrule_2', 'slide_label_marker', 'slide_footer_title', 'slide_region_input', 'slide_footer_authors', 'slide_element_title', 'slide_region_output', 'slide_element_hrule_1', 'slide_label_output', 'slide_region_marker'])"
      ]
     },
     "execution_count": 79,
     "metadata": {},
     "output_type": "execute_result"
    }
   ],
   "source": [
    "slides['slide_notebookcontent']['regions'].keys()"
   ]
  },
  {
   "cell_type": "markdown",
   "metadata": {},
   "source": [
    "## load slide template from other notebook"
   ]
  },
  {
   "cell_type": "code",
   "execution_count": 230,
   "metadata": {
    "collapsed": true
   },
   "outputs": [],
   "source": [
    "with open(\"/Users/jamesbailey/Documents/PhD_First_Year/ACM2/Coursework_Lecture/nbval_example_21-Copy1.ipynb\") as f:\n",
    "    notebook_example21_json = json.load(f)"
   ]
  },
  {
   "cell_type": "code",
   "execution_count": 231,
   "metadata": {
    "collapsed": true
   },
   "outputs": [],
   "source": [
    "template_slides = notebook_example21_json['metadata']['nbpresent']['slides']"
   ]
  },
  {
   "cell_type": "code",
   "execution_count": 239,
   "metadata": {
    "collapsed": false
   },
   "outputs": [
    {
     "data": {
      "text/plain": [
       "dict_keys(['slide_notebookcontent_2', 'templateslide_titleandbox', 'slide_notebook_content_copy', 'slide_nbvalcontents', 'templateslide_example_content', 'slide_notebookcontent', 'templateslide_example_test'])"
      ]
     },
     "execution_count": 239,
     "metadata": {},
     "output_type": "execute_result"
    }
   ],
   "source": [
    "template_slides.keys()"
   ]
  },
  {
   "cell_type": "code",
   "execution_count": 234,
   "metadata": {
    "collapsed": false
   },
   "outputs": [],
   "source": [
    "template_slides['templateslide_titleandbox'] = template_slides['slide_nbvalcontents']\n",
    "template_slides['templateslide_titleandbox']['id'] = 'templateslide_titleandbox'"
   ]
  },
  {
   "cell_type": "code",
   "execution_count": 237,
   "metadata": {
    "collapsed": false
   },
   "outputs": [],
   "source": [
    "newname = 'templateslide_example_content'\n",
    "template_slides[newname] = template_slides['slide_notebookcontent']\n",
    "template_slides[newname]['id'] = newname"
   ]
  },
  {
   "cell_type": "code",
   "execution_count": 238,
   "metadata": {
    "collapsed": false
   },
   "outputs": [],
   "source": [
    "newname = 'templateslide_example_test'\n",
    "template_slides[newname] = template_slides['slide_notebookcontent_2']\n",
    "template_slides[newname]['id'] = newname"
   ]
  },
  {
   "cell_type": "markdown",
   "metadata": {},
   "source": [
    "## load notebook"
   ]
  },
  {
   "cell_type": "code",
   "execution_count": 272,
   "metadata": {
    "collapsed": true
   },
   "outputs": [],
   "source": [
    "with open(\"JupyterNotebooks_presentation.ipynb\") as f:\n",
    "    notebook_presentation = json.load(f)"
   ]
  },
  {
   "cell_type": "markdown",
   "metadata": {},
   "source": [
    "## Create set of slides to go in notebook"
   ]
  },
  {
   "cell_type": "code",
   "execution_count": 273,
   "metadata": {
    "collapsed": true
   },
   "outputs": [],
   "source": [
    "slides = {}"
   ]
  },
  {
   "cell_type": "markdown",
   "metadata": {},
   "source": [
    "### Contents slide"
   ]
  },
  {
   "cell_type": "code",
   "execution_count": 274,
   "metadata": {
    "collapsed": true
   },
   "outputs": [],
   "source": [
    "slides['contents'] = template_slides['templateslide_titleandbox']"
   ]
  },
  {
   "cell_type": "code",
   "execution_count": 275,
   "metadata": {
    "collapsed": true
   },
   "outputs": [],
   "source": [
    "slides['contents']['id'] = \"contents\""
   ]
  },
  {
   "cell_type": "code",
   "execution_count": 276,
   "metadata": {
    "collapsed": true
   },
   "outputs": [],
   "source": [
    "slides['contents']['regions']['slide_content']['content']['cell'] = 'cell_contents'\n",
    "slides['contents']['regions']['slide_content']['content']['part'] = 'whole'\n",
    "\n",
    "slides['contents']['regions']['slide_element_title']['content']['cell'] = 'cell_contents_title'\n",
    "slides['contents']['regions']['slide_element_title']['content']['part'] = 'whole'\n",
    "\n",
    "slide_order = ['contents']\n",
    "set_slideorder(slides, slide_order)"
   ]
  },
  {
   "cell_type": "markdown",
   "metadata": {},
   "source": [
    "## Slide - Introduction to Jupyter Notebooks"
   ]
  },
  {
   "cell_type": "code",
   "execution_count": 277,
   "metadata": {
    "collapsed": false
   },
   "outputs": [],
   "source": [
    "new_slide = \"jupyterintro\"\n",
    "\n",
    "slides[new_slide] = template_slides['templateslide_titleandbox']\n",
    "slides[new_slide]['id'] = new_slide\n",
    "\n",
    "slides[new_slide]['regions']['slide_content']['content']['cell'] = 'cell_content_intro'\n",
    "slides[new_slide]['regions']['slide_content']['content']['part'] = 'whole'\n",
    "\n",
    "slides[new_slide]['regions']['slide_element_title']['content']['cell'] = 'cell_title_intro'\n",
    "slides[new_slide]['regions']['slide_element_title']['content']['part'] = 'whole'\n",
    "\n",
    "\n",
    "\n",
    "slide_order.append(new_slide)\n",
    "set_slideorder(slides, slide_order)"
   ]
  },
  {
   "cell_type": "markdown",
   "metadata": {},
   "source": [
    "## Load theme"
   ]
  },
  {
   "cell_type": "code",
   "execution_count": 278,
   "metadata": {
    "collapsed": false
   },
   "outputs": [
    {
     "data": {
      "text/plain": [
       "dict_keys(['themes'])"
      ]
     },
     "execution_count": 278,
     "metadata": {},
     "output_type": "execute_result"
    }
   ],
   "source": [
    "theme = json.loads(themes_json)\n",
    "theme.keys()"
   ]
  },
  {
   "cell_type": "markdown",
   "metadata": {},
   "source": [
    "## Output json"
   ]
  },
  {
   "cell_type": "code",
   "execution_count": 279,
   "metadata": {
    "collapsed": true
   },
   "outputs": [],
   "source": [
    "notebook_presentation['metadata']['nbpresent']['slides'] = slides\n",
    "notebook_presentation['metadata']['nbpresent']['themes'] = theme['themes']\n",
    "\n",
    "with open(\"JupyterNotebooks_forpresentation_formatted.ipynb\", \"wt\") as f:    \n",
    "        json.dump(notebook_presentation, f)"
   ]
  },
  {
   "cell_type": "code",
   "execution_count": null,
   "metadata": {
    "collapsed": true
   },
   "outputs": [],
   "source": []
  }
 ],
 "metadata": {
  "anaconda-cloud": {},
  "kernelspec": {
   "display_name": "Python [default]",
   "language": "python",
   "name": "python3"
  },
  "language_info": {
   "codemirror_mode": {
    "name": "ipython",
    "version": 3
   },
   "file_extension": ".py",
   "mimetype": "text/x-python",
   "name": "python",
   "nbconvert_exporter": "python",
   "pygments_lexer": "ipython3",
   "version": "3.5.2"
  }
 },
 "nbformat": 4,
 "nbformat_minor": 2
}
