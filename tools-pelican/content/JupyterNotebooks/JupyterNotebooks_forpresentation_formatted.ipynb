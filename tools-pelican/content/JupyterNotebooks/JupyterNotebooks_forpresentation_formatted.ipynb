{
 "cells": [
  {
   "cell_type": "markdown",
   "metadata": {
    "nbpresent": {
     "id": "cell_title_maintitle"
    }
   },
   "source": [
    "# Jupyter Notebook"
   ]
  },
  {
   "cell_type": "markdown",
   "metadata": {
    "nbpresent": {
     "id": "195ba9e6-8edb-48d4-9495-8abc2ea9e7b8"
    }
   },
   "source": [
    "Material created by:"
   ]
  },
  {
   "cell_type": "markdown",
   "metadata": {
    "nbpresent": {
     "id": "cell_authors_maintitle"
    }
   },
   "source": [
    "- James Bailey\n",
    "- Marian Daogaru"
   ]
  },
  {
   "cell_type": "markdown",
   "metadata": {
    "nbpresent": {
     "id": "cell_contents"
    }
   },
   "source": [
    "In this workshop we will cover:\n",
    "- Introduction to Jupyter Notebooks\n",
    "- nbconvert\n",
    "- nbdime\n",
    "- nbval"
   ]
  },
  {
   "cell_type": "markdown",
   "metadata": {
    "nbpresent": {
     "id": "cell_contents_title"
    }
   },
   "source": [
    "## Contents"
   ]
  },
  {
   "cell_type": "markdown",
   "metadata": {
    "nbpresent": {
     "id": "e10e4ccd-5333-44ee-9f69-13a0c52105b5"
    }
   },
   "source": [
    "## 1. Preparation"
   ]
  },
  {
   "cell_type": "markdown",
   "metadata": {
    "nbpresent": {
     "id": "ff295c00-9f1c-4837-9f07-4c5be91727aa"
    }
   },
   "source": [
    "### 1.1 Pre-requisites\n",
    "- Jupyter Notebook\n",
    "- nbconvert\n",
    "- nbdime\n",
    "- nbval"
   ]
  },
  {
   "cell_type": "markdown",
   "metadata": {},
   "source": [
    "\n",
    "**!!! The following installation steps only apply to UNIX environments. Please use appropriate commands for other environments.**\n",
    "\n",
    "**However, pip should work in all environments.**"
   ]
  },
  {
   "cell_type": "markdown",
   "metadata": {
    "nbpresent": {
     "id": "272196d0-b361-413e-9539-d1b737178ed8"
    }
   },
   "source": [
    "### 1.2 Installation Instructions\n",
    "If you already have the required packages installed or are using the pre-installed virtual machine you can skip these steps.\n",
    "\n",
    "#### Jupyter Notebook\n",
    "- **Anaconda** - Jupyter Notebook comes as part of the Anaconda distribution\n",
    "- **pip** - there is a metapackage called Jupyter which will install all of the necessary Jupyter packages\n",
    "      pip install jupyter\n",
    "  \n",
    "#### nbval\n",
    "- **pip** - nbval can be installed through pip:\n",
    "      pip install nbval"
   ]
  },
  {
   "cell_type": "markdown",
   "metadata": {},
   "source": [
    "#### nbconvert "
   ]
  },
  {
   "cell_type": "markdown",
   "metadata": {},
   "source": [
    " - in command line run:\n",
    "  - `pip install nbconvert`"
   ]
  },
  {
   "cell_type": "markdown",
   "metadata": {},
   "source": [
    "#### nbdime"
   ]
  },
  {
   "cell_type": "markdown",
   "metadata": {},
   "source": [
    "- run the following lines in command line. \n",
    "       \n",
    "      pip install --upgrade nbdime"
   ]
  },
  {
   "cell_type": "markdown",
   "metadata": {
    "nbpresent": {
     "id": "70f0ea9d-8726-4cfb-94b5-e9e3caafd972"
    }
   },
   "source": [
    "### 1.3 Checking you're ready\n",
    "The following steps allow you to check that you have Jupyter Notebook installed correctly and have the additional packages we are going to show you.\n",
    "\n",
    "#### Opening Jupyter Notebook\n",
    "In a terminal window:\n",
    "     \n",
    "    jupyter notebook\n",
    " \n",
    "This should open an instance of Jupyter Notebook which usually open automatically in your browser. The Jupyter Notebook instance has the default address `http://localhost:8888/` so by typing this into your browser you should also be able to access a running Jupyter Notebook.\n"
   ]
  },
  {
   "cell_type": "markdown",
   "metadata": {
    "nbpresent": {
     "id": "b792abcd-847b-4688-8f3f-6ab5ce65d1d8"
    }
   },
   "source": [
    "---"
   ]
  },
  {
   "cell_type": "markdown",
   "metadata": {
    "nbpresent": {
     "id": "cell_title_intro"
    }
   },
   "source": [
    "## Introduction to Jupyter Notebook"
   ]
  },
  {
   "cell_type": "markdown",
   "metadata": {},
   "source": [
    "The following sections are designed as an introduction to Jupyter Notebooks. If you are already familiar with Jupyter Notebook then you can skip this section."
   ]
  },
  {
   "cell_type": "markdown",
   "metadata": {
    "nbpresent": {
     "id": "cell_content_intro"
    }
   },
   "source": [
    "- opening Jupyter Notebook\n",
    "- creating a new notebook\n",
    "- renaming a notebook\n",
    "- executing code\n",
    "- executing Markdown"
   ]
  },
  {
   "cell_type": "markdown",
   "metadata": {
    "nbpresent": {
     "id": "778d065e-0fb5-461c-bdb6-400f90e4a0d1"
    }
   },
   "source": [
    "### 2.1 Opening Jupyter Notebook"
   ]
  },
  {
   "cell_type": "markdown",
   "metadata": {
    "collapsed": true,
    "nbpresent": {
     "id": "28c5a52c-21ae-4ed6-bffc-3012a957f018"
    }
   },
   "source": [
    "To start Jupyter Notebook, in a terminal window type:\n",
    "\n",
    "    jupyter notebook\n",
    " \n",
    "This will open a menu containing the files currently in that directory. "
   ]
  },
  {
   "cell_type": "markdown",
   "metadata": {
    "nbpresent": {
     "id": "9d7c7c17-5a0d-4193-89ba-1e8ee5d232fa"
    }
   },
   "source": [
    "### 2.2 Creating a new Notebook\n",
    "To create a new Notebook go to the top right and press new, selecting *Python* from the drop down list. This will open a new Notebook. "
   ]
  },
  {
   "cell_type": "markdown",
   "metadata": {
    "collapsed": true,
    "nbpresent": {
     "id": "07072df6-ee6c-4fd4-9447-29cc6483314a"
    }
   },
   "source": [
    "### 2.3 Renaming a Notebook\n",
    "\n",
    "You can rename the Notebook by clicking where it currently says *Untitled* and entering your name for the file."
   ]
  },
  {
   "cell_type": "markdown",
   "metadata": {
    "nbpresent": {
     "id": "433d14bd-e35a-4f88-b97e-f036f9385d26"
    }
   },
   "source": [
    "### 2.4 Executing Code"
   ]
  },
  {
   "cell_type": "markdown",
   "metadata": {
    "nbpresent": {
     "id": "c45a35e3-77ef-40a9-b0d1-f72cb6df706b"
    }
   },
   "source": [
    "From the toolbar click the plus to add a new cell. By default this a code cell and we can write code in this cell to be executed. Try typing:\n",
    "\n",
    "    print(\"Hello World\")\n",
    "\n",
    "and click `Ctrl+Enter`. The cell below is setup for you to try this out."
   ]
  },
  {
   "cell_type": "code",
   "execution_count": null,
   "metadata": {
    "collapsed": true,
    "nbpresent": {
     "id": "dad300e5-218b-4c47-bfa4-08206a02cc83"
    }
   },
   "outputs": [],
   "source": [
    "# Use this cell to print \"Hello World\""
   ]
  },
  {
   "cell_type": "markdown",
   "metadata": {
    "nbpresent": {
     "id": "63276b6d-12f0-4062-828a-e9115ee58d7b"
    }
   },
   "source": [
    "#### Executing Markdown\n",
    "\n",
    "The type of content in a cell can be changed using the toolbar at the top. In a code cell click `code` in the toolbar and select `Markdown`. This makes the cell a Markdown cell and we can enter text which when executed is displayed to the screen. The cell below is setup for you to try writing some text and executing."
   ]
  },
  {
   "cell_type": "markdown",
   "metadata": {
    "nbpresent": {
     "id": "03e9a06c-8e95-4bd2-a6e0-6598b4224a29"
    }
   },
   "source": [
    "Try writing some text in here. "
   ]
  },
  {
   "cell_type": "markdown",
   "metadata": {
    "nbpresent": {
     "id": "b072665b-78ad-425c-b879-663218ebb411"
    }
   },
   "source": [
    "Hopefully now you complete basic tasks in Jupyter Notebook like writing and executing code. The next sections present some of the additional tools available for Jupyer Notebook."
   ]
  },
  {
   "cell_type": "markdown",
   "metadata": {
    "nbpresent": {
     "id": "cb75d3e3-01c4-4f81-9238-6e3b73ec4299"
    }
   },
   "source": [
    "---"
   ]
  },
  {
   "cell_type": "markdown",
   "metadata": {
    "nbpresent": {
     "id": "cell_title_transition_nbconvert"
    }
   },
   "source": [
    "# nbconvert"
   ]
  },
  {
   "cell_type": "markdown",
   "metadata": {},
   "source": [
    "In this section, we will explore the capabilities of **nbconvert**. This section will use several material examples located in *Example_notebook*."
   ]
  },
  {
   "cell_type": "markdown",
   "metadata": {
    "nbpresent": {
     "id": "cell_title_functionality_nbconvert"
    }
   },
   "source": [
    "## Functionality"
   ]
  },
  {
   "cell_type": "markdown",
   "metadata": {
    "nbpresent": {
     "id": "cell_content_functionality_nbconvert"
    }
   },
   "source": [
    "- converts Jupyter Notebooks to different formats\n",
    "\n"
   ]
  },
  {
   "cell_type": "markdown",
   "metadata": {
    "nbpresent": {
     "id": "cell_content_functionality_nbconvert2"
    }
   },
   "source": [
    "**nbconvert** is a tool for the Jupyter Notebook that enables the user to use export their notebooks in different formats. The default formats are:\n",
    " - python (.py)\n",
    " - HTML (.html)\n",
    " - markdown (.md)\n",
    " - restructured text (.rst)\n",
    " - PDF (using LaTeX)"
   ]
  },
  {
   "cell_type": "markdown",
   "metadata": {
    "nbpresent": {
     "id": "cell_title_uses_nbconvert"
    }
   },
   "source": [
    "## Use cases"
   ]
  },
  {
   "cell_type": "markdown",
   "metadata": {
    "nbpresent": {
     "id": "cell_content_uses_nbconvert"
    }
   },
   "source": [
    " - portability"
   ]
  },
  {
   "cell_type": "markdown",
   "metadata": {},
   "source": [
    "Using **nbconvert**, a different range of formats can be presented. The initial coding and formating can be done in a Jupyter Notebook. The majority of work unit will not have Jupyter installed. However, they will have at least one software that can open one of the formats presented above. In addition, sometimes it might be easier to code a large piece of code directly in a Python IDE or on remote machines, rather than the Notebook."
   ]
  },
  {
   "cell_type": "markdown",
   "metadata": {
    "nbpresent": {
     "id": "cell_title_using_nbconvert"
    }
   },
   "source": [
    "## Using nbconvert"
   ]
  },
  {
   "cell_type": "markdown",
   "metadata": {
    "nbpresent": {
     "id": "cell_content_using_nbconvert"
    }
   },
   "source": [
    "There are **two** main ways to use **nbconvert**: \n",
    " - directly from notebook\n",
    " - using command line. "
   ]
  },
  {
   "cell_type": "markdown",
   "metadata": {
    "nbpresent": {
     "id": "cell_title_nbconvert_notebook"
    }
   },
   "source": [
    "## nbconvert from notebook "
   ]
  },
  {
   "cell_type": "markdown",
   "metadata": {
    "nbpresent": {
     "id": "cell_content_nbconvert_notebook"
    }
   },
   "source": [
    "![Save from Notebook](Teaching_Material/img/save1.png)"
   ]
  },
  {
   "cell_type": "markdown",
   "metadata": {},
   "source": [
    "The picture above shows the format of a typical instalment of **nbconvert**, and what you should expect to see. "
   ]
  },
  {
   "cell_type": "markdown",
   "metadata": {
    "nbpresent": {
     "id": "cell_title_nbconvert_command"
    }
   },
   "source": [
    "## nbconvert from command line"
   ]
  },
  {
   "cell_type": "markdown",
   "metadata": {},
   "source": [
    "To run **nbconvert** in command line. The command uses `jupyter`:"
   ]
  },
  {
   "cell_type": "markdown",
   "metadata": {
    "nbpresent": {
     "id": "cell_content_nbconvert_command1"
    }
   },
   "source": [
    "**`jupyter nbconvert --to FORMAT --template=NAME notebook.ipynb`**\n",
    "    \n",
    "`--to FORMAT` argument represents the type of file you want. `FORMAT` takes the values:\n",
    " - python, html, latex, pdf, markdown, rst, slides\n",
    " \n",
    "Additional formats can be installed."
   ]
  },
  {
   "cell_type": "code",
   "execution_count": null,
   "metadata": {
    "collapsed": false,
    "nbpresent": {
     "id": "cell_content_nbconvert_command2"
    }
   },
   "outputs": [],
   "source": [
    "!jupyter nbconvert --to html JupyterNotebooks_forpresentation_formatted.ipynb"
   ]
  },
  {
   "cell_type": "markdown",
   "metadata": {
    "nbpresent": {
     "id": "cell_content_nbconvert_command3"
    }
   },
   "source": [
    "<img width=\"1000px\" height=\"1000px\" src=\"Teaching_material/img/save2.png\"> </img>"
   ]
  },
  {
   "cell_type": "markdown",
   "metadata": {
    "nbpresent": {
     "id": "cell_title_nbmerge"
    }
   },
   "source": [
    "## nbmerge / nbmerge-web"
   ]
  },
  {
   "cell_type": "markdown",
   "metadata": {
    "nbpresent": {
     "id": "cell_content_nbmerge_cmd"
    }
   },
   "source": [
    "Commands similar to **nbdiff**:\n",
    "\n",
    " - `nbmerge base.ipynb local.ipynb remote.ipynb -o OUTPUT.ipynb`\n",
    " \n",
    "**or**\n",
    " - `nbdime merge-web base.ipynb local.ipynb remote.ipynb`"
   ]
  },
  {
   "cell_type": "code",
   "execution_count": null,
   "metadata": {
    "collapsed": false,
    "nbpresent": {
     "id": "cell_content_nbmerge_cmd1"
    }
   },
   "outputs": [],
   "source": [
    "!nbmerge Teaching_material/Class_examples/nbdime_ce_1.ipynb Teaching_material/Class_examples/nbdime_ce_2.ipynb Teaching_material/Class_examples/nbdime_ce_3.ipynb -o Teaching_material/Class_examples/nbdime_ce_4.ipynb"
   ]
  },
  {
   "cell_type": "code",
   "execution_count": null,
   "metadata": {
    "collapsed": false,
    "nbpresent": {
     "id": "cell_content_nbmerge_cmd2"
    }
   },
   "outputs": [],
   "source": [
    "!nbmerge-web Teaching_material/Class_examples/nbdime_ce_1.ipynb Teaching_material/Class_examples/nbdime_ce_2.ipynb Teaching_material/Class_examples/nbdime_ce_3.ipynb"
   ]
  },
  {
   "cell_type": "markdown",
   "metadata": {
    "nbpresent": {
     "id": "cell_content_nbmerge_pic2"
    }
   },
   "source": [
    "![nbmerge](Teaching_material/img/nbmerge.png)"
   ]
  },
  {
   "cell_type": "markdown",
   "metadata": {
    "nbpresent": {
     "id": "20874dcf-816f-4e04-ad75-35d3d894cc4b"
    }
   },
   "source": [
    "---"
   ]
  },
  {
   "cell_type": "markdown",
   "metadata": {
    "nbpresent": {
     "id": "cell_title_transition_nbdime"
    }
   },
   "source": [
    "# nbdime"
   ]
  },
  {
   "cell_type": "markdown",
   "metadata": {},
   "source": [
    "In this section, **nbdime** shall be presented. In addition, examples can be found in the *Example_notebooks* folder. "
   ]
  },
  {
   "cell_type": "markdown",
   "metadata": {
    "nbpresent": {
     "id": "cell_title_nbdime_func"
    }
   },
   "source": [
    "## Functionality"
   ]
  },
  {
   "cell_type": "markdown",
   "metadata": {
    "nbpresent": {
     "id": "cell_content_nbdime_func"
    }
   },
   "source": [
    " - diffing between 2 notebooks\n",
    " - merging of 3 notebooks"
   ]
  },
  {
   "cell_type": "markdown",
   "metadata": {
    "nbpresent": {
     "id": "cell_title_nbdime_uses"
    }
   },
   "source": [
    "## Use cases"
   ]
  },
  {
   "cell_type": "markdown",
   "metadata": {
    "nbpresent": {
     "id": "cell_content_nbdime_uses"
    }
   },
   "source": [
    " - display the difference between versions of a notebook\n",
    " - allows the implementation of different functions to obtain the same results, and compare the methods\n",
    " - merge different versions of the same notebook\n",
    " - enables merging of different notebooks for expanding capabilities "
   ]
  },
  {
   "cell_type": "markdown",
   "metadata": {
    "nbpresent": {
     "id": "cell_title_nbdime_opmod"
    }
   },
   "source": [
    "## Operating modes"
   ]
  },
  {
   "cell_type": "markdown",
   "metadata": {
    "nbpresent": {
     "id": "cell_content_nbdime_opmod"
    }
   },
   "source": [
    " - terminal\n",
    " - browser"
   ]
  },
  {
   "cell_type": "markdown",
   "metadata": {
    "nbpresent": {
     "id": "cell_content_nbdime_opmod2"
    }
   },
   "source": [
    "**Terminal**\n",
    " - `nbdiff`\n",
    " - `nbmerge`\n",
    " \n",
    "**Browser**\n",
    " - `nbdiff-web`\n",
    " - `nbmerge-web`"
   ]
  },
  {
   "cell_type": "markdown",
   "metadata": {},
   "source": [
    "Command in terminal\n",
    " - `nbdiff`\n",
    " - `nbmerge`"
   ]
  },
  {
   "cell_type": "markdown",
   "metadata": {},
   "source": [
    "#### Browser"
   ]
  },
  {
   "cell_type": "markdown",
   "metadata": {},
   "source": [
    "Command in terminal: \n",
    " - `nbdiff-web`\n",
    " - `nbmerge-web`"
   ]
  },
  {
   "cell_type": "markdown",
   "metadata": {},
   "source": [
    "### Using nbdime"
   ]
  },
  {
   "cell_type": "markdown",
   "metadata": {
    "nbpresent": {
     "id": "cell_title_nbdiff"
    }
   },
   "source": [
    "## nbdiff / nbdiff-web"
   ]
  },
  {
   "cell_type": "markdown",
   "metadata": {
    "nbpresent": {
     "id": "cell_content_nbdiff"
    }
   },
   "source": [
    "The command has the structure: \n",
    "\n",
    " - `nbdiff Notebook1.ipynb Notebook2.ipynb`\n",
    " - `nbdiff-web Notebook1.ipynb Notebook2.ipynb`\n",
    " \n",
    "**or**\n",
    "\n",
    " - `nbdime diff Notebook1.ipynb Notebook2.ipynb`\n",
    " - `nbdime diff-web Notebook1.ipynb Notebook2.ipynb`"
   ]
  },
  {
   "cell_type": "code",
   "execution_count": null,
   "metadata": {
    "collapsed": false,
    "nbpresent": {
     "id": "cell_content_nbdiff_cmd_1"
    }
   },
   "outputs": [],
   "source": [
    "!nbdiff Teaching_material/Class_examples/nbdime_ce_1.ipynb Teaching_material/Class_examples/nbdime_ce_2.ipynb"
   ]
  },
  {
   "cell_type": "markdown",
   "metadata": {
    "nbpresent": {
     "id": "cell_content_nbdiff_pic1"
    }
   },
   "source": [
    "![nbdiff 1](Teaching_material/img/nbdiff_1.png)"
   ]
  },
  {
   "cell_type": "code",
   "execution_count": null,
   "metadata": {
    "collapsed": false,
    "nbpresent": {
     "id": "cell_content_nbdiff_cmd_2"
    }
   },
   "outputs": [],
   "source": [
    "!nbdiff-web Teaching_material/Class_examples/nbdime_ce_1.ipynb Teaching_material/Class_examples/nbdime_ce_2.ipynb"
   ]
  },
  {
   "cell_type": "markdown",
   "metadata": {
    "nbpresent": {
     "id": "cell_content_nbdiff_pic2"
    }
   },
   "source": [
    "![nbdiff web](Teaching_material/img/nbdiff_2.png)"
   ]
  },
  {
   "cell_type": "code",
   "execution_count": null,
   "metadata": {
    "collapsed": true
   },
   "outputs": [],
   "source": []
  },
  {
   "cell_type": "markdown",
   "metadata": {
    "nbpresent": {
     "id": "29e68a97-9445-4eb0-819c-ec48a6d1e0d6"
    }
   },
   "source": [
    "---"
   ]
  },
  {
   "cell_type": "markdown",
   "metadata": {
    "nbpresent": {
     "id": "cell_title_transition_nbval"
    }
   },
   "source": [
    "# nbval"
   ]
  },
  {
   "cell_type": "markdown",
   "metadata": {
    "nbpresent": {
     "id": "18d716af-655a-4955-894f-ae9893817d67"
    }
   },
   "source": [
    "The following guide you through the functionality, use cases and examples of the use of nbval. Example notebooks to demonstrate passing and failing tests are given in the folder 'Example_Notebooks'."
   ]
  },
  {
   "cell_type": "markdown",
   "metadata": {
    "nbpresent": {
     "id": "cell_title_func"
    }
   },
   "source": [
    "## Functionality"
   ]
  },
  {
   "cell_type": "markdown",
   "metadata": {
    "nbpresent": {
     "id": "cell_content_func"
    }
   },
   "source": [
    "- validation of outputs from notebook"
   ]
  },
  {
   "cell_type": "markdown",
   "metadata": {
    "nbpresent": {
     "id": "0606df9d-79d8-41b4-892a-e8f5eb72a9b7"
    }
   },
   "source": [
    "nbval is a plugin for pytest and validates the output of notebooks by executing the notebook and comparing to the stored outputs. The outputs from a notebook are saved with the inputs. nbval uses this in testing by executing each cell and comparing the output in the test to the stored output in the notebook. Any differences will cause a failing test."
   ]
  },
  {
   "cell_type": "markdown",
   "metadata": {
    "nbpresent": {
     "id": "cell_title_stages"
    }
   },
   "source": [
    "## Stages"
   ]
  },
  {
   "cell_type": "markdown",
   "metadata": {
    "nbpresent": {
     "id": "cell_content_stages"
    }
   },
   "source": [
    "- stored notebook output\n",
    "- test:\n",
    " - execute each cell\n",
    " - compare test output to stored output\n",
    " - differences cause failing test"
   ]
  },
  {
   "cell_type": "markdown",
   "metadata": {
    "nbpresent": {
     "id": "cell_title_cellexecution"
    }
   },
   "source": [
    "## Cell Execution"
   ]
  },
  {
   "cell_type": "markdown",
   "metadata": {
    "nbpresent": {
     "id": "cell_content_cellexecution"
    }
   },
   "source": [
    "Cell Execution:\n",
    "- manual execution as reference\n",
    "- execution during testing with nbval"
   ]
  },
  {
   "cell_type": "markdown",
   "metadata": {
    "nbpresent": {
     "id": "bca109cb-da35-4639-93e9-577d3a53b59f"
    }
   },
   "source": [
    "The stored output in the notebook is the reference used when the notebook is tested. Manual execution of the notebook updates the references used in testing. During testing with nbval the notebook's output are created separately to the output cells, allowing comparison to the previous output."
   ]
  },
  {
   "cell_type": "markdown",
   "metadata": {
    "nbpresent": {
     "id": "cell_title_usecase"
    }
   },
   "source": [
    "## Use Cases"
   ]
  },
  {
   "cell_type": "markdown",
   "metadata": {
    "nbpresent": {
     "id": "cell_content_usecase"
    }
   },
   "source": [
    "- validate documentation\n",
    " - [Documentation example](./Teaching_Material/Example_Notebooks/nbval_example_usecase.ipynb)"
   ]
  },
  {
   "cell_type": "markdown",
   "metadata": {
    "nbpresent": {
     "id": "d8ef7970-a1af-40ea-ba23-0b3e4b1f29c6"
    }
   },
   "source": [
    "Notebooks provide a useful way of creating documentation. By combining text and cell execution documentation can include description and examples of execution. nbval complements this by allowing the execution of the notebook to be validated. "
   ]
  },
  {
   "cell_type": "markdown",
   "metadata": {
    "nbpresent": {
     "id": "cell_title_modes"
    }
   },
   "source": [
    "## Modes\n"
   ]
  },
  {
   "cell_type": "markdown",
   "metadata": {
    "nbpresent": {
     "id": "cell_content_modes"
    }
   },
   "source": [
    "- `py.test --nbval`\n",
    "- `py.test --nbval-lax`"
   ]
  },
  {
   "cell_type": "markdown",
   "metadata": {
    "nbpresent": {
     "id": "7dbee590-b491-4007-9e9f-9f41a2b7421d"
    }
   },
   "source": [
    "#### Testing with `nbval`\n",
    "With this flag all cells in the notebook are tested by default with flags available to skip execution\n",
    "\n",
    "#### Testing with `nbval-lax`\n",
    "With this flag no cells in the notebook are tested by default and flags are available to cause their execution."
   ]
  },
  {
   "cell_type": "markdown",
   "metadata": {
    "nbpresent": {
     "id": "cell_title_basic_pass"
    }
   },
   "source": [
    "## Basic Cell Execution"
   ]
  },
  {
   "cell_type": "markdown",
   "metadata": {
    "nbpresent": {
     "id": "938944ea-3de4-4b43-8f5f-e80d894781b9"
    }
   },
   "source": [
    "- no output\n",
    "- deterministic output"
   ]
  },
  {
   "cell_type": "markdown",
   "metadata": {
    "nbpresent": {
     "id": "11afb3bc-f4bc-4442-b27b-cb8a55b21b57"
    }
   },
   "source": [
    "In the folder 'Example_Notebooks' is `nbval_example_11.ipynb`. This notebook contains a cell importing some modules to the notebook and a cell calculating a sum. We can run the tests and check that the notebook is behaving as expected:\n",
    "\n",
    "    py.test --nbval path/to/nbval_example_11.ipynb -v\n",
    "\n",
    "The second notebook is `nbval_example_12.ipynb`. Here we have changed the module being imported to one which does not exist and changed the result of the sum. The output cells are maintained as before to use as reference. When we execute the tests we get two failures:\n",
    "\n",
    "    py.test --nbval path/to/nbval_example_12.ipnb -v"
   ]
  },
  {
   "cell_type": "markdown",
   "metadata": {
    "nbpresent": {
     "id": "e855b898-b6a2-48b1-a2f4-5c99bf473f5c"
    }
   },
   "source": [
    "### 5.5 Adding Comments to Control Testing"
   ]
  },
  {
   "cell_type": "markdown",
   "metadata": {
    "nbpresent": {
     "id": "cell_title_skippingcells"
    }
   },
   "source": [
    "## Skipping Cells"
   ]
  },
  {
   "cell_type": "markdown",
   "metadata": {
    "nbpresent": {
     "id": "cell_marker_skippingcells"
    }
   },
   "source": [
    "`# NBVAL_SKIP`"
   ]
  },
  {
   "cell_type": "markdown",
   "metadata": {
    "nbpresent": {
     "id": "37ec4edd-4d94-4372-bbf9-afb71506357d"
    }
   },
   "source": [
    "Comments can be added to cells to control the execution of the tests. The example below allows us to skip the execution of a cell. The random number outputted would cause a failing test.\n",
    "\n",
    "    # NBVAL_SKIP\n",
    "    import random\n",
    "    random.random()\n",
    "\n",
    "Open `nbval_example_21.ipynb` and you will see a cell with the code above. When we execute the tests we get a skipped test.\n",
    "\n",
    "    py.test --nbval path/to/nbval_example_21.ipynb -v"
   ]
  },
  {
   "cell_type": "markdown",
   "metadata": {
    "nbpresent": {
     "id": "cell_title_ignore"
    }
   },
   "source": [
    "## Ignoring Output"
   ]
  },
  {
   "cell_type": "markdown",
   "metadata": {
    "nbpresent": {
     "id": "cell_marker_ignore"
    }
   },
   "source": [
    "`# NBVAL_IGNORE_OUTPUT`"
   ]
  },
  {
   "cell_type": "markdown",
   "metadata": {
    "nbpresent": {
     "id": "66d928ab-13f4-4c77-a37e-0aa1f579ee89"
    }
   },
   "source": [
    "For some cells we may want to execute the cell but we don't want the output to be checked. We can specify that we want the cell output ignored. Here we may want to use the value of the random number in another cell but do not want a failing test from the outputting of this number.\n",
    "\n",
    "    # NBVAL_IGNORE_OUTPUT\n",
    "    import random\n",
    "    start = random.random()\n",
    "    print(start)\n",
    "    \n",
    "Open `nbval_example_31.ipynb`; when we execute the tests we get a pass.\n",
    " \n",
    "    py.test --nbval path/to/nbval_example_31.ipynb -v\n",
    " "
   ]
  },
  {
   "cell_type": "markdown",
   "metadata": {
    "nbpresent": {
     "id": "cell_title_except"
    }
   },
   "source": [
    "## Checking Exceptions"
   ]
  },
  {
   "cell_type": "markdown",
   "metadata": {
    "nbpresent": {
     "id": "cell_marker_except"
    }
   },
   "source": [
    "`# NBVAL_RAISES_EXCEPTION`"
   ]
  },
  {
   "cell_type": "markdown",
   "metadata": {
    "nbpresent": {
     "id": "a8ed7559-b412-436e-afc3-9705f8c653d6"
    }
   },
   "source": [
    "If an exception occurs when a cell is run during testing then the test returns a fail explaining an exception was raised. We may expect that an exception is raised but want to check that the correct exception has been raised. We can do that by specifying that a cell raises an exception:\n",
    "    \n",
    "    # NBVAL_RAISES_EXCEPTION\n",
    "    raise(ValueError)\n",
    "    \n",
    "Open `nbval_example_41.ipynb`. We see a cell which will raise a `ValueError`, we can execute the tests to see what the result will be:\n",
    "\n",
    "    py.test --nbval path/to/nbval_example_41.ipynb -v\n",
    "    \n",
    "Open `nbval_example_42.ipynb`. We now see a cell which tells nbval that an exception is raised. nbval checks the exception raised in testing against the reference exception stored in the output.\n",
    "\n",
    "    py.test --nbval path/to/nbval_example_42.ipynb -v\n",
    "    \n",
    "Open `nbval_example_43.ipynb`. We now see that the raised exception has changed. We can again execute the tests:\n",
    "\n",
    "    py.test --nbval path/to/nbval_example_43.ipynb -v"
   ]
  },
  {
   "cell_type": "markdown",
   "metadata": {
    "nbpresent": {
     "id": "cell_title_lax"
    }
   },
   "source": [
    "### nbval-lax"
   ]
  },
  {
   "cell_type": "markdown",
   "metadata": {
    "nbpresent": {
     "id": "cell_marker_lax"
    }
   },
   "source": [
    "`# NBVAL_CHECK_OUTPUT`"
   ]
  },
  {
   "cell_type": "markdown",
   "metadata": {
    "nbpresent": {
     "id": "a3ec0ea4-66c3-4625-9d2e-f5236eede36c"
    }
   },
   "source": [
    "When the flag `-lax` is used no cells are executed by default. We can specify that a cell should be executed using check output:\n",
    "\n",
    "    # NBVAL_CHECK_OUTPUT\n",
    "    2 + 2\n",
    "    \n",
    "Open `nbval_example_51.ipynb`. We can see that the output of some cells will be tested and others will not. We can again execute the tests:\n",
    "\n",
    "    py.test --nbval -v path/to/nbval_example_51.ipynb"
   ]
  },
  {
   "cell_type": "markdown",
   "metadata": {
    "nbpresent": {
     "id": "cell_title_otherfeatures"
    }
   },
   "source": [
    "## Other Features"
   ]
  },
  {
   "cell_type": "markdown",
   "metadata": {
    "nbpresent": {
     "id": "cell_content_otherfeatures"
    }
   },
   "source": [
    "- Cell Tagging\n",
    "- Output Sanitising\n",
    "- Figures"
   ]
  },
  {
   "cell_type": "markdown",
   "metadata": {
    "collapsed": true,
    "nbpresent": {
     "id": "27687b56-f404-4d6a-8ebd-47c078cc1354"
    }
   },
   "source": [
    "The features above are not covered as part of this workshop but we mention them here as further parts of `nbval`. More information about these features is contained in the package's [documentation](https://github.com/computationalmodelling/nbval/blob/master/documentation.ipynb)\n",
    "\n",
    "#### Cell Tagging\n",
    "For languages which do not fit the format of lines starting with `#` or if the additional comment is undesired in the cell then the cell can be tagged. The metadata for that cell can be altered to contain the desired tag.\n",
    "\n",
    "#### Output Sanitising\n",
    "For some cells the expected output will change. For cells containing references to the date or time or containing a random element the output will change each time, but does not mean a failing test. Regular expressions can be used to search for these outputs and sanitise them into something which can be checked by nbval.\n",
    "\n",
    "#### Figures\n",
    "For figures, the text output referencing the figure can be checked as part of the tests."
   ]
  },
  {
   "cell_type": "markdown",
   "metadata": {
    "nbpresent": {
     "id": "0ac8d83e-6a93-47c9-8fe0-0ac5910f4d8a"
    }
   },
   "source": [
    "## Worksheet"
   ]
  },
  {
   "cell_type": "markdown",
   "metadata": {
    "nbpresent": {
     "id": "6a398a68-4213-4370-814a-20dd604be47f"
    }
   },
   "source": [
    "### Introduction to Jupyter Notebooks"
   ]
  },
  {
   "cell_type": "markdown",
   "metadata": {
    "nbpresent": {
     "id": "7e100303-580d-40a8-8fb7-4dad077afcb6"
    }
   },
   "source": [
    "If you are familiar with Jupyter Notebooks then feel free to skip this section and move on to nbconvert.\n",
    "\n",
    "- 1\\. Open Jupyter Notebook\n",
    "- 2\\. Create a new notebook\n",
    "- 3\\. Rename the notebook\n",
    "- 4\\. Execute some Python code in the cells\n",
    "- 5\\. Write some Markdown, execute the cells and see the output"
   ]
  },
  {
   "cell_type": "markdown",
   "metadata": {
    "nbpresent": {
     "id": "cell_title_nbconvert"
    }
   },
   "source": [
    "### nbconvert"
   ]
  },
  {
   "cell_type": "code",
   "execution_count": null,
   "metadata": {
    "collapsed": false,
    "nbpresent": {
     "id": "300af500-8afa-4c62-94c8-717d5925fc7e"
    }
   },
   "outputs": [],
   "source": [
    "import numpy\n",
    "\n",
    "print(2+2) \n",
    "f = lambda x: numpy.exp(x) * 4 - x*x\n",
    "print(f(4))\n",
    "\n",
    "x = numpy.linspace(-5, 5, 11)\n",
    "y = f(x)\n",
    "y"
   ]
  },
  {
   "cell_type": "markdown",
   "metadata": {},
   "source": [
    "** Task 1 **\n",
    " - save this notebook as a .html, .python, .pdf \n",
    " - open the outputs and see if they match the notebook\n",
    " \n",
    "**Task 2**\n",
    " - create a notebook that will have the same output as : nbconvert_example_1.python\n",
    " - create a notebook that will have the same output as : nbconvert_example_2.pdf\n",
    " - create a notebook that will have the same output as : nbconvert_example_3.html"
   ]
  },
  {
   "cell_type": "markdown",
   "metadata": {
    "nbpresent": {
     "id": "cell_title_nbdime"
    }
   },
   "source": [
    "### nbdime"
   ]
  },
  {
   "cell_type": "markdown",
   "metadata": {
    "collapsed": true
   },
   "source": [
    "We shall use notebooks found in \"Example_Notebooks\" for these taks.\n",
    "\n",
    "**Task 1 nbdiff**\n",
    " - using command line, explore the differences between *nbdime_example_1* and *nbdime_example_2* using \"nbdiff\"\n",
    " - using command line, observe the differences between the above notebooks in a browser environment\n",
    " - while in broswer, change the notebooks you want to investigate and see the differences\n",
    " - do the results match the class description? \n",
    " \n",
    "**Task 2 nbdiff - Additional**\n",
    " - create your own notebooks\n",
    " - check the differences between the 2 notebooks using nbdiff & nbdiff-web\n",
    " \n",
    "**Task 3 nbmerge**\n",
    " - using the command line, merge the 3 nbdime_example notebooks.\n",
    " - use both the nbmerge & nbmerge-web\n",
    " - save the new merge in both cases\n",
    " - for additional challenge, try to solve merge conflicts by specifing merge rules\n",
    " \n",
    "**Task 4 nbmerge - Additional**\n",
    " - create your own notebooks\n",
    " - merge them\n",
    " - can you answer the questions:\n",
    "  - What happens when base, local & remote are different?\n",
    "  - But when base & local are the same, but remote is differnet? \n",
    "  - What if base & remote are the same, yet local is different?\n",
    "  - lastly, if base is different, and local & remote are the same?"
   ]
  },
  {
   "cell_type": "markdown",
   "metadata": {
    "nbpresent": {
     "id": "9008fa88-d733-490d-9e89-9004a44ecc11"
    }
   },
   "source": [
    "### nbval"
   ]
  },
  {
   "cell_type": "markdown",
   "metadata": {
    "nbpresent": {
     "id": "054706a0-cf79-4267-b5e8-a2834a2b1d9a"
    }
   },
   "source": [
    "- 0\\. If there were any examples shown which you are unsure about, see the folder 'Example_Notebooks' for the examples shown\n",
    "- 1\\. Create an example piece of documentation which you will test. This should include:\n",
    " - a basic function which you are documenting (Create something which has example uses and requires exceptions to be raised. We used factorial.)\n",
    " - Write some documentation for your function in the notebook\n",
    " - Show some example use cases, including cases when an exception should be raised\n",
    "- 2\\. Test your notebook to show the tests passing\n",
    "- 3\\. Add some bugs to your function to change the output and show the tests failing\n",
    "- 4\\. For an additional challenge try tagging rather than commenting the cells of your notebook and getting the same test results"
   ]
  },
  {
   "cell_type": "markdown",
   "metadata": {
    "collapsed": true,
    "nbpresent": {
     "id": "dfb31b43-0f75-49cf-ac4d-e4657adf1bcf"
    }
   },
   "source": [
    "### Presentation Elements"
   ]
  },
  {
   "cell_type": "markdown",
   "metadata": {
    "nbpresent": {
     "id": "footer_authors"
    }
   },
   "source": [
    "<h6 align=right> James Bailey & Marian Daogaru </h6>"
   ]
  },
  {
   "cell_type": "markdown",
   "metadata": {
    "nbpresent": {
     "id": "footer_title"
    }
   },
   "source": [
    "###### Jupyter Notebooks"
   ]
  },
  {
   "cell_type": "markdown",
   "metadata": {
    "nbpresent": {
     "id": "element_hrule"
    }
   },
   "source": [
    "##### ----------------------------------------------------------------------------------------------------------------------------"
   ]
  },
  {
   "cell_type": "markdown",
   "metadata": {
    "nbpresent": {
     "id": "element_hrule2"
    }
   },
   "source": [
    "##### ----------------------------------------------------------------------------------------------------------------------------"
   ]
  },
  {
   "cell_type": "markdown",
   "metadata": {
    "nbpresent": {
     "id": "element_hrule3"
    }
   },
   "source": [
    "##### ----------------------------------------------------------------------------------------------------------------------------"
   ]
  },
  {
   "cell_type": "markdown",
   "metadata": {
    "nbpresent": {
     "id": "label_marker"
    }
   },
   "source": [
    "#### Marker"
   ]
  },
  {
   "cell_type": "markdown",
   "metadata": {
    "nbpresent": {
     "id": "label_input"
    }
   },
   "source": [
    "#### Input"
   ]
  },
  {
   "cell_type": "markdown",
   "metadata": {
    "nbpresent": {
     "id": "label_output"
    }
   },
   "source": [
    "#### Output"
   ]
  },
  {
   "cell_type": "markdown",
   "metadata": {
    "nbpresent": {
     "id": "e5daa66e-ecb2-45b0-89a3-598fbeb50577"
    }
   },
   "source": [
    "- nbval\n",
    " - Basic cell execution\n",
    " - Skipping cells\n",
    " - Ignoring output\n",
    " - Exceptions\n",
    "- nbval-lax \n",
    " - check output"
   ]
  },
  {
   "cell_type": "markdown",
   "metadata": {
    "nbpresent": {
     "id": "79e7bfe4-3e73-4fde-a78b-4a1f13d10e6d"
    }
   },
   "source": [
    "### Example 1-1"
   ]
  },
  {
   "cell_type": "code",
   "execution_count": null,
   "metadata": {
    "collapsed": true,
    "nbpresent": {
     "id": "06e0389b-884e-4529-952d-e09ac7bfcdc6"
    }
   },
   "outputs": [],
   "source": [
    "import pytest\n",
    "import math"
   ]
  },
  {
   "cell_type": "code",
   "execution_count": null,
   "metadata": {
    "collapsed": false,
    "nbpresent": {
     "id": "cell_content_basic_pass"
    }
   },
   "outputs": [],
   "source": [
    "1 + 1"
   ]
  },
  {
   "cell_type": "code",
   "execution_count": null,
   "metadata": {
    "collapsed": false,
    "nbpresent": {
     "id": "cell_test_basic_pass"
    }
   },
   "outputs": [],
   "source": [
    "!py.test --nbval -v Teaching_Material/Example_Notebooks/nbval_example_11.ipynb"
   ]
  },
  {
   "cell_type": "markdown",
   "metadata": {
    "nbpresent": {
     "id": "1c5884e9-c553-4f99-8430-302e4f55a835"
    }
   },
   "source": [
    "### Example 1-2"
   ]
  },
  {
   "cell_type": "code",
   "execution_count": null,
   "metadata": {
    "collapsed": true,
    "nbpresent": {
     "id": "af8f51b6-3b31-4353-b0ac-20ce608e9008"
    }
   },
   "outputs": [],
   "source": [
    "import pytst\n",
    "import math"
   ]
  },
  {
   "cell_type": "code",
   "execution_count": null,
   "metadata": {
    "collapsed": false,
    "nbpresent": {
     "id": "cell_content_basic_fail"
    }
   },
   "outputs": [],
   "source": [
    "1 + 2"
   ]
  },
  {
   "cell_type": "code",
   "execution_count": null,
   "metadata": {
    "collapsed": false,
    "nbpresent": {
     "id": "cell_test_basic_fail"
    }
   },
   "outputs": [],
   "source": [
    "!py.test --nbval Teaching_Material/Example_Notebooks/nbval_example_12.ipynb -v"
   ]
  },
  {
   "cell_type": "markdown",
   "metadata": {
    "nbpresent": {
     "id": "6f294809-55fd-4528-9f87-14f8fb46c588"
    }
   },
   "source": [
    "### Example 2-1"
   ]
  },
  {
   "cell_type": "code",
   "execution_count": null,
   "metadata": {
    "collapsed": false,
    "nbpresent": {
     "id": "cell_content_skippingcells"
    }
   },
   "outputs": [],
   "source": [
    "# NBVAL_SKIP\n",
    "import random\n",
    "random.random()"
   ]
  },
  {
   "cell_type": "code",
   "execution_count": null,
   "metadata": {
    "collapsed": false,
    "nbpresent": {
     "id": "cell_test_skippingcells"
    }
   },
   "outputs": [],
   "source": [
    "!py.test --nbval -v Teaching_Material/Example_Notebooks/nbval_example_21.ipynb"
   ]
  },
  {
   "cell_type": "markdown",
   "metadata": {
    "nbpresent": {
     "id": "aa360614-45e0-4472-83d9-aa45e4e80706"
    }
   },
   "source": [
    "### Example 3-1"
   ]
  },
  {
   "cell_type": "code",
   "execution_count": null,
   "metadata": {
    "collapsed": false,
    "nbpresent": {
     "id": "cell_content_ignore"
    }
   },
   "outputs": [],
   "source": [
    "# NBVAL_IGNORE_OUTPUT\n",
    "import random\n",
    "start = random.random()\n",
    "print(start)"
   ]
  },
  {
   "cell_type": "code",
   "execution_count": null,
   "metadata": {
    "collapsed": false,
    "nbpresent": {
     "id": "cell_test_ignore"
    }
   },
   "outputs": [],
   "source": [
    "!py.test --nbval -v Teaching_Material/Example_Notebooks/nbval_example_31.ipynb"
   ]
  },
  {
   "cell_type": "markdown",
   "metadata": {
    "nbpresent": {
     "id": "8332cde5-b29a-4720-a458-8f311f8e8c07"
    }
   },
   "source": [
    "### Example 4-1"
   ]
  },
  {
   "cell_type": "code",
   "execution_count": null,
   "metadata": {
    "collapsed": false,
    "nbpresent": {
     "id": "cell_content_except_1"
    }
   },
   "outputs": [],
   "source": [
    "raise(ValueError)"
   ]
  },
  {
   "cell_type": "code",
   "execution_count": null,
   "metadata": {
    "collapsed": false,
    "nbpresent": {
     "id": "cell_test_except_1"
    }
   },
   "outputs": [],
   "source": [
    "!py.test --nbval -v Teaching_Material/Example_Notebooks/nbval_example_41.ipynb"
   ]
  },
  {
   "cell_type": "markdown",
   "metadata": {
    "nbpresent": {
     "id": "a70e9f5b-f6ae-4837-bb77-3dd1ce62d392"
    }
   },
   "source": [
    "### Example 4-2"
   ]
  },
  {
   "cell_type": "code",
   "execution_count": null,
   "metadata": {
    "collapsed": false,
    "nbpresent": {
     "id": "cell_content_except_2"
    }
   },
   "outputs": [],
   "source": [
    "# NBVAL_RAISES_EXCEPTION\n",
    "raise(ValueError)"
   ]
  },
  {
   "cell_type": "code",
   "execution_count": null,
   "metadata": {
    "collapsed": false,
    "nbpresent": {
     "id": "cell_test_except_2"
    }
   },
   "outputs": [],
   "source": [
    "!py.test --nbval -v Teaching_Material/Example_Notebooks/nbval_example_42.ipynb"
   ]
  },
  {
   "cell_type": "markdown",
   "metadata": {
    "nbpresent": {
     "id": "9aa199f2-5180-4cb3-b2f6-20196b1bae4b"
    }
   },
   "source": [
    "### Example 4-3"
   ]
  },
  {
   "cell_type": "code",
   "execution_count": null,
   "metadata": {
    "collapsed": false,
    "nbpresent": {
     "id": "cell_content_except_3"
    }
   },
   "outputs": [],
   "source": [
    "# NBVAL_RAISES_EXCEPTION\n",
    "raise(ValueError(\"test\"))"
   ]
  },
  {
   "cell_type": "code",
   "execution_count": null,
   "metadata": {
    "collapsed": false,
    "nbpresent": {
     "id": "cell_test_except_3"
    }
   },
   "outputs": [],
   "source": [
    "!py.test --nbval -v Teaching_Material/Example_Notebooks/nbval_example_43.ipynb"
   ]
  },
  {
   "cell_type": "markdown",
   "metadata": {
    "nbpresent": {
     "id": "8b4311e5-4b84-46ab-a051-428c2d96e17f"
    }
   },
   "source": [
    "### Example 5"
   ]
  },
  {
   "cell_type": "code",
   "execution_count": null,
   "metadata": {
    "collapsed": false,
    "nbpresent": {
     "id": "cell_content_lax_1"
    }
   },
   "outputs": [],
   "source": [
    "2 + 3"
   ]
  },
  {
   "cell_type": "code",
   "execution_count": null,
   "metadata": {
    "collapsed": false,
    "nbpresent": {
     "id": "cell_content_lax_2"
    }
   },
   "outputs": [],
   "source": [
    "# NBVAL_CHECK_OUTPUT\n",
    "2 + 3"
   ]
  },
  {
   "cell_type": "code",
   "execution_count": null,
   "metadata": {
    "collapsed": false,
    "nbpresent": {
     "id": "cell_content_lax_3"
    }
   },
   "outputs": [],
   "source": [
    "# NBVAL_RAISES_EXCEPTION\n",
    "# NBVAL_CHECK_OUTPUT\n",
    "raise(ValueError(\"not this error\"))"
   ]
  },
  {
   "cell_type": "code",
   "execution_count": null,
   "metadata": {
    "collapsed": false,
    "nbpresent": {
     "id": "cell_test_lax"
    }
   },
   "outputs": [],
   "source": [
    "!py.test --nbval-lax -v Teaching_Material/Example_Notebooks/nbval_example_51.ipynb"
   ]
  },
  {
   "cell_type": "markdown",
   "metadata": {
    "collapsed": true,
    "nbpresent": {
     "id": "uni_logo"
    }
   },
   "source": [
    "![uni logo](https://upload.wikimedia.org/wikipedia/commons/thumb/a/a7/University_of_Southampton_Logo.svg/2000px-University_of_Southampton_Logo.svg.png)"
   ]
  },
  {
   "cell_type": "markdown",
   "metadata": {
    "nbpresent": {
     "id": "cell_title_summary"
    }
   },
   "source": [
    "## Summary"
   ]
  },
  {
   "cell_type": "markdown",
   "metadata": {
    "nbpresent": {
     "id": "cell_content_summary"
    }
   },
   "source": [
    "- nbconvert\n",
    "- nbdime\n",
    "- nbval\n",
    "\n",
    "- Exercises - Desktop/Teaching_Material/JupyterNotebooks_Manual"
   ]
  },
  {
   "cell_type": "code",
   "execution_count": null,
   "metadata": {
    "collapsed": true
   },
   "outputs": [],
   "source": []
  }
 ],
 "metadata": {
  "anaconda-cloud": {},
  "celltoolbar": "Edit Metadata",
  "kernelspec": {
   "display_name": "Python [conda env:py35]",
   "language": "python",
   "name": "conda-env-py35-py"
  },
  "language_info": {
   "codemirror_mode": {
    "name": "ipython",
    "version": 3
   },
   "file_extension": ".py",
   "mimetype": "text/x-python",
   "name": "python",
   "nbconvert_exporter": "python",
   "pygments_lexer": "ipython3",
   "version": "3.5.2"
  },
  "nbpresent": {
   "slides": {
    "basic_fail": {
     "id": "basic_fail",
     "prev": "basic_pass_test",
     "regions": {
      "slide_element_hrule_1": {
       "attrs": {
        "height": 0.1,
        "width": 0.8,
        "x": 0.1,
        "y": 0.34699599465954606
       },
       "content": {
        "cell": "element_hrule",
        "part": "whole"
       },
       "id": "slide_element_hrule_1"
      },
      "slide_element_hrule_2": {
       "attrs": {
        "height": 0.1,
        "width": 0.8,
        "x": 0.1,
        "y": 0.18544726301735648
       },
       "content": {
        "cell": "element_hrule2",
        "part": "whole"
       },
       "id": "slide_element_hrule_2"
      },
      "slide_element_hrule_3": {
       "attrs": {
        "height": 0.1,
        "width": 0.8,
        "x": 0.1,
        "y": 0.85
       },
       "content": {
        "cell": "element_hrule3",
        "part": "whole"
       },
       "id": "slide_element_hrule_2"
      },
      "slide_element_title": {
       "attrs": {
        "height": 0.11428571428571424,
        "width": 0.8,
        "x": 0.1,
        "y": 0.05
       },
       "content": {
        "cell": "cell_title_basic_pass",
        "part": "whole"
       },
       "id": "slide_element_title"
      },
      "slide_footer_authors": {
       "attrs": {
        "height": 0.05,
        "width": 0.4,
        "x": 0.5,
        "y": 0.9
       },
       "content": {
        "cell": "footer_authors",
        "part": "whole"
       },
       "id": "slide_footer_authors"
      },
      "slide_footer_title": {
       "attrs": {
        "height": 0.05,
        "width": 0.4,
        "x": 0.1,
        "y": 0.9
       },
       "content": {
        "cell": "footer_title",
        "part": "whole"
       },
       "id": "slide_footer_title"
      },
      "slide_label_input": {
       "attrs": {
        "height": 0.06568758344459286,
        "width": 0.2,
        "x": 0.1,
        "y": 0.4
       },
       "content": {
        "cell": "label_input",
        "part": "whole"
       },
       "id": "slide_region_input"
      },
      "slide_label_output": {
       "attrs": {
        "height": 0.2,
        "width": 0.2,
        "x": 0.1,
        "y": 0.65
       },
       "content": {
        "cell": "label_output",
        "part": "whole"
       },
       "id": "slide_region_output"
      },
      "slide_region_input": {
       "attrs": {
        "height": 0.2,
        "width": 0.6,
        "x": 0.3,
        "y": 0.4
       },
       "content": {
        "cell": "cell_content_basic_fail",
        "part": "source"
       },
       "id": "slide_region_input"
      },
      "slide_region_output": {
       "attrs": {
        "height": 0.2,
        "width": 0.6,
        "x": 0.3,
        "y": 0.65
       },
       "content": {
        "cell": "cell_content_basic_fail",
        "part": "outputs"
       },
       "id": "slide_region_output"
      }
     }
    },
    "basic_fail_test": {
     "id": "basic_fail_test",
     "prev": "basic_fail",
     "regions": {
      "slide_element_hrule_1": {
       "attrs": {
        "height": 0.1,
        "width": 0.8,
        "x": 0.1,
        "y": 0.18544726301735648
       },
       "content": {
        "cell": "element_hrule",
        "part": "whole"
       },
       "id": "slide_element_hrule_1"
      },
      "slide_element_hrule_3": {
       "attrs": {
        "height": 0.1,
        "width": 0.8,
        "x": 0.1,
        "y": 0.85
       },
       "content": {
        "cell": "element_hrule3",
        "part": "whole"
       },
       "id": "slide_element_hrule_2"
      },
      "slide_element_title": {
       "attrs": {
        "height": 0.11428571428571424,
        "width": 0.8,
        "x": 0.1,
        "y": 0.05
       },
       "content": {
        "cell": "cell_title_basic_pass",
        "part": "whole"
       },
       "id": "slide_element_title"
      },
      "slide_footer_authors": {
       "attrs": {
        "height": 0.05,
        "width": 0.4,
        "x": 0.5,
        "y": 0.9
       },
       "content": {
        "cell": "footer_authors",
        "part": "whole"
       },
       "id": "slide_footer_authors"
      },
      "slide_footer_title": {
       "attrs": {
        "height": 0.05,
        "width": 0.4,
        "x": 0.1,
        "y": 0.9
       },
       "content": {
        "cell": "footer_title",
        "part": "whole"
       },
       "id": "slide_footer_title"
      },
      "slide_region_test": {
       "attrs": {
        "height": 0.1,
        "width": 0.8,
        "x": 0.1,
        "y": 0.25
       },
       "content": {
        "cell": "cell_test_basic_fail",
        "part": "source"
       },
       "id": "slide_region_test"
      },
      "slide_region_testoutput": {
       "attrs": {
        "height": 0.45,
        "width": 0.96,
        "x": 0.02,
        "y": 0.4
       },
       "content": {
        "cell": "cell_test_basic_fail",
        "part": "outputs"
       },
       "id": "slide_region_testoutput"
      }
     }
    },
    "basic_pass": {
     "id": "basic_pass",
     "prev": "nbvalmodes",
     "regions": {
      "slide_element_hrule_1": {
       "attrs": {
        "height": 0.1,
        "width": 0.8,
        "x": 0.1,
        "y": 0.34699599465954606
       },
       "content": {
        "cell": "element_hrule",
        "part": "whole"
       },
       "id": "slide_element_hrule_1"
      },
      "slide_element_hrule_2": {
       "attrs": {
        "height": 0.1,
        "width": 0.8,
        "x": 0.1,
        "y": 0.18544726301735648
       },
       "content": {
        "cell": "element_hrule2",
        "part": "whole"
       },
       "id": "slide_element_hrule_2"
      },
      "slide_element_hrule_3": {
       "attrs": {
        "height": 0.1,
        "width": 0.8,
        "x": 0.1,
        "y": 0.85
       },
       "content": {
        "cell": "element_hrule3",
        "part": "whole"
       },
       "id": "slide_element_hrule_2"
      },
      "slide_element_title": {
       "attrs": {
        "height": 0.11428571428571424,
        "width": 0.8,
        "x": 0.1,
        "y": 0.05
       },
       "content": {
        "cell": "cell_title_basic_pass",
        "part": "whole"
       },
       "id": "slide_element_title"
      },
      "slide_footer_authors": {
       "attrs": {
        "height": 0.05,
        "width": 0.4,
        "x": 0.5,
        "y": 0.9
       },
       "content": {
        "cell": "footer_authors",
        "part": "whole"
       },
       "id": "slide_footer_authors"
      },
      "slide_footer_title": {
       "attrs": {
        "height": 0.05,
        "width": 0.4,
        "x": 0.1,
        "y": 0.9
       },
       "content": {
        "cell": "footer_title",
        "part": "whole"
       },
       "id": "slide_footer_title"
      },
      "slide_label_input": {
       "attrs": {
        "height": 0.06568758344459286,
        "width": 0.2,
        "x": 0.1,
        "y": 0.4
       },
       "content": {
        "cell": "label_input",
        "part": "whole"
       },
       "id": "slide_region_input"
      },
      "slide_label_output": {
       "attrs": {
        "height": 0.2,
        "width": 0.2,
        "x": 0.1,
        "y": 0.65
       },
       "content": {
        "cell": "label_output",
        "part": "whole"
       },
       "id": "slide_region_output"
      },
      "slide_region_input": {
       "attrs": {
        "height": 0.2,
        "width": 0.6,
        "x": 0.3,
        "y": 0.4
       },
       "content": {
        "cell": "cell_content_basic_pass",
        "part": "source"
       },
       "id": "slide_region_input"
      },
      "slide_region_output": {
       "attrs": {
        "height": 0.2,
        "width": 0.6,
        "x": 0.3,
        "y": 0.65
       },
       "content": {
        "cell": "cell_content_basic_pass",
        "part": "outputs"
       },
       "id": "slide_region_output"
      }
     }
    },
    "basic_pass_test": {
     "id": "basic_pass_test",
     "prev": "basic_pass",
     "regions": {
      "slide_element_hrule_1": {
       "attrs": {
        "height": 0.1,
        "width": 0.8,
        "x": 0.1,
        "y": 0.18544726301735648
       },
       "content": {
        "cell": "element_hrule",
        "part": "whole"
       },
       "id": "slide_element_hrule_1"
      },
      "slide_element_hrule_3": {
       "attrs": {
        "height": 0.1,
        "width": 0.8,
        "x": 0.1,
        "y": 0.85
       },
       "content": {
        "cell": "element_hrule3",
        "part": "whole"
       },
       "id": "slide_element_hrule_2"
      },
      "slide_element_title": {
       "attrs": {
        "height": 0.11428571428571424,
        "width": 0.8,
        "x": 0.1,
        "y": 0.05
       },
       "content": {
        "cell": "cell_title_basic_pass",
        "part": "whole"
       },
       "id": "slide_element_title"
      },
      "slide_footer_authors": {
       "attrs": {
        "height": 0.05,
        "width": 0.4,
        "x": 0.5,
        "y": 0.9
       },
       "content": {
        "cell": "footer_authors",
        "part": "whole"
       },
       "id": "slide_footer_authors"
      },
      "slide_footer_title": {
       "attrs": {
        "height": 0.05,
        "width": 0.4,
        "x": 0.1,
        "y": 0.9
       },
       "content": {
        "cell": "footer_title",
        "part": "whole"
       },
       "id": "slide_footer_title"
      },
      "slide_region_test": {
       "attrs": {
        "height": 0.1,
        "width": 0.8,
        "x": 0.1,
        "y": 0.25
       },
       "content": {
        "cell": "cell_test_basic_pass",
        "part": "source"
       },
       "id": "slide_region_test"
      },
      "slide_region_testoutput": {
       "attrs": {
        "height": 0.45,
        "width": 0.96,
        "x": 0.02,
        "y": 0.4
       },
       "content": {
        "cell": "cell_test_basic_pass",
        "part": "outputs"
       },
       "id": "slide_region_testoutput"
      }
     }
    },
    "contents": {
     "id": "contents",
     "prev": "maintitle",
     "regions": {
      "slide_content": {
       "attrs": {
        "height": 0.8,
        "width": 0.8,
        "x": 0.1,
        "y": 0.25
       },
       "content": {
        "cell": "cell_contents",
        "part": "whole"
       },
       "id": "slide_content"
      },
      "slide_element_hrule_1": {
       "attrs": {
        "height": 0.1,
        "width": 0.8,
        "x": 0.1,
        "y": 0.18544726301735648
       },
       "content": {
        "cell": "element_hrule",
        "part": "whole"
       },
       "id": "slide_element_hrule_1"
      },
      "slide_element_title": {
       "attrs": {
        "height": 0.11428571428571424,
        "width": 0.8,
        "x": 0.1,
        "y": 0.05
       },
       "content": {
        "cell": "cell_contents_title",
        "part": "whole"
       },
       "id": "slide_element_title"
      },
      "slide_footer_authors": {
       "attrs": {
        "height": 0.05,
        "width": 0.4,
        "x": 0.5,
        "y": 0.9
       },
       "content": {
        "cell": "footer_authors",
        "part": "whole"
       },
       "id": "slide_footer_authors"
      },
      "slide_footer_title": {
       "attrs": {
        "height": 0.05,
        "width": 0.4,
        "x": 0.1,
        "y": 0.9
       },
       "content": {
        "cell": "footer_title",
        "part": "whole"
       },
       "id": "slide_footer_title"
      }
     }
    },
    "except_1": {
     "id": "except_1",
     "prev": "ignore_test",
     "regions": {
      "slide_element_hrule_1": {
       "attrs": {
        "height": 0.1,
        "width": 0.8,
        "x": 0.1,
        "y": 0.34699599465954606
       },
       "content": {
        "cell": "element_hrule",
        "part": "whole"
       },
       "id": "slide_element_hrule_1"
      },
      "slide_element_hrule_2": {
       "attrs": {
        "height": 0.1,
        "width": 0.8,
        "x": 0.1,
        "y": 0.18544726301735648
       },
       "content": {
        "cell": "element_hrule2",
        "part": "whole"
       },
       "id": "slide_element_hrule_2"
      },
      "slide_element_hrule_3": {
       "attrs": {
        "height": 0.1,
        "width": 0.8,
        "x": 0.1,
        "y": 0.85
       },
       "content": {
        "cell": "element_hrule3",
        "part": "whole"
       },
       "id": "slide_element_hrule_2"
      },
      "slide_element_title": {
       "attrs": {
        "height": 0.11428571428571424,
        "width": 0.8,
        "x": 0.1,
        "y": 0.05
       },
       "content": {
        "cell": "cell_title_except",
        "part": "whole"
       },
       "id": "slide_element_title"
      },
      "slide_footer_authors": {
       "attrs": {
        "height": 0.05,
        "width": 0.4,
        "x": 0.5,
        "y": 0.9
       },
       "content": {
        "cell": "footer_authors",
        "part": "whole"
       },
       "id": "slide_footer_authors"
      },
      "slide_footer_title": {
       "attrs": {
        "height": 0.05,
        "width": 0.4,
        "x": 0.1,
        "y": 0.9
       },
       "content": {
        "cell": "footer_title",
        "part": "whole"
       },
       "id": "slide_footer_title"
      },
      "slide_label_input": {
       "attrs": {
        "height": 0.06568758344459286,
        "width": 0.2,
        "x": 0.1,
        "y": 0.4
       },
       "content": {
        "cell": "label_input",
        "part": "whole"
       },
       "id": "slide_region_input"
      },
      "slide_label_marker": {
       "attrs": {
        "height": 0.1,
        "width": 0.2,
        "x": 0.1,
        "y": 0.25
       },
       "content": {
        "cell": "label_marker",
        "part": "whole"
       },
       "id": "slide_label_marker"
      },
      "slide_label_output": {
       "attrs": {
        "height": 0.2,
        "width": 0.2,
        "x": 0.1,
        "y": 0.65
       },
       "content": {
        "cell": "label_output",
        "part": "whole"
       },
       "id": "slide_region_output"
      },
      "slide_region_input": {
       "attrs": {
        "height": 0.2,
        "width": 0.6,
        "x": 0.3,
        "y": 0.4
       },
       "content": {
        "cell": "cell_content_except_1",
        "part": "source"
       },
       "id": "slide_region_input"
      },
      "slide_region_output": {
       "attrs": {
        "height": 0.2,
        "width": 0.6,
        "x": 0.3,
        "y": 0.65
       },
       "content": {
        "cell": "cell_content_except_1",
        "part": "outputs"
       },
       "id": "slide_region_output"
      }
     }
    },
    "except_1_test": {
     "id": "except_1_test",
     "prev": "except_1",
     "regions": {
      "slide_element_hrule_1": {
       "attrs": {
        "height": 0.1,
        "width": 0.8,
        "x": 0.1,
        "y": 0.18544726301735648
       },
       "content": {
        "cell": "element_hrule",
        "part": "whole"
       },
       "id": "slide_element_hrule_1"
      },
      "slide_element_hrule_3": {
       "attrs": {
        "height": 0.1,
        "width": 0.8,
        "x": 0.1,
        "y": 0.85
       },
       "content": {
        "cell": "element_hrule3",
        "part": "whole"
       },
       "id": "slide_element_hrule_2"
      },
      "slide_element_title": {
       "attrs": {
        "height": 0.11428571428571424,
        "width": 0.8,
        "x": 0.1,
        "y": 0.05
       },
       "content": {
        "cell": "cell_title_except",
        "part": "whole"
       },
       "id": "slide_element_title"
      },
      "slide_footer_authors": {
       "attrs": {
        "height": 0.05,
        "width": 0.4,
        "x": 0.5,
        "y": 0.9
       },
       "content": {
        "cell": "footer_authors",
        "part": "whole"
       },
       "id": "slide_footer_authors"
      },
      "slide_footer_title": {
       "attrs": {
        "height": 0.05,
        "width": 0.4,
        "x": 0.1,
        "y": 0.9
       },
       "content": {
        "cell": "footer_title",
        "part": "whole"
       },
       "id": "slide_footer_title"
      },
      "slide_region_test": {
       "attrs": {
        "height": 0.1,
        "width": 0.8,
        "x": 0.1,
        "y": 0.25
       },
       "content": {
        "cell": "cell_test_except_1",
        "part": "source"
       },
       "id": "slide_region_test"
      },
      "slide_region_testoutput": {
       "attrs": {
        "height": 0.45,
        "width": 0.96,
        "x": 0.02,
        "y": 0.4
       },
       "content": {
        "cell": "cell_test_except_1",
        "part": "outputs"
       },
       "id": "slide_region_testoutput"
      }
     }
    },
    "except_2": {
     "id": "except_2",
     "prev": "except_1_test",
     "regions": {
      "slide_element_hrule_1": {
       "attrs": {
        "height": 0.1,
        "width": 0.8,
        "x": 0.1,
        "y": 0.34699599465954606
       },
       "content": {
        "cell": "element_hrule",
        "part": "whole"
       },
       "id": "slide_element_hrule_1"
      },
      "slide_element_hrule_2": {
       "attrs": {
        "height": 0.1,
        "width": 0.8,
        "x": 0.1,
        "y": 0.18544726301735648
       },
       "content": {
        "cell": "element_hrule2",
        "part": "whole"
       },
       "id": "slide_element_hrule_2"
      },
      "slide_element_hrule_3": {
       "attrs": {
        "height": 0.1,
        "width": 0.8,
        "x": 0.1,
        "y": 0.85
       },
       "content": {
        "cell": "element_hrule3",
        "part": "whole"
       },
       "id": "slide_element_hrule_2"
      },
      "slide_element_title": {
       "attrs": {
        "height": 0.11428571428571424,
        "width": 0.8,
        "x": 0.1,
        "y": 0.05
       },
       "content": {
        "cell": "cell_title_except",
        "part": "whole"
       },
       "id": "slide_element_title"
      },
      "slide_footer_authors": {
       "attrs": {
        "height": 0.05,
        "width": 0.4,
        "x": 0.5,
        "y": 0.9
       },
       "content": {
        "cell": "footer_authors",
        "part": "whole"
       },
       "id": "slide_footer_authors"
      },
      "slide_footer_title": {
       "attrs": {
        "height": 0.05,
        "width": 0.4,
        "x": 0.1,
        "y": 0.9
       },
       "content": {
        "cell": "footer_title",
        "part": "whole"
       },
       "id": "slide_footer_title"
      },
      "slide_label_input": {
       "attrs": {
        "height": 0.06568758344459286,
        "width": 0.2,
        "x": 0.1,
        "y": 0.4
       },
       "content": {
        "cell": "label_input",
        "part": "whole"
       },
       "id": "slide_region_input"
      },
      "slide_label_marker": {
       "attrs": {
        "height": 0.1,
        "width": 0.2,
        "x": 0.1,
        "y": 0.25
       },
       "content": {
        "cell": "label_marker",
        "part": "whole"
       },
       "id": "slide_label_marker"
      },
      "slide_label_output": {
       "attrs": {
        "height": 0.2,
        "width": 0.2,
        "x": 0.1,
        "y": 0.65
       },
       "content": {
        "cell": "label_output",
        "part": "whole"
       },
       "id": "slide_region_output"
      },
      "slide_region_input": {
       "attrs": {
        "height": 0.2,
        "width": 0.6,
        "x": 0.3,
        "y": 0.4
       },
       "content": {
        "cell": "cell_content_except_2",
        "part": "source"
       },
       "id": "slide_region_input"
      },
      "slide_region_marker": {
       "attrs": {
        "height": 0.1,
        "width": 0.6,
        "x": 0.3,
        "y": 0.25
       },
       "content": {
        "cell": "cell_marker_except",
        "part": "whole"
       },
       "id": "slide_region_marker"
      },
      "slide_region_output": {
       "attrs": {
        "height": 0.2,
        "width": 0.6,
        "x": 0.3,
        "y": 0.65
       },
       "content": {
        "cell": "cell_content_except_2",
        "part": "outputs"
       },
       "id": "slide_region_output"
      }
     }
    },
    "except_2_test": {
     "id": "except_2_test",
     "prev": "except_2",
     "regions": {
      "slide_element_hrule_1": {
       "attrs": {
        "height": 0.1,
        "width": 0.8,
        "x": 0.1,
        "y": 0.18544726301735648
       },
       "content": {
        "cell": "element_hrule",
        "part": "whole"
       },
       "id": "slide_element_hrule_1"
      },
      "slide_element_hrule_3": {
       "attrs": {
        "height": 0.1,
        "width": 0.8,
        "x": 0.1,
        "y": 0.85
       },
       "content": {
        "cell": "element_hrule3",
        "part": "whole"
       },
       "id": "slide_element_hrule_2"
      },
      "slide_element_title": {
       "attrs": {
        "height": 0.11428571428571424,
        "width": 0.8,
        "x": 0.1,
        "y": 0.05
       },
       "content": {
        "cell": "cell_title_except",
        "part": "whole"
       },
       "id": "slide_element_title"
      },
      "slide_footer_authors": {
       "attrs": {
        "height": 0.05,
        "width": 0.4,
        "x": 0.5,
        "y": 0.9
       },
       "content": {
        "cell": "footer_authors",
        "part": "whole"
       },
       "id": "slide_footer_authors"
      },
      "slide_footer_title": {
       "attrs": {
        "height": 0.05,
        "width": 0.4,
        "x": 0.1,
        "y": 0.9
       },
       "content": {
        "cell": "footer_title",
        "part": "whole"
       },
       "id": "slide_footer_title"
      },
      "slide_region_test": {
       "attrs": {
        "height": 0.1,
        "width": 0.8,
        "x": 0.1,
        "y": 0.25
       },
       "content": {
        "cell": "cell_test_except_2",
        "part": "source"
       },
       "id": "slide_region_test"
      },
      "slide_region_testoutput": {
       "attrs": {
        "height": 0.45,
        "width": 0.96,
        "x": 0.02,
        "y": 0.4
       },
       "content": {
        "cell": "cell_test_except_2",
        "part": "outputs"
       },
       "id": "slide_region_testoutput"
      }
     }
    },
    "except_3": {
     "id": "except_3",
     "prev": "except_2_test",
     "regions": {
      "slide_element_hrule_1": {
       "attrs": {
        "height": 0.1,
        "width": 0.8,
        "x": 0.1,
        "y": 0.34699599465954606
       },
       "content": {
        "cell": "element_hrule",
        "part": "whole"
       },
       "id": "slide_element_hrule_1"
      },
      "slide_element_hrule_2": {
       "attrs": {
        "height": 0.1,
        "width": 0.8,
        "x": 0.1,
        "y": 0.18544726301735648
       },
       "content": {
        "cell": "element_hrule2",
        "part": "whole"
       },
       "id": "slide_element_hrule_2"
      },
      "slide_element_hrule_3": {
       "attrs": {
        "height": 0.1,
        "width": 0.8,
        "x": 0.1,
        "y": 0.85
       },
       "content": {
        "cell": "element_hrule3",
        "part": "whole"
       },
       "id": "slide_element_hrule_2"
      },
      "slide_element_title": {
       "attrs": {
        "height": 0.11428571428571424,
        "width": 0.8,
        "x": 0.1,
        "y": 0.05
       },
       "content": {
        "cell": "cell_title_except",
        "part": "whole"
       },
       "id": "slide_element_title"
      },
      "slide_footer_authors": {
       "attrs": {
        "height": 0.05,
        "width": 0.4,
        "x": 0.5,
        "y": 0.9
       },
       "content": {
        "cell": "footer_authors",
        "part": "whole"
       },
       "id": "slide_footer_authors"
      },
      "slide_footer_title": {
       "attrs": {
        "height": 0.05,
        "width": 0.4,
        "x": 0.1,
        "y": 0.9
       },
       "content": {
        "cell": "footer_title",
        "part": "whole"
       },
       "id": "slide_footer_title"
      },
      "slide_label_input": {
       "attrs": {
        "height": 0.06568758344459286,
        "width": 0.2,
        "x": 0.1,
        "y": 0.4
       },
       "content": {
        "cell": "label_input",
        "part": "whole"
       },
       "id": "slide_region_input"
      },
      "slide_label_marker": {
       "attrs": {
        "height": 0.1,
        "width": 0.2,
        "x": 0.1,
        "y": 0.25
       },
       "content": {
        "cell": "label_marker",
        "part": "whole"
       },
       "id": "slide_label_marker"
      },
      "slide_label_output": {
       "attrs": {
        "height": 0.2,
        "width": 0.2,
        "x": 0.1,
        "y": 0.65
       },
       "content": {
        "cell": "label_output",
        "part": "whole"
       },
       "id": "slide_region_output"
      },
      "slide_region_input": {
       "attrs": {
        "height": 0.2,
        "width": 0.6,
        "x": 0.3,
        "y": 0.4
       },
       "content": {
        "cell": "cell_content_except_3",
        "part": "source"
       },
       "id": "slide_region_input"
      },
      "slide_region_marker": {
       "attrs": {
        "height": 0.1,
        "width": 0.6,
        "x": 0.3,
        "y": 0.25
       },
       "content": {
        "cell": "cell_marker_except",
        "part": "whole"
       },
       "id": "slide_region_marker"
      },
      "slide_region_output": {
       "attrs": {
        "height": 0.2,
        "width": 0.6,
        "x": 0.3,
        "y": 0.65
       },
       "content": {
        "cell": "cell_content_except_3",
        "part": "outputs"
       },
       "id": "slide_region_output"
      }
     }
    },
    "except_3_test": {
     "id": "except_3_test",
     "prev": "except_3",
     "regions": {
      "slide_element_hrule_1": {
       "attrs": {
        "height": 0.1,
        "width": 0.8,
        "x": 0.1,
        "y": 0.18544726301735648
       },
       "content": {
        "cell": "element_hrule",
        "part": "whole"
       },
       "id": "slide_element_hrule_1"
      },
      "slide_element_hrule_3": {
       "attrs": {
        "height": 0.1,
        "width": 0.8,
        "x": 0.1,
        "y": 0.85
       },
       "content": {
        "cell": "element_hrule3",
        "part": "whole"
       },
       "id": "slide_element_hrule_2"
      },
      "slide_element_title": {
       "attrs": {
        "height": 0.11428571428571424,
        "width": 0.8,
        "x": 0.1,
        "y": 0.05
       },
       "content": {
        "cell": "cell_title_except",
        "part": "whole"
       },
       "id": "slide_element_title"
      },
      "slide_footer_authors": {
       "attrs": {
        "height": 0.05,
        "width": 0.4,
        "x": 0.5,
        "y": 0.9
       },
       "content": {
        "cell": "footer_authors",
        "part": "whole"
       },
       "id": "slide_footer_authors"
      },
      "slide_footer_title": {
       "attrs": {
        "height": 0.05,
        "width": 0.4,
        "x": 0.1,
        "y": 0.9
       },
       "content": {
        "cell": "footer_title",
        "part": "whole"
       },
       "id": "slide_footer_title"
      },
      "slide_region_test": {
       "attrs": {
        "height": 0.1,
        "width": 0.8,
        "x": 0.1,
        "y": 0.25
       },
       "content": {
        "cell": "cell_test_except_3",
        "part": "source"
       },
       "id": "slide_region_test"
      },
      "slide_region_testoutput": {
       "attrs": {
        "height": 0.45,
        "width": 0.96,
        "x": 0.02,
        "y": 0.4
       },
       "content": {
        "cell": "cell_test_except_3",
        "part": "outputs"
       },
       "id": "slide_region_testoutput"
      }
     }
    },
    "ignore": {
     "id": "ignore",
     "prev": "skippingcells_test",
     "regions": {
      "slide_element_hrule_1": {
       "attrs": {
        "height": 0.1,
        "width": 0.8,
        "x": 0.1,
        "y": 0.34699599465954606
       },
       "content": {
        "cell": "element_hrule",
        "part": "whole"
       },
       "id": "slide_element_hrule_1"
      },
      "slide_element_hrule_2": {
       "attrs": {
        "height": 0.1,
        "width": 0.8,
        "x": 0.1,
        "y": 0.18544726301735648
       },
       "content": {
        "cell": "element_hrule2",
        "part": "whole"
       },
       "id": "slide_element_hrule_2"
      },
      "slide_element_hrule_3": {
       "attrs": {
        "height": 0.1,
        "width": 0.8,
        "x": 0.1,
        "y": 0.85
       },
       "content": {
        "cell": "element_hrule3",
        "part": "whole"
       },
       "id": "slide_element_hrule_2"
      },
      "slide_element_title": {
       "attrs": {
        "height": 0.11428571428571424,
        "width": 0.8,
        "x": 0.1,
        "y": 0.05
       },
       "content": {
        "cell": "cell_title_ignore",
        "part": "whole"
       },
       "id": "slide_element_title"
      },
      "slide_footer_authors": {
       "attrs": {
        "height": 0.05,
        "width": 0.4,
        "x": 0.5,
        "y": 0.9
       },
       "content": {
        "cell": "footer_authors",
        "part": "whole"
       },
       "id": "slide_footer_authors"
      },
      "slide_footer_title": {
       "attrs": {
        "height": 0.05,
        "width": 0.4,
        "x": 0.1,
        "y": 0.9
       },
       "content": {
        "cell": "footer_title",
        "part": "whole"
       },
       "id": "slide_footer_title"
      },
      "slide_label_input": {
       "attrs": {
        "height": 0.06568758344459286,
        "width": 0.2,
        "x": 0.1,
        "y": 0.4
       },
       "content": {
        "cell": "label_input",
        "part": "whole"
       },
       "id": "slide_region_input"
      },
      "slide_label_marker": {
       "attrs": {
        "height": 0.1,
        "width": 0.2,
        "x": 0.1,
        "y": 0.25
       },
       "content": {
        "cell": "label_marker",
        "part": "whole"
       },
       "id": "slide_label_marker"
      },
      "slide_label_output": {
       "attrs": {
        "height": 0.2,
        "width": 0.2,
        "x": 0.1,
        "y": 0.65
       },
       "content": {
        "cell": "label_output",
        "part": "whole"
       },
       "id": "slide_region_output"
      },
      "slide_region_input": {
       "attrs": {
        "height": 0.2,
        "width": 0.6,
        "x": 0.3,
        "y": 0.4
       },
       "content": {
        "cell": "cell_content_ignore",
        "part": "source"
       },
       "id": "slide_region_input"
      },
      "slide_region_marker": {
       "attrs": {
        "height": 0.1,
        "width": 0.6,
        "x": 0.3,
        "y": 0.25
       },
       "content": {
        "cell": "cell_marker_ignore",
        "part": "whole"
       },
       "id": "slide_region_marker"
      },
      "slide_region_output": {
       "attrs": {
        "height": 0.2,
        "width": 0.6,
        "x": 0.3,
        "y": 0.65
       },
       "content": {
        "cell": "cell_content_ignore",
        "part": "outputs"
       },
       "id": "slide_region_output"
      }
     }
    },
    "ignore_test": {
     "id": "ignore_test",
     "prev": "ignore",
     "regions": {
      "slide_element_hrule_1": {
       "attrs": {
        "height": 0.1,
        "width": 0.8,
        "x": 0.1,
        "y": 0.18544726301735648
       },
       "content": {
        "cell": "element_hrule",
        "part": "whole"
       },
       "id": "slide_element_hrule_1"
      },
      "slide_element_hrule_3": {
       "attrs": {
        "height": 0.1,
        "width": 0.8,
        "x": 0.1,
        "y": 0.85
       },
       "content": {
        "cell": "element_hrule3",
        "part": "whole"
       },
       "id": "slide_element_hrule_2"
      },
      "slide_element_title": {
       "attrs": {
        "height": 0.11428571428571424,
        "width": 0.8,
        "x": 0.1,
        "y": 0.05
       },
       "content": {
        "cell": "cell_title_ignore",
        "part": "whole"
       },
       "id": "slide_element_title"
      },
      "slide_footer_authors": {
       "attrs": {
        "height": 0.05,
        "width": 0.4,
        "x": 0.5,
        "y": 0.9
       },
       "content": {
        "cell": "footer_authors",
        "part": "whole"
       },
       "id": "slide_footer_authors"
      },
      "slide_footer_title": {
       "attrs": {
        "height": 0.05,
        "width": 0.4,
        "x": 0.1,
        "y": 0.9
       },
       "content": {
        "cell": "footer_title",
        "part": "whole"
       },
       "id": "slide_footer_title"
      },
      "slide_region_test": {
       "attrs": {
        "height": 0.1,
        "width": 0.8,
        "x": 0.1,
        "y": 0.25
       },
       "content": {
        "cell": "cell_test_ignore",
        "part": "source"
       },
       "id": "slide_region_test"
      },
      "slide_region_testoutput": {
       "attrs": {
        "height": 0.45,
        "width": 0.96,
        "x": 0.02,
        "y": 0.4
       },
       "content": {
        "cell": "cell_test_ignore",
        "part": "outputs"
       },
       "id": "slide_region_testoutput"
      }
     }
    },
    "jupyterintro": {
     "id": "jupyterintro",
     "prev": "contents",
     "regions": {
      "slide_content": {
       "attrs": {
        "height": 0.8,
        "width": 0.8,
        "x": 0.1,
        "y": 0.25
       },
       "content": {
        "cell": "cell_content_intro",
        "part": "whole"
       },
       "id": "slide_content"
      },
      "slide_element_hrule_1": {
       "attrs": {
        "height": 0.1,
        "width": 0.8,
        "x": 0.1,
        "y": 0.18544726301735648
       },
       "content": {
        "cell": "element_hrule",
        "part": "whole"
       },
       "id": "slide_element_hrule_1"
      },
      "slide_element_title": {
       "attrs": {
        "height": 0.11428571428571424,
        "width": 0.8,
        "x": 0.1,
        "y": 0.05
       },
       "content": {
        "cell": "cell_title_intro",
        "part": "whole"
       },
       "id": "slide_element_title"
      },
      "slide_footer_authors": {
       "attrs": {
        "height": 0.05,
        "width": 0.4,
        "x": 0.5,
        "y": 0.9
       },
       "content": {
        "cell": "footer_authors",
        "part": "whole"
       },
       "id": "slide_footer_authors"
      },
      "slide_footer_title": {
       "attrs": {
        "height": 0.05,
        "width": 0.4,
        "x": 0.1,
        "y": 0.9
       },
       "content": {
        "cell": "footer_title",
        "part": "whole"
       },
       "id": "slide_footer_title"
      }
     }
    },
    "maintitle": {
     "id": "maintitle",
     "prev": null,
     "regions": {
      "region_authors": {
       "attrs": {
        "height": 0.4,
        "width": 0.8,
        "x": 0.1,
        "y": 0.5
       },
       "content": {
        "cell": "cell_authors_maintitle",
        "part": "whole"
       },
       "id": "region_authors"
      },
      "region_title": {
       "attrs": {
        "height": 0.5,
        "width": 0.8,
        "x": 0.1,
        "y": 0.1
       },
       "content": {
        "cell": "cell_title_maintitle",
        "part": "whole"
       },
       "id": "region_title"
      }
     },
     "theme": "my-titletheme"
    },
    "nbconverttransition": {
     "id": "nbconverttransition",
     "prev": "jupyterintro",
     "regions": {
      "region_title": {
       "attrs": {
        "height": 0.5,
        "width": 0.8,
        "x": 0.1,
        "y": 0.1
       },
       "content": {
        "cell": "cell_title_transition_nbconvert",
        "part": "whole"
       },
       "id": "region_title"
      }
     },
     "theme": "my-titletheme"
    },
    "nbdimetransition": {
     "id": "nbdimetransition",
     "prev": "nbconverttransition",
     "regions": {
      "region_title": {
       "attrs": {
        "height": 0.5,
        "width": 0.8,
        "x": 0.1,
        "y": 0.1
       },
       "content": {
        "cell": "cell_title_transition_nbdime",
        "part": "whole"
       },
       "id": "region_title"
      }
     },
     "theme": "my-titletheme"
    },
    "nbvalcellexec": {
     "id": "nbvalcellexec",
     "prev": "nbvaluse",
     "regions": {
      "slide_content": {
       "attrs": {
        "height": 0.8,
        "width": 0.8,
        "x": 0.1,
        "y": 0.25
       },
       "content": {
        "cell": "cell_content_cellexecution",
        "part": "whole"
       },
       "id": "slide_content"
      },
      "slide_element_hrule_1": {
       "attrs": {
        "height": 0.1,
        "width": 0.8,
        "x": 0.1,
        "y": 0.18544726301735648
       },
       "content": {
        "cell": "element_hrule",
        "part": "whole"
       },
       "id": "slide_element_hrule_1"
      },
      "slide_element_title": {
       "attrs": {
        "height": 0.11428571428571424,
        "width": 0.8,
        "x": 0.1,
        "y": 0.05
       },
       "content": {
        "cell": "cell_title_cellexecution",
        "part": "whole"
       },
       "id": "slide_element_title"
      },
      "slide_footer_authors": {
       "attrs": {
        "height": 0.05,
        "width": 0.4,
        "x": 0.5,
        "y": 0.9
       },
       "content": {
        "cell": "footer_authors",
        "part": "whole"
       },
       "id": "slide_footer_authors"
      },
      "slide_footer_title": {
       "attrs": {
        "height": 0.05,
        "width": 0.4,
        "x": 0.1,
        "y": 0.9
       },
       "content": {
        "cell": "footer_title",
        "part": "whole"
       },
       "id": "slide_footer_title"
      }
     }
    },
    "nbvalexec": {
     "id": "nbvalexec",
     "prev": "nbvalfunc",
     "regions": {
      "slide_content": {
       "attrs": {
        "height": 0.8,
        "width": 0.8,
        "x": 0.1,
        "y": 0.25
       },
       "content": {
        "cell": "cell_content_stages",
        "part": "whole"
       },
       "id": "slide_content"
      },
      "slide_element_hrule_1": {
       "attrs": {
        "height": 0.1,
        "width": 0.8,
        "x": 0.1,
        "y": 0.18544726301735648
       },
       "content": {
        "cell": "element_hrule",
        "part": "whole"
       },
       "id": "slide_element_hrule_1"
      },
      "slide_element_title": {
       "attrs": {
        "height": 0.11428571428571424,
        "width": 0.8,
        "x": 0.1,
        "y": 0.05
       },
       "content": {
        "cell": "cell_title_stages",
        "part": "whole"
       },
       "id": "slide_element_title"
      },
      "slide_footer_authors": {
       "attrs": {
        "height": 0.05,
        "width": 0.4,
        "x": 0.5,
        "y": 0.9
       },
       "content": {
        "cell": "footer_authors",
        "part": "whole"
       },
       "id": "slide_footer_authors"
      },
      "slide_footer_title": {
       "attrs": {
        "height": 0.05,
        "width": 0.4,
        "x": 0.1,
        "y": 0.9
       },
       "content": {
        "cell": "footer_title",
        "part": "whole"
       },
       "id": "slide_footer_title"
      }
     }
    },
    "nbvalfunc": {
     "id": "nbvalfunc",
     "prev": "nbvaltransition",
     "regions": {
      "slide_content": {
       "attrs": {
        "height": 0.8,
        "width": 0.8,
        "x": 0.1,
        "y": 0.25
       },
       "content": {
        "cell": "cell_content_func",
        "part": "whole"
       },
       "id": "slide_content"
      },
      "slide_element_hrule_1": {
       "attrs": {
        "height": 0.1,
        "width": 0.8,
        "x": 0.1,
        "y": 0.18544726301735648
       },
       "content": {
        "cell": "element_hrule",
        "part": "whole"
       },
       "id": "slide_element_hrule_1"
      },
      "slide_element_title": {
       "attrs": {
        "height": 0.11428571428571424,
        "width": 0.8,
        "x": 0.1,
        "y": 0.05
       },
       "content": {
        "cell": "cell_title_func",
        "part": "whole"
       },
       "id": "slide_element_title"
      },
      "slide_footer_authors": {
       "attrs": {
        "height": 0.05,
        "width": 0.4,
        "x": 0.5,
        "y": 0.9
       },
       "content": {
        "cell": "footer_authors",
        "part": "whole"
       },
       "id": "slide_footer_authors"
      },
      "slide_footer_title": {
       "attrs": {
        "height": 0.05,
        "width": 0.4,
        "x": 0.1,
        "y": 0.9
       },
       "content": {
        "cell": "footer_title",
        "part": "whole"
       },
       "id": "slide_footer_title"
      }
     }
    },
    "nbvalmodes": {
     "id": "nbvalmodes",
     "prev": "nbvalcellexec",
     "regions": {
      "slide_content": {
       "attrs": {
        "height": 0.8,
        "width": 0.8,
        "x": 0.1,
        "y": 0.25
       },
       "content": {
        "cell": "cell_content_modes",
        "part": "whole"
       },
       "id": "slide_content"
      },
      "slide_element_hrule_1": {
       "attrs": {
        "height": 0.1,
        "width": 0.8,
        "x": 0.1,
        "y": 0.18544726301735648
       },
       "content": {
        "cell": "element_hrule",
        "part": "whole"
       },
       "id": "slide_element_hrule_1"
      },
      "slide_element_title": {
       "attrs": {
        "height": 0.11428571428571424,
        "width": 0.8,
        "x": 0.1,
        "y": 0.05
       },
       "content": {
        "cell": "cell_title_modes",
        "part": "whole"
       },
       "id": "slide_element_title"
      },
      "slide_footer_authors": {
       "attrs": {
        "height": 0.05,
        "width": 0.4,
        "x": 0.5,
        "y": 0.9
       },
       "content": {
        "cell": "footer_authors",
        "part": "whole"
       },
       "id": "slide_footer_authors"
      },
      "slide_footer_title": {
       "attrs": {
        "height": 0.05,
        "width": 0.4,
        "x": 0.1,
        "y": 0.9
       },
       "content": {
        "cell": "footer_title",
        "part": "whole"
       },
       "id": "slide_footer_title"
      }
     }
    },
    "nbvaltransition": {
     "id": "nbvaltransition",
     "prev": "nbdimetransition",
     "regions": {
      "region_title": {
       "attrs": {
        "height": 0.5,
        "width": 0.8,
        "x": 0.1,
        "y": 0.1
       },
       "content": {
        "cell": "cell_title_transition_nbval",
        "part": "whole"
       },
       "id": "region_title"
      }
     },
     "theme": "my-titletheme"
    },
    "nbvaluse": {
     "id": "nbvaluse",
     "prev": "nbvalexec",
     "regions": {
      "slide_content": {
       "attrs": {
        "height": 0.8,
        "width": 0.8,
        "x": 0.1,
        "y": 0.25
       },
       "content": {
        "cell": "cell_content_usecase",
        "part": "whole"
       },
       "id": "slide_content"
      },
      "slide_element_hrule_1": {
       "attrs": {
        "height": 0.1,
        "width": 0.8,
        "x": 0.1,
        "y": 0.18544726301735648
       },
       "content": {
        "cell": "element_hrule",
        "part": "whole"
       },
       "id": "slide_element_hrule_1"
      },
      "slide_element_title": {
       "attrs": {
        "height": 0.11428571428571424,
        "width": 0.8,
        "x": 0.1,
        "y": 0.05
       },
       "content": {
        "cell": "cell_title_usecase",
        "part": "whole"
       },
       "id": "slide_element_title"
      },
      "slide_footer_authors": {
       "attrs": {
        "height": 0.05,
        "width": 0.4,
        "x": 0.5,
        "y": 0.9
       },
       "content": {
        "cell": "footer_authors",
        "part": "whole"
       },
       "id": "slide_footer_authors"
      },
      "slide_footer_title": {
       "attrs": {
        "height": 0.05,
        "width": 0.4,
        "x": 0.1,
        "y": 0.9
       },
       "content": {
        "cell": "footer_title",
        "part": "whole"
       },
       "id": "slide_footer_title"
      }
     }
    },
    "otherfeatures": {
     "id": "otherfeatures",
     "prev": "except_3_test",
     "regions": {
      "slide_content": {
       "attrs": {
        "height": 0.8,
        "width": 0.8,
        "x": 0.1,
        "y": 0.25
       },
       "content": {
        "cell": "cell_content_otherfeatures",
        "part": "whole"
       },
       "id": "slide_content"
      },
      "slide_element_hrule_1": {
       "attrs": {
        "height": 0.1,
        "width": 0.8,
        "x": 0.1,
        "y": 0.18544726301735648
       },
       "content": {
        "cell": "element_hrule",
        "part": "whole"
       },
       "id": "slide_element_hrule_1"
      },
      "slide_element_title": {
       "attrs": {
        "height": 0.11428571428571424,
        "width": 0.8,
        "x": 0.1,
        "y": 0.05
       },
       "content": {
        "cell": "cell_title_otherfeatures",
        "part": "whole"
       },
       "id": "slide_element_title"
      },
      "slide_footer_authors": {
       "attrs": {
        "height": 0.05,
        "width": 0.4,
        "x": 0.5,
        "y": 0.9
       },
       "content": {
        "cell": "footer_authors",
        "part": "whole"
       },
       "id": "slide_footer_authors"
      },
      "slide_footer_title": {
       "attrs": {
        "height": 0.05,
        "width": 0.4,
        "x": 0.1,
        "y": 0.9
       },
       "content": {
        "cell": "footer_title",
        "part": "whole"
       },
       "id": "slide_footer_title"
      }
     }
    },
    "skippingcells": {
     "id": "skippingcells",
     "prev": "basic_fail_test",
     "regions": {
      "slide_element_hrule_1": {
       "attrs": {
        "height": 0.1,
        "width": 0.8,
        "x": 0.1,
        "y": 0.34699599465954606
       },
       "content": {
        "cell": "element_hrule",
        "part": "whole"
       },
       "id": "slide_element_hrule_1"
      },
      "slide_element_hrule_2": {
       "attrs": {
        "height": 0.1,
        "width": 0.8,
        "x": 0.1,
        "y": 0.18544726301735648
       },
       "content": {
        "cell": "element_hrule2",
        "part": "whole"
       },
       "id": "slide_element_hrule_2"
      },
      "slide_element_hrule_3": {
       "attrs": {
        "height": 0.1,
        "width": 0.8,
        "x": 0.1,
        "y": 0.85
       },
       "content": {
        "cell": "element_hrule3",
        "part": "whole"
       },
       "id": "slide_element_hrule_2"
      },
      "slide_element_title": {
       "attrs": {
        "height": 0.11428571428571424,
        "width": 0.8,
        "x": 0.1,
        "y": 0.05
       },
       "content": {
        "cell": "cell_title_skippingcells",
        "part": "whole"
       },
       "id": "slide_element_title"
      },
      "slide_footer_authors": {
       "attrs": {
        "height": 0.05,
        "width": 0.4,
        "x": 0.5,
        "y": 0.9
       },
       "content": {
        "cell": "footer_authors",
        "part": "whole"
       },
       "id": "slide_footer_authors"
      },
      "slide_footer_title": {
       "attrs": {
        "height": 0.05,
        "width": 0.4,
        "x": 0.1,
        "y": 0.9
       },
       "content": {
        "cell": "footer_title",
        "part": "whole"
       },
       "id": "slide_footer_title"
      },
      "slide_label_input": {
       "attrs": {
        "height": 0.06568758344459286,
        "width": 0.2,
        "x": 0.1,
        "y": 0.4
       },
       "content": {
        "cell": "label_input",
        "part": "whole"
       },
       "id": "slide_region_input"
      },
      "slide_label_marker": {
       "attrs": {
        "height": 0.1,
        "width": 0.2,
        "x": 0.1,
        "y": 0.25
       },
       "content": {
        "cell": "label_marker",
        "part": "whole"
       },
       "id": "slide_label_marker"
      },
      "slide_label_output": {
       "attrs": {
        "height": 0.2,
        "width": 0.2,
        "x": 0.1,
        "y": 0.65
       },
       "content": {
        "cell": "label_output",
        "part": "whole"
       },
       "id": "slide_region_output"
      },
      "slide_region_input": {
       "attrs": {
        "height": 0.2,
        "width": 0.6,
        "x": 0.3,
        "y": 0.4
       },
       "content": {
        "cell": "cell_content_skippingcells",
        "part": "source"
       },
       "id": "slide_region_input"
      },
      "slide_region_marker": {
       "attrs": {
        "height": 0.1,
        "width": 0.6,
        "x": 0.3,
        "y": 0.25
       },
       "content": {
        "cell": "cell_marker_skippingcells",
        "part": "whole"
       },
       "id": "slide_region_marker"
      },
      "slide_region_output": {
       "attrs": {
        "height": 0.2,
        "width": 0.6,
        "x": 0.3,
        "y": 0.65
       },
       "content": {
        "cell": "cell_content_skippingcells",
        "part": "outputs"
       },
       "id": "slide_region_output"
      }
     }
    },
    "skippingcells_test": {
     "id": "skippingcells_test",
     "prev": "skippingcells",
     "regions": {
      "slide_element_hrule_1": {
       "attrs": {
        "height": 0.1,
        "width": 0.8,
        "x": 0.1,
        "y": 0.18544726301735648
       },
       "content": {
        "cell": "element_hrule",
        "part": "whole"
       },
       "id": "slide_element_hrule_1"
      },
      "slide_element_hrule_3": {
       "attrs": {
        "height": 0.1,
        "width": 0.8,
        "x": 0.1,
        "y": 0.85
       },
       "content": {
        "cell": "element_hrule3",
        "part": "whole"
       },
       "id": "slide_element_hrule_2"
      },
      "slide_element_title": {
       "attrs": {
        "height": 0.11428571428571424,
        "width": 0.8,
        "x": 0.1,
        "y": 0.05
       },
       "content": {
        "cell": "cell_title_skippingcells",
        "part": "whole"
       },
       "id": "slide_element_title"
      },
      "slide_footer_authors": {
       "attrs": {
        "height": 0.05,
        "width": 0.4,
        "x": 0.5,
        "y": 0.9
       },
       "content": {
        "cell": "footer_authors",
        "part": "whole"
       },
       "id": "slide_footer_authors"
      },
      "slide_footer_title": {
       "attrs": {
        "height": 0.05,
        "width": 0.4,
        "x": 0.1,
        "y": 0.9
       },
       "content": {
        "cell": "footer_title",
        "part": "whole"
       },
       "id": "slide_footer_title"
      },
      "slide_region_test": {
       "attrs": {
        "height": 0.1,
        "width": 0.8,
        "x": 0.1,
        "y": 0.25
       },
       "content": {
        "cell": "cell_test_skippingcells",
        "part": "source"
       },
       "id": "slide_region_test"
      },
      "slide_region_testoutput": {
       "attrs": {
        "height": 0.45,
        "width": 0.96,
        "x": 0.02,
        "y": 0.4
       },
       "content": {
        "cell": "cell_test_skippingcells",
        "part": "outputs"
       },
       "id": "slide_region_testoutput"
      }
     }
    }
   },
   "themes": {
    "default": "my-theme",
    "theme": {
     "my-theme": {
      "backgrounds": {
       "my-background": {
        "background-color": "my-white"
       }
      },
      "id": "my-theme",
      "palette": {
       "my-black": {
        "id": "my-black",
        "rgb": [
         0,
         0,
         0
        ]
       },
       "my-green": {
        "id": "my-green",
        "rgb": [
         0,
         80,
         0
        ]
       },
       "my-testcolor": {
        "id": "my-testcolor",
        "rgb": [
         255,
         0,
         0
        ]
       },
       "my-white": {
        "id": "my-white",
        "rgb": [
         255,
         255,
         255
        ]
       }
      },
      "rules": {
       "h1": {
        "color": "my-black",
        "font-size": 10
       },
       "h2": {
        "color": "my-black",
        "font-size": 6
       },
       "h4": {
        "color": "my-black",
        "font-size": 4
       },
       "h5": {
        "color": "my-green"
       },
       "li": {
        "color": "my-black",
        "font-size": 4
       },
       "p": {
        "color": "my-green",
        "font-size": 5
       },
       "pre": {
        "color": "my-black",
        "font-size": 2.4
       }
      },
      "text-base": {
       "font-family": "Helvetica Neue",
       "font-size": 2
      }
     },
     "my-titletheme": {
      "backgrounds": {
       "my-background": {
        "background-color": "my-green"
       }
      },
      "id": "my-titletheme",
      "palette": {
       "my-black": {
        "id": "my-black",
        "rgb": [
         0,
         0,
         0
        ]
       },
       "my-green": {
        "id": "my-green",
        "rgb": [
         135,
         194,
         46
        ]
       },
       "my-testcolor": {
        "id": "my-testcolor",
        "rgb": [
         255,
         0,
         0
        ]
       },
       "my-white": {
        "id": "my-white",
        "rgb": [
         255,
         255,
         255
        ]
       }
      },
      "rules": {
       "h1": {
        "color": "my_white",
        "font-size": 10
       },
       "h2": {
        "color": "my-black",
        "font-size": 6
       },
       "h4": {
        "color": "my-black",
        "font-size": 4
       },
       "h5": {
        "color": "my-green"
       },
       "li": {
        "color": "my_white",
        "font-size": 4
       },
       "p": {
        "color": "my-green",
        "font-size": 5
       },
       "pre": {
        "color": "my-black",
        "font-size": 2.4
       }
      },
      "text-base": {
       "font-family": "Helvetica Neue",
       "font-size": 2
      }
     }
    }
   }
  }
 },
 "nbformat": 4,
 "nbformat_minor": 2
}
